{
 "cells": [
  {
   "cell_type": "code",
   "execution_count": null,
   "id": "d3bc0e37",
   "metadata": {},
   "outputs": [],
   "source": [
    "PODCAST_NAME = 'lex_fridman'\n",
    "\n",
    "# episode index\n",
    "START_INDEX = 0\n",
    "END_INDEX = 9"
   ]
  },
  {
   "cell_type": "code",
   "execution_count": 1,
   "id": "6042a9d8",
   "metadata": {},
   "outputs": [
    {
     "name": "stdout",
     "output_type": "stream",
     "text": [
      "Importing DEVELOPMENT config...\n"
     ]
    }
   ],
   "source": [
    "import os\n",
    "from google import genai\n",
    "from dotenv import load_dotenv\n",
    "from pydantic import BaseModel\n",
    "import pandas as pd\n",
    "import json\n",
    "import plotly.express as px\n",
    "import plotly.graph_objects as go\n",
    "\n",
    "import sys\n",
    "from pathlib import Path\n",
    "\n",
    "project_root = Path.cwd().parent.parent.parent\n",
    "sys.path.append(str(project_root))\n",
    "\n",
    "from src.config import PODCAST_TANSCRIBED_PATHS, PODCAST_SEGMENTED_DIRS"
   ]
  },
  {
   "cell_type": "code",
   "execution_count": 2,
   "id": "77b83574",
   "metadata": {},
   "outputs": [],
   "source": [
    "def plot_episode_segments_timeline(episode_path):\n",
    "\n",
    "   with open(episode_path, 'r') as f:\n",
    "       segments = json.load(f)\n",
    "\n",
    "   fig = go.Figure()\n",
    "\n",
    "   y_positions = []\n",
    "   for i, segment in enumerate(segments):\n",
    "       y_pos = i\n",
    "       y_positions.append(y_pos)\n",
    "\n",
    "       fig.add_shape(\n",
    "           type=\"rect\",\n",
    "           x0=segment['start_index'],\n",
    "           x1=segment['end_index'],\n",
    "           y0=y_pos - 0.3,\n",
    "           y1=y_pos + 0.3,\n",
    "           fillcolor=f\"hsl({i * 360 / len(segments)}, 70%, 50%)\",\n",
    "           opacity=0.8,\n",
    "           line=dict(width=1, color=\"black\")\n",
    "       )\n",
    "\n",
    "       fig.add_trace(go.Scatter(\n",
    "           x=[(segment['start_index'] + segment['end_index']) / 2],\n",
    "           y=[y_pos],\n",
    "           mode='markers',\n",
    "           marker=dict(size=0.1, opacity=0),\n",
    "           hovertemplate=(\n",
    "               f\"<b>{segment['topic_description_llm'][:50]}...</b><br>\" +\n",
    "               f\"Start: {segment['start_index']:,}<br>\" +\n",
    "               f\"End: {segment['end_index']:,}<br>\" +\n",
    "               f\"Length: {segment['character_length']:,}<br>\" +\n",
    "               f\"Text: {'<br>'.join(segment['segment_text'][:50].split('. '))}...<br>\" +\n",
    "               \"<extra></extra>\"\n",
    "           ),\n",
    "           showlegend=False\n",
    "       ))\n",
    "\n",
    "       fig.add_annotation(\n",
    "           x=(segment['start_index'] + segment['end_index']) / 2,\n",
    "           y=y_pos,\n",
    "           text=f\"{segment['segment_id']}\",\n",
    "           showarrow=False,\n",
    "           font=dict(color='black', size=12, family=\"Arial Black\"),\n",
    "           bgcolor='rgba(255,255,255,0.3)',\n",
    "           borderpad=4\n",
    "       )\n",
    "\n",
    "   overlaps = []\n",
    "   for i in range(len(segments) - 1):\n",
    "       if segments[i]['end_index'] > segments[i+1]['start_index']:\n",
    "           overlap_start = segments[i+1]['start_index']\n",
    "           overlap_end = min(segments[i]['end_index'], segments[i+1]['end_index'])\n",
    "           overlaps.append({\n",
    "               'segments': (i, i+1),\n",
    "               'start': overlap_start,\n",
    "               'end': overlap_end,\n",
    "               'length': overlap_end - overlap_start\n",
    "           })\n",
    "\n",
    "           fig.add_shape(\n",
    "               type=\"rect\",\n",
    "               x0=overlap_start,\n",
    "               x1=overlap_end,\n",
    "               y0=-0.5,\n",
    "               y1=len(segments) - 0.5,\n",
    "               fillcolor=\"red\",\n",
    "               opacity=0.2,\n",
    "               line=dict(width=0)\n",
    "           )\n",
    "\n",
    "   fig.update_layout(\n",
    "       title=f\"Episode Segments Timeline - Character Positions \\n {episode_path}\",\n",
    "       xaxis_title=\"Character Position\",\n",
    "       yaxis_title=\"Segment\",\n",
    "       height=max(400, len(segments) * 80),\n",
    "       showlegend=False,\n",
    "       yaxis=dict(\n",
    "           tickmode='array',\n",
    "           tickvals=y_positions,\n",
    "           ticktext=[f\"Seg {s['segment_id']}: {s['topic_description_llm'][:40]}...\" for s in segments],\n",
    "           autorange='reversed'\n",
    "       ),\n",
    "       xaxis=dict(\n",
    "           showgrid=True,\n",
    "           gridwidth=1,\n",
    "           gridcolor='LightGrey'\n",
    "       ),\n",
    "       hovermode='closest'\n",
    "   )\n",
    "\n",
    "   return fig, overlaps\n",
    "\n",
    "def plot_episode_segments_multiple_timelines(episode_paths):\n",
    "    for episode_path in episode_paths:\n",
    "        fig, overlaps = plot_episode_segments_timeline(episode_path)\n",
    "        fig.show()\n",
    "\n",
    "        if overlaps:\n",
    "            print(f\"\\nFound {len(overlaps)} overlapping segments:\")\n",
    "            for overlap in overlaps:\n",
    "                print(f\"  Segments {overlap['segments'][0]} and {overlap['segments'][1]}: \"\n",
    "                        f\"{overlap['length']:,} characters overlap \"\n",
    "                        f\"(positions {overlap['start']:,} to {overlap['end']:,})\")"
   ]
  },
  {
   "cell_type": "code",
   "execution_count": null,
   "id": "492facdb",
   "metadata": {},
   "outputs": [
    {
     "data": {
      "application/vnd.plotly.v1+json": {
       "config": {
        "plotlyServerURL": "https://plot.ly"
       },
       "data": [
        {
         "hovertemplate": "<b>Introduction to Max Tegmark...</b><br>Start: 1<br>End: 666<br>Length: 665<br>Text: As part of MIT course 6 as 099, Artificial General...<br><extra></extra>",
         "marker": {
          "opacity": 0,
          "size": 0.1
         },
         "mode": "markers",
         "showlegend": false,
         "type": "scatter",
         "x": [
          333.5
         ],
         "y": [
          0
         ]
        },
        {
         "hovertemplate": "<b>Challenges in Audio Recording...</b><br>Start: 1,392<br>End: 2,183<br>Length: 791<br>Text: I've learned about something called radio frequenc...<br><extra></extra>",
         "marker": {
          "opacity": 0,
          "size": 0.1
         },
         "mode": "markers",
         "showlegend": false,
         "type": "scatter",
         "x": [
          1787.5
         ],
         "y": [
          1
         ]
        },
        {
         "hovertemplate": "<b>Intelligent Life in Universe...</b><br>Start: 2,184<br>End: 4,713<br>Length: 2,529<br>Text: Do you think there's intelligent life out there in...<br><extra></extra>",
         "marker": {
          "opacity": 0,
          "size": 0.1
         },
         "mode": "markers",
         "showlegend": false,
         "type": "scatter",
         "x": [
          3448.5
         ],
         "y": [
          2
         ]
        },
        {
         "hovertemplate": "<b>The Great Filter Hypothesis...</b><br>Start: 4,714<br>End: 6,634<br>Length: 1,920<br>Text: I think people who take for granted that it's OK f...<br><extra></extra>",
         "marker": {
          "opacity": 0,
          "size": 0.1
         },
         "mode": "markers",
         "showlegend": false,
         "type": "scatter",
         "x": [
          5674
         ],
         "y": [
          3
         ]
        },
        {
         "hovertemplate": "<b>Physics of Consciousness...</b><br>Start: 6,635<br>End: 8,395<br>Length: 1,760<br>Text: That would be a bummer<br>Yeah, so you've explored t...<br><extra></extra>",
         "marker": {
          "opacity": 0,
          "size": 0.1
         },
         "mode": "markers",
         "showlegend": false,
         "type": "scatter",
         "x": [
          7515
         ],
         "y": [
          4
         ]
        },
        {
         "hovertemplate": "<b>Defining Consciousness...</b><br>Start: 8,487<br>End: 10,581<br>Length: 2,094<br>Text: Yeah, so the perceptronium<br>Yeah<br>So you coined th...<br><extra></extra>",
         "marker": {
          "opacity": 0,
          "size": 0.1
         },
         "mode": "markers",
         "showlegend": false,
         "type": "scatter",
         "x": [
          9534
         ],
         "y": [
          5
         ]
        },
        {
         "hovertemplate": "<b>Consciousness and Embodiment...</b><br>Start: 10,582<br>End: 11,758<br>Length: 1,176<br>Text: Even if I just ask you to read what it says here, ...<br><extra></extra>",
         "marker": {
          "opacity": 0,
          "size": 0.1
         },
         "mode": "markers",
         "showlegend": false,
         "type": "scatter",
         "x": [
          11170
         ],
         "y": [
          6
         ]
        },
        {
         "hovertemplate": "<b>Self-Preservation in AGI...</b><br>Start: 11,785<br>End: 19,245<br>Length: 7,460<br>Text: Well, certainly I would prefer the appearance of c...<br><extra></extra>",
         "marker": {
          "opacity": 0,
          "size": 0.1
         },
         "mode": "markers",
         "showlegend": false,
         "type": "scatter",
         "x": [
          15515
         ],
         "y": [
          7
         ]
        },
        {
         "hovertemplate": "<b>Defining Intelligence and AGI...</b><br>Start: 19,246<br>End: 22,560<br>Length: 3,314<br>Text: Right<br>And this is really interesting because I th...<br><extra></extra>",
         "marker": {
          "opacity": 0,
          "size": 0.1
         },
         "mode": "markers",
         "showlegend": false,
         "type": "scatter",
         "x": [
          20903
         ],
         "y": [
          8
         ]
        },
        {
         "hovertemplate": "<b>Creativity and Intelligence...</b><br>Start: 22,561<br>End: 26,643<br>Length: 4,082<br>Text: And similarly, consciousness, I mean, you can cert...<br><extra></extra>",
         "marker": {
          "opacity": 0,
          "size": 0.1
         },
         "mode": "markers",
         "showlegend": false,
         "type": "scatter",
         "x": [
          24602
         ],
         "y": [
          9
         ]
        },
        {
         "hovertemplate": "<b>The Zombie Apocalypse Scenario...</b><br>Start: 26,644<br>End: 32,659<br>Length: 6,015<br>Text: be driven by machines, not humans<br>So it's this si...<br><extra></extra>",
         "marker": {
          "opacity": 0,
          "size": 0.1
         },
         "mode": "markers",
         "showlegend": false,
         "type": "scatter",
         "x": [
          29651.5
         ],
         "y": [
          10
         ]
        },
        {
         "hovertemplate": "<b>Human Vanity and AI...</b><br>Start: 32,660<br>End: 36,979<br>Length: 4,319<br>Text: So I would much rather in that case that we have t...<br><extra></extra>",
         "marker": {
          "opacity": 0,
          "size": 0.1
         },
         "mode": "markers",
         "showlegend": false,
         "type": "scatter",
         "x": [
          34819.5
         ],
         "y": [
          11
         ]
        },
        {
         "hovertemplate": "<b>The Value Alignment Problem...</b><br>Start: 36,980<br>End: 39,097<br>Length: 2,117<br>Text: That's a really interesting..<br>People don't often ...<br><extra></extra>",
         "marker": {
          "opacity": 0,
          "size": 0.1
         },
         "mode": "markers",
         "showlegend": false,
         "type": "scatter",
         "x": [
          38038.5
         ],
         "y": [
          12
         ]
        },
        {
         "hovertemplate": "<b>Implementing Basic Values in AI...</b><br>Start: 39,098<br>End: 43,150<br>Length: 4,052<br>Text: So the cool, interesting problem there is us as hu...<br><extra></extra>",
         "marker": {
          "opacity": 0,
          "size": 0.1
         },
         "mode": "markers",
         "showlegend": false,
         "type": "scatter",
         "x": [
          41124
         ],
         "y": [
          13
         ]
        },
        {
         "hovertemplate": "<b>AI Communication and Explainability...</b><br>Start: 43,151<br>End: 51,714<br>Length: 8,563<br>Text: start there<br>So there's a lot of that's a that's a...<br><extra></extra>",
         "marker": {
          "opacity": 0,
          "size": 0.1
         },
         "mode": "markers",
         "showlegend": false,
         "type": "scatter",
         "x": [
          47432.5
         ],
         "y": [
          14
         ]
        },
        {
         "hovertemplate": "<b>Deep Learning and Brains...</b><br>Start: 51,715<br>End: 54,363<br>Length: 2,648<br>Text: the alignment, the alignment of goals, at least aw...<br><extra></extra>",
         "marker": {
          "opacity": 0,
          "size": 0.1
         },
         "mode": "markers",
         "showlegend": false,
         "type": "scatter",
         "x": [
          53039
         ],
         "y": [
          15
         ]
        },
        {
         "hovertemplate": "<b>Quantum Computing and AI...</b><br>Start: 54,364<br>End: 61,139<br>Length: 6,775<br>Text: Just like we we understood how to build flying mac...<br><extra></extra>",
         "marker": {
          "opacity": 0,
          "size": 0.1
         },
         "mode": "markers",
         "showlegend": false,
         "type": "scatter",
         "x": [
          57751.5
         ],
         "y": [
          16
         ]
        },
        {
         "hovertemplate": "<b>AI and Human Connection...</b><br>Start: 61,140<br>End: 63,661<br>Length: 2,521<br>Text: That's really interesting<br>OK, so as a component o...<br><extra></extra>",
         "marker": {
          "opacity": 0,
          "size": 0.1
         },
         "mode": "markers",
         "showlegend": false,
         "type": "scatter",
         "x": [
          62400.5
         ],
         "y": [
          17
         ]
        },
        {
         "hovertemplate": "<b>Future of Humanity with AI...</b><br>Start: 63,662<br>End: 73,794<br>Length: 10,132<br>Text: A lot of people that seriously study this problem ...<br><extra></extra>",
         "marker": {
          "opacity": 0,
          "size": 0.1
         },
         "mode": "markers",
         "showlegend": false,
         "type": "scatter",
         "x": [
          68728
         ],
         "y": [
          18
         ]
        },
        {
         "hovertemplate": "<b>AI for Societal Progress...</b><br>Start: 73,794<br>End: 74,462<br>Length: 668<br>Text: And if we want life to flourish throughout the cos...<br><extra></extra>",
         "marker": {
          "opacity": 0,
          "size": 0.1
         },
         "mode": "markers",
         "showlegend": false,
         "type": "scatter",
         "x": [
          74128
         ],
         "y": [
          19
         ]
        }
       ],
       "layout": {
        "annotations": [
         {
          "bgcolor": "rgba(255,255,255,0.3)",
          "borderpad": 4,
          "font": {
           "color": "black",
           "family": "Arial Black",
           "size": 12
          },
          "showarrow": false,
          "text": "0",
          "x": 333.5,
          "y": 0
         },
         {
          "bgcolor": "rgba(255,255,255,0.3)",
          "borderpad": 4,
          "font": {
           "color": "black",
           "family": "Arial Black",
           "size": 12
          },
          "showarrow": false,
          "text": "1",
          "x": 1787.5,
          "y": 1
         },
         {
          "bgcolor": "rgba(255,255,255,0.3)",
          "borderpad": 4,
          "font": {
           "color": "black",
           "family": "Arial Black",
           "size": 12
          },
          "showarrow": false,
          "text": "2",
          "x": 3448.5,
          "y": 2
         },
         {
          "bgcolor": "rgba(255,255,255,0.3)",
          "borderpad": 4,
          "font": {
           "color": "black",
           "family": "Arial Black",
           "size": 12
          },
          "showarrow": false,
          "text": "3",
          "x": 5674,
          "y": 3
         },
         {
          "bgcolor": "rgba(255,255,255,0.3)",
          "borderpad": 4,
          "font": {
           "color": "black",
           "family": "Arial Black",
           "size": 12
          },
          "showarrow": false,
          "text": "4",
          "x": 7515,
          "y": 4
         },
         {
          "bgcolor": "rgba(255,255,255,0.3)",
          "borderpad": 4,
          "font": {
           "color": "black",
           "family": "Arial Black",
           "size": 12
          },
          "showarrow": false,
          "text": "5",
          "x": 9534,
          "y": 5
         },
         {
          "bgcolor": "rgba(255,255,255,0.3)",
          "borderpad": 4,
          "font": {
           "color": "black",
           "family": "Arial Black",
           "size": 12
          },
          "showarrow": false,
          "text": "6",
          "x": 11170,
          "y": 6
         },
         {
          "bgcolor": "rgba(255,255,255,0.3)",
          "borderpad": 4,
          "font": {
           "color": "black",
           "family": "Arial Black",
           "size": 12
          },
          "showarrow": false,
          "text": "7",
          "x": 15515,
          "y": 7
         },
         {
          "bgcolor": "rgba(255,255,255,0.3)",
          "borderpad": 4,
          "font": {
           "color": "black",
           "family": "Arial Black",
           "size": 12
          },
          "showarrow": false,
          "text": "8",
          "x": 20903,
          "y": 8
         },
         {
          "bgcolor": "rgba(255,255,255,0.3)",
          "borderpad": 4,
          "font": {
           "color": "black",
           "family": "Arial Black",
           "size": 12
          },
          "showarrow": false,
          "text": "9",
          "x": 24602,
          "y": 9
         },
         {
          "bgcolor": "rgba(255,255,255,0.3)",
          "borderpad": 4,
          "font": {
           "color": "black",
           "family": "Arial Black",
           "size": 12
          },
          "showarrow": false,
          "text": "10",
          "x": 29651.5,
          "y": 10
         },
         {
          "bgcolor": "rgba(255,255,255,0.3)",
          "borderpad": 4,
          "font": {
           "color": "black",
           "family": "Arial Black",
           "size": 12
          },
          "showarrow": false,
          "text": "11",
          "x": 34819.5,
          "y": 11
         },
         {
          "bgcolor": "rgba(255,255,255,0.3)",
          "borderpad": 4,
          "font": {
           "color": "black",
           "family": "Arial Black",
           "size": 12
          },
          "showarrow": false,
          "text": "12",
          "x": 38038.5,
          "y": 12
         },
         {
          "bgcolor": "rgba(255,255,255,0.3)",
          "borderpad": 4,
          "font": {
           "color": "black",
           "family": "Arial Black",
           "size": 12
          },
          "showarrow": false,
          "text": "13",
          "x": 41124,
          "y": 13
         },
         {
          "bgcolor": "rgba(255,255,255,0.3)",
          "borderpad": 4,
          "font": {
           "color": "black",
           "family": "Arial Black",
           "size": 12
          },
          "showarrow": false,
          "text": "14",
          "x": 47432.5,
          "y": 14
         },
         {
          "bgcolor": "rgba(255,255,255,0.3)",
          "borderpad": 4,
          "font": {
           "color": "black",
           "family": "Arial Black",
           "size": 12
          },
          "showarrow": false,
          "text": "15",
          "x": 53039,
          "y": 15
         },
         {
          "bgcolor": "rgba(255,255,255,0.3)",
          "borderpad": 4,
          "font": {
           "color": "black",
           "family": "Arial Black",
           "size": 12
          },
          "showarrow": false,
          "text": "16",
          "x": 57751.5,
          "y": 16
         },
         {
          "bgcolor": "rgba(255,255,255,0.3)",
          "borderpad": 4,
          "font": {
           "color": "black",
           "family": "Arial Black",
           "size": 12
          },
          "showarrow": false,
          "text": "17",
          "x": 62400.5,
          "y": 17
         },
         {
          "bgcolor": "rgba(255,255,255,0.3)",
          "borderpad": 4,
          "font": {
           "color": "black",
           "family": "Arial Black",
           "size": 12
          },
          "showarrow": false,
          "text": "18",
          "x": 68728,
          "y": 18
         },
         {
          "bgcolor": "rgba(255,255,255,0.3)",
          "borderpad": 4,
          "font": {
           "color": "black",
           "family": "Arial Black",
           "size": 12
          },
          "showarrow": false,
          "text": "19",
          "x": 74128,
          "y": 19
         }
        ],
        "height": 1600,
        "hovermode": "closest",
        "shapes": [
         {
          "fillcolor": "hsl(0.0, 70%, 50%)",
          "line": {
           "color": "black",
           "width": 1
          },
          "opacity": 0.8,
          "type": "rect",
          "x0": 1,
          "x1": 666,
          "y0": -0.3,
          "y1": 0.3
         },
         {
          "fillcolor": "hsl(18.0, 70%, 50%)",
          "line": {
           "color": "black",
           "width": 1
          },
          "opacity": 0.8,
          "type": "rect",
          "x0": 1392,
          "x1": 2183,
          "y0": 0.7,
          "y1": 1.3
         },
         {
          "fillcolor": "hsl(36.0, 70%, 50%)",
          "line": {
           "color": "black",
           "width": 1
          },
          "opacity": 0.8,
          "type": "rect",
          "x0": 2184,
          "x1": 4713,
          "y0": 1.7,
          "y1": 2.3
         },
         {
          "fillcolor": "hsl(54.0, 70%, 50%)",
          "line": {
           "color": "black",
           "width": 1
          },
          "opacity": 0.8,
          "type": "rect",
          "x0": 4714,
          "x1": 6634,
          "y0": 2.7,
          "y1": 3.3
         },
         {
          "fillcolor": "hsl(72.0, 70%, 50%)",
          "line": {
           "color": "black",
           "width": 1
          },
          "opacity": 0.8,
          "type": "rect",
          "x0": 6635,
          "x1": 8395,
          "y0": 3.7,
          "y1": 4.3
         },
         {
          "fillcolor": "hsl(90.0, 70%, 50%)",
          "line": {
           "color": "black",
           "width": 1
          },
          "opacity": 0.8,
          "type": "rect",
          "x0": 8487,
          "x1": 10581,
          "y0": 4.7,
          "y1": 5.3
         },
         {
          "fillcolor": "hsl(108.0, 70%, 50%)",
          "line": {
           "color": "black",
           "width": 1
          },
          "opacity": 0.8,
          "type": "rect",
          "x0": 10582,
          "x1": 11758,
          "y0": 5.7,
          "y1": 6.3
         },
         {
          "fillcolor": "hsl(126.0, 70%, 50%)",
          "line": {
           "color": "black",
           "width": 1
          },
          "opacity": 0.8,
          "type": "rect",
          "x0": 11785,
          "x1": 19245,
          "y0": 6.7,
          "y1": 7.3
         },
         {
          "fillcolor": "hsl(144.0, 70%, 50%)",
          "line": {
           "color": "black",
           "width": 1
          },
          "opacity": 0.8,
          "type": "rect",
          "x0": 19246,
          "x1": 22560,
          "y0": 7.7,
          "y1": 8.3
         },
         {
          "fillcolor": "hsl(162.0, 70%, 50%)",
          "line": {
           "color": "black",
           "width": 1
          },
          "opacity": 0.8,
          "type": "rect",
          "x0": 22561,
          "x1": 26643,
          "y0": 8.7,
          "y1": 9.3
         },
         {
          "fillcolor": "hsl(180.0, 70%, 50%)",
          "line": {
           "color": "black",
           "width": 1
          },
          "opacity": 0.8,
          "type": "rect",
          "x0": 26644,
          "x1": 32659,
          "y0": 9.7,
          "y1": 10.3
         },
         {
          "fillcolor": "hsl(198.0, 70%, 50%)",
          "line": {
           "color": "black",
           "width": 1
          },
          "opacity": 0.8,
          "type": "rect",
          "x0": 32660,
          "x1": 36979,
          "y0": 10.7,
          "y1": 11.3
         },
         {
          "fillcolor": "hsl(216.0, 70%, 50%)",
          "line": {
           "color": "black",
           "width": 1
          },
          "opacity": 0.8,
          "type": "rect",
          "x0": 36980,
          "x1": 39097,
          "y0": 11.7,
          "y1": 12.3
         },
         {
          "fillcolor": "hsl(234.0, 70%, 50%)",
          "line": {
           "color": "black",
           "width": 1
          },
          "opacity": 0.8,
          "type": "rect",
          "x0": 39098,
          "x1": 43150,
          "y0": 12.7,
          "y1": 13.3
         },
         {
          "fillcolor": "hsl(252.0, 70%, 50%)",
          "line": {
           "color": "black",
           "width": 1
          },
          "opacity": 0.8,
          "type": "rect",
          "x0": 43151,
          "x1": 51714,
          "y0": 13.7,
          "y1": 14.3
         },
         {
          "fillcolor": "hsl(270.0, 70%, 50%)",
          "line": {
           "color": "black",
           "width": 1
          },
          "opacity": 0.8,
          "type": "rect",
          "x0": 51715,
          "x1": 54363,
          "y0": 14.7,
          "y1": 15.3
         },
         {
          "fillcolor": "hsl(288.0, 70%, 50%)",
          "line": {
           "color": "black",
           "width": 1
          },
          "opacity": 0.8,
          "type": "rect",
          "x0": 54364,
          "x1": 61139,
          "y0": 15.7,
          "y1": 16.3
         },
         {
          "fillcolor": "hsl(306.0, 70%, 50%)",
          "line": {
           "color": "black",
           "width": 1
          },
          "opacity": 0.8,
          "type": "rect",
          "x0": 61140,
          "x1": 63661,
          "y0": 16.7,
          "y1": 17.3
         },
         {
          "fillcolor": "hsl(324.0, 70%, 50%)",
          "line": {
           "color": "black",
           "width": 1
          },
          "opacity": 0.8,
          "type": "rect",
          "x0": 63662,
          "x1": 73794,
          "y0": 17.7,
          "y1": 18.3
         },
         {
          "fillcolor": "hsl(342.0, 70%, 50%)",
          "line": {
           "color": "black",
           "width": 1
          },
          "opacity": 0.8,
          "type": "rect",
          "x0": 73794,
          "x1": 74462,
          "y0": 18.7,
          "y1": 19.3
         }
        ],
        "showlegend": false,
        "template": {
         "data": {
          "bar": [
           {
            "error_x": {
             "color": "#2a3f5f"
            },
            "error_y": {
             "color": "#2a3f5f"
            },
            "marker": {
             "line": {
              "color": "#E5ECF6",
              "width": 0.5
             },
             "pattern": {
              "fillmode": "overlay",
              "size": 10,
              "solidity": 0.2
             }
            },
            "type": "bar"
           }
          ],
          "barpolar": [
           {
            "marker": {
             "line": {
              "color": "#E5ECF6",
              "width": 0.5
             },
             "pattern": {
              "fillmode": "overlay",
              "size": 10,
              "solidity": 0.2
             }
            },
            "type": "barpolar"
           }
          ],
          "carpet": [
           {
            "aaxis": {
             "endlinecolor": "#2a3f5f",
             "gridcolor": "white",
             "linecolor": "white",
             "minorgridcolor": "white",
             "startlinecolor": "#2a3f5f"
            },
            "baxis": {
             "endlinecolor": "#2a3f5f",
             "gridcolor": "white",
             "linecolor": "white",
             "minorgridcolor": "white",
             "startlinecolor": "#2a3f5f"
            },
            "type": "carpet"
           }
          ],
          "choropleth": [
           {
            "colorbar": {
             "outlinewidth": 0,
             "ticks": ""
            },
            "type": "choropleth"
           }
          ],
          "contour": [
           {
            "colorbar": {
             "outlinewidth": 0,
             "ticks": ""
            },
            "colorscale": [
             [
              0,
              "#0d0887"
             ],
             [
              0.1111111111111111,
              "#46039f"
             ],
             [
              0.2222222222222222,
              "#7201a8"
             ],
             [
              0.3333333333333333,
              "#9c179e"
             ],
             [
              0.4444444444444444,
              "#bd3786"
             ],
             [
              0.5555555555555556,
              "#d8576b"
             ],
             [
              0.6666666666666666,
              "#ed7953"
             ],
             [
              0.7777777777777778,
              "#fb9f3a"
             ],
             [
              0.8888888888888888,
              "#fdca26"
             ],
             [
              1,
              "#f0f921"
             ]
            ],
            "type": "contour"
           }
          ],
          "contourcarpet": [
           {
            "colorbar": {
             "outlinewidth": 0,
             "ticks": ""
            },
            "type": "contourcarpet"
           }
          ],
          "heatmap": [
           {
            "colorbar": {
             "outlinewidth": 0,
             "ticks": ""
            },
            "colorscale": [
             [
              0,
              "#0d0887"
             ],
             [
              0.1111111111111111,
              "#46039f"
             ],
             [
              0.2222222222222222,
              "#7201a8"
             ],
             [
              0.3333333333333333,
              "#9c179e"
             ],
             [
              0.4444444444444444,
              "#bd3786"
             ],
             [
              0.5555555555555556,
              "#d8576b"
             ],
             [
              0.6666666666666666,
              "#ed7953"
             ],
             [
              0.7777777777777778,
              "#fb9f3a"
             ],
             [
              0.8888888888888888,
              "#fdca26"
             ],
             [
              1,
              "#f0f921"
             ]
            ],
            "type": "heatmap"
           }
          ],
          "heatmapgl": [
           {
            "colorbar": {
             "outlinewidth": 0,
             "ticks": ""
            },
            "colorscale": [
             [
              0,
              "#0d0887"
             ],
             [
              0.1111111111111111,
              "#46039f"
             ],
             [
              0.2222222222222222,
              "#7201a8"
             ],
             [
              0.3333333333333333,
              "#9c179e"
             ],
             [
              0.4444444444444444,
              "#bd3786"
             ],
             [
              0.5555555555555556,
              "#d8576b"
             ],
             [
              0.6666666666666666,
              "#ed7953"
             ],
             [
              0.7777777777777778,
              "#fb9f3a"
             ],
             [
              0.8888888888888888,
              "#fdca26"
             ],
             [
              1,
              "#f0f921"
             ]
            ],
            "type": "heatmapgl"
           }
          ],
          "histogram": [
           {
            "marker": {
             "pattern": {
              "fillmode": "overlay",
              "size": 10,
              "solidity": 0.2
             }
            },
            "type": "histogram"
           }
          ],
          "histogram2d": [
           {
            "colorbar": {
             "outlinewidth": 0,
             "ticks": ""
            },
            "colorscale": [
             [
              0,
              "#0d0887"
             ],
             [
              0.1111111111111111,
              "#46039f"
             ],
             [
              0.2222222222222222,
              "#7201a8"
             ],
             [
              0.3333333333333333,
              "#9c179e"
             ],
             [
              0.4444444444444444,
              "#bd3786"
             ],
             [
              0.5555555555555556,
              "#d8576b"
             ],
             [
              0.6666666666666666,
              "#ed7953"
             ],
             [
              0.7777777777777778,
              "#fb9f3a"
             ],
             [
              0.8888888888888888,
              "#fdca26"
             ],
             [
              1,
              "#f0f921"
             ]
            ],
            "type": "histogram2d"
           }
          ],
          "histogram2dcontour": [
           {
            "colorbar": {
             "outlinewidth": 0,
             "ticks": ""
            },
            "colorscale": [
             [
              0,
              "#0d0887"
             ],
             [
              0.1111111111111111,
              "#46039f"
             ],
             [
              0.2222222222222222,
              "#7201a8"
             ],
             [
              0.3333333333333333,
              "#9c179e"
             ],
             [
              0.4444444444444444,
              "#bd3786"
             ],
             [
              0.5555555555555556,
              "#d8576b"
             ],
             [
              0.6666666666666666,
              "#ed7953"
             ],
             [
              0.7777777777777778,
              "#fb9f3a"
             ],
             [
              0.8888888888888888,
              "#fdca26"
             ],
             [
              1,
              "#f0f921"
             ]
            ],
            "type": "histogram2dcontour"
           }
          ],
          "mesh3d": [
           {
            "colorbar": {
             "outlinewidth": 0,
             "ticks": ""
            },
            "type": "mesh3d"
           }
          ],
          "parcoords": [
           {
            "line": {
             "colorbar": {
              "outlinewidth": 0,
              "ticks": ""
             }
            },
            "type": "parcoords"
           }
          ],
          "pie": [
           {
            "automargin": true,
            "type": "pie"
           }
          ],
          "scatter": [
           {
            "fillpattern": {
             "fillmode": "overlay",
             "size": 10,
             "solidity": 0.2
            },
            "type": "scatter"
           }
          ],
          "scatter3d": [
           {
            "line": {
             "colorbar": {
              "outlinewidth": 0,
              "ticks": ""
             }
            },
            "marker": {
             "colorbar": {
              "outlinewidth": 0,
              "ticks": ""
             }
            },
            "type": "scatter3d"
           }
          ],
          "scattercarpet": [
           {
            "marker": {
             "colorbar": {
              "outlinewidth": 0,
              "ticks": ""
             }
            },
            "type": "scattercarpet"
           }
          ],
          "scattergeo": [
           {
            "marker": {
             "colorbar": {
              "outlinewidth": 0,
              "ticks": ""
             }
            },
            "type": "scattergeo"
           }
          ],
          "scattergl": [
           {
            "marker": {
             "colorbar": {
              "outlinewidth": 0,
              "ticks": ""
             }
            },
            "type": "scattergl"
           }
          ],
          "scattermapbox": [
           {
            "marker": {
             "colorbar": {
              "outlinewidth": 0,
              "ticks": ""
             }
            },
            "type": "scattermapbox"
           }
          ],
          "scatterpolar": [
           {
            "marker": {
             "colorbar": {
              "outlinewidth": 0,
              "ticks": ""
             }
            },
            "type": "scatterpolar"
           }
          ],
          "scatterpolargl": [
           {
            "marker": {
             "colorbar": {
              "outlinewidth": 0,
              "ticks": ""
             }
            },
            "type": "scatterpolargl"
           }
          ],
          "scatterternary": [
           {
            "marker": {
             "colorbar": {
              "outlinewidth": 0,
              "ticks": ""
             }
            },
            "type": "scatterternary"
           }
          ],
          "surface": [
           {
            "colorbar": {
             "outlinewidth": 0,
             "ticks": ""
            },
            "colorscale": [
             [
              0,
              "#0d0887"
             ],
             [
              0.1111111111111111,
              "#46039f"
             ],
             [
              0.2222222222222222,
              "#7201a8"
             ],
             [
              0.3333333333333333,
              "#9c179e"
             ],
             [
              0.4444444444444444,
              "#bd3786"
             ],
             [
              0.5555555555555556,
              "#d8576b"
             ],
             [
              0.6666666666666666,
              "#ed7953"
             ],
             [
              0.7777777777777778,
              "#fb9f3a"
             ],
             [
              0.8888888888888888,
              "#fdca26"
             ],
             [
              1,
              "#f0f921"
             ]
            ],
            "type": "surface"
           }
          ],
          "table": [
           {
            "cells": {
             "fill": {
              "color": "#EBF0F8"
             },
             "line": {
              "color": "white"
             }
            },
            "header": {
             "fill": {
              "color": "#C8D4E3"
             },
             "line": {
              "color": "white"
             }
            },
            "type": "table"
           }
          ]
         },
         "layout": {
          "annotationdefaults": {
           "arrowcolor": "#2a3f5f",
           "arrowhead": 0,
           "arrowwidth": 1
          },
          "autotypenumbers": "strict",
          "coloraxis": {
           "colorbar": {
            "outlinewidth": 0,
            "ticks": ""
           }
          },
          "colorscale": {
           "diverging": [
            [
             0,
             "#8e0152"
            ],
            [
             0.1,
             "#c51b7d"
            ],
            [
             0.2,
             "#de77ae"
            ],
            [
             0.3,
             "#f1b6da"
            ],
            [
             0.4,
             "#fde0ef"
            ],
            [
             0.5,
             "#f7f7f7"
            ],
            [
             0.6,
             "#e6f5d0"
            ],
            [
             0.7,
             "#b8e186"
            ],
            [
             0.8,
             "#7fbc41"
            ],
            [
             0.9,
             "#4d9221"
            ],
            [
             1,
             "#276419"
            ]
           ],
           "sequential": [
            [
             0,
             "#0d0887"
            ],
            [
             0.1111111111111111,
             "#46039f"
            ],
            [
             0.2222222222222222,
             "#7201a8"
            ],
            [
             0.3333333333333333,
             "#9c179e"
            ],
            [
             0.4444444444444444,
             "#bd3786"
            ],
            [
             0.5555555555555556,
             "#d8576b"
            ],
            [
             0.6666666666666666,
             "#ed7953"
            ],
            [
             0.7777777777777778,
             "#fb9f3a"
            ],
            [
             0.8888888888888888,
             "#fdca26"
            ],
            [
             1,
             "#f0f921"
            ]
           ],
           "sequentialminus": [
            [
             0,
             "#0d0887"
            ],
            [
             0.1111111111111111,
             "#46039f"
            ],
            [
             0.2222222222222222,
             "#7201a8"
            ],
            [
             0.3333333333333333,
             "#9c179e"
            ],
            [
             0.4444444444444444,
             "#bd3786"
            ],
            [
             0.5555555555555556,
             "#d8576b"
            ],
            [
             0.6666666666666666,
             "#ed7953"
            ],
            [
             0.7777777777777778,
             "#fb9f3a"
            ],
            [
             0.8888888888888888,
             "#fdca26"
            ],
            [
             1,
             "#f0f921"
            ]
           ]
          },
          "colorway": [
           "#636efa",
           "#EF553B",
           "#00cc96",
           "#ab63fa",
           "#FFA15A",
           "#19d3f3",
           "#FF6692",
           "#B6E880",
           "#FF97FF",
           "#FECB52"
          ],
          "font": {
           "color": "#2a3f5f"
          },
          "geo": {
           "bgcolor": "white",
           "lakecolor": "white",
           "landcolor": "#E5ECF6",
           "showlakes": true,
           "showland": true,
           "subunitcolor": "white"
          },
          "hoverlabel": {
           "align": "left"
          },
          "hovermode": "closest",
          "mapbox": {
           "style": "light"
          },
          "paper_bgcolor": "white",
          "plot_bgcolor": "#E5ECF6",
          "polar": {
           "angularaxis": {
            "gridcolor": "white",
            "linecolor": "white",
            "ticks": ""
           },
           "bgcolor": "#E5ECF6",
           "radialaxis": {
            "gridcolor": "white",
            "linecolor": "white",
            "ticks": ""
           }
          },
          "scene": {
           "xaxis": {
            "backgroundcolor": "#E5ECF6",
            "gridcolor": "white",
            "gridwidth": 2,
            "linecolor": "white",
            "showbackground": true,
            "ticks": "",
            "zerolinecolor": "white"
           },
           "yaxis": {
            "backgroundcolor": "#E5ECF6",
            "gridcolor": "white",
            "gridwidth": 2,
            "linecolor": "white",
            "showbackground": true,
            "ticks": "",
            "zerolinecolor": "white"
           },
           "zaxis": {
            "backgroundcolor": "#E5ECF6",
            "gridcolor": "white",
            "gridwidth": 2,
            "linecolor": "white",
            "showbackground": true,
            "ticks": "",
            "zerolinecolor": "white"
           }
          },
          "shapedefaults": {
           "line": {
            "color": "#2a3f5f"
           }
          },
          "ternary": {
           "aaxis": {
            "gridcolor": "white",
            "linecolor": "white",
            "ticks": ""
           },
           "baxis": {
            "gridcolor": "white",
            "linecolor": "white",
            "ticks": ""
           },
           "bgcolor": "#E5ECF6",
           "caxis": {
            "gridcolor": "white",
            "linecolor": "white",
            "ticks": ""
           }
          },
          "title": {
           "x": 0.05
          },
          "xaxis": {
           "automargin": true,
           "gridcolor": "white",
           "linecolor": "white",
           "ticks": "",
           "title": {
            "standoff": 15
           },
           "zerolinecolor": "white",
           "zerolinewidth": 2
          },
          "yaxis": {
           "automargin": true,
           "gridcolor": "white",
           "linecolor": "white",
           "ticks": "",
           "title": {
            "standoff": 15
           },
           "zerolinecolor": "white",
           "zerolinewidth": 2
          }
         }
        },
        "title": {
         "text": "Episode Segments Timeline - Character Positions \n /Users/aneteyabbey/ai/multimedia_analysis/dataset/segmented/lex_fridman/episode_0.json"
        },
        "xaxis": {
         "gridcolor": "LightGrey",
         "gridwidth": 1,
         "showgrid": true,
         "title": {
          "text": "Character Position"
         }
        },
        "yaxis": {
         "autorange": "reversed",
         "tickmode": "array",
         "ticktext": [
          "Seg 0: Introduction to Max Tegmark...",
          "Seg 1: Challenges in Audio Recording...",
          "Seg 2: Intelligent Life in Universe...",
          "Seg 3: The Great Filter Hypothesis...",
          "Seg 4: Physics of Consciousness...",
          "Seg 5: Defining Consciousness...",
          "Seg 6: Consciousness and Embodiment...",
          "Seg 7: Self-Preservation in AGI...",
          "Seg 8: Defining Intelligence and AGI...",
          "Seg 9: Creativity and Intelligence...",
          "Seg 10: The Zombie Apocalypse Scenario...",
          "Seg 11: Human Vanity and AI...",
          "Seg 12: The Value Alignment Problem...",
          "Seg 13: Implementing Basic Values in AI...",
          "Seg 14: AI Communication and Explainability...",
          "Seg 15: Deep Learning and Brains...",
          "Seg 16: Quantum Computing and AI...",
          "Seg 17: AI and Human Connection...",
          "Seg 18: Future of Humanity with AI...",
          "Seg 19: AI for Societal Progress..."
         ],
         "tickvals": [
          0,
          1,
          2,
          3,
          4,
          5,
          6,
          7,
          8,
          9,
          10,
          11,
          12,
          13,
          14,
          15,
          16,
          17,
          18,
          19
         ],
         "title": {
          "text": "Segment"
         }
        }
       }
      }
     },
     "metadata": {},
     "output_type": "display_data"
    },
    {
     "data": {
      "application/vnd.plotly.v1+json": {
       "config": {
        "plotlyServerURL": "https://plot.ly"
       },
       "data": [
        {
         "hovertemplate": "<b>Introduction to Christoph Koch...</b><br>Start: 1<br>End: 1,123<br>Length: 1,122<br>Text: As part of MIT course 6S099 on artificial general ...<br><extra></extra>",
         "marker": {
          "opacity": 0,
          "size": 0.1
         },
         "mode": "markers",
         "showlegend": false,
         "type": "scatter",
         "x": [
          562
         ],
         "y": [
          0
         ]
        },
        {
         "hovertemplate": "<b>Intelligent Life in Universe...</b><br>Start: 1,124<br>End: 1,908<br>Length: 784<br>Text: Okay, before we delve into the beautiful mysteries...<br><extra></extra>",
         "marker": {
          "opacity": 0,
          "size": 0.1
         },
         "mode": "markers",
         "showlegend": false,
         "type": "scatter",
         "x": [
          1516
         ],
         "y": [
          1
         ]
        },
        {
         "hovertemplate": "<b>Consciousness Beyond Humans...</b><br>Start: 1,909<br>End: 3,212<br>Length: 1,303<br>Text: Now you said human<br>Do you think if those intellig...<br><extra></extra>",
         "marker": {
          "opacity": 0,
          "size": 0.1
         },
         "mode": "markers",
         "showlegend": false,
         "type": "scatter",
         "x": [
          2560.5
         ],
         "y": [
          2
         ]
        },
        {
         "hovertemplate": "<b>Personal Realization of Consciousness...</b><br>Start: 3,213<br>End: 5,084<br>Length: 1,871<br>Text: Of course, their language, if they have one, would...<br><extra></extra>",
         "marker": {
          "opacity": 0,
          "size": 0.1
         },
         "mode": "markers",
         "showlegend": false,
         "type": "scatter",
         "x": [
          4148.5
         ],
         "y": [
          3
         ]
        },
        {
         "hovertemplate": "<b>Defining Consciousness and Experience...</b><br>Start: 5,085<br>End: 5,800<br>Length: 715<br>Text: How do experiences get into the world? So what is ...<br><extra></extra>",
         "marker": {
          "opacity": 0,
          "size": 0.1
         },
         "mode": "markers",
         "showlegend": false,
         "type": "scatter",
         "x": [
          5442.5
         ],
         "y": [
          4
         ]
        },
        {
         "hovertemplate": "<b>Intelligence vs. Consciousness...</b><br>Start: 5,801<br>End: 8,680<br>Length: 2,879<br>Text: Experience<br>So if you were to sit down with maybe ...<br><extra></extra>",
         "marker": {
          "opacity": 0,
          "size": 0.1
         },
         "mode": "markers",
         "showlegend": false,
         "type": "scatter",
         "x": [
          7240.5
         ],
         "y": [
          5
         ]
        },
        {
         "hovertemplate": "<b>Cases of Dissociated Consciousness...</b><br>Start: 8,681<br>End: 13,488<br>Length: 4,807<br>Text: And you still to say that today, you see, honey, I...<br><extra></extra>",
         "marker": {
          "opacity": 0,
          "size": 0.1
         },
         "mode": "markers",
         "showlegend": false,
         "type": "scatter",
         "x": [
          11084.5
         ],
         "y": [
          6
         ]
        },
        {
         "hovertemplate": "<b>Scientific Test for Consciousness...</b><br>Start: 13,489<br>End: 16,625<br>Length: 3,136<br>Text: You're fully conscious<br>There's something going on...<br><extra></extra>",
         "marker": {
          "opacity": 0,
          "size": 0.1
         },
         "mode": "markers",
         "showlegend": false,
         "type": "scatter",
         "x": [
          15057
         ],
         "y": [
          7
         ]
        },
        {
         "hovertemplate": "<b>Panpsychism and Physicalism...</b><br>Start: 16,626<br>End: 21,301<br>Length: 4,675<br>Text: We can't just rely on our intuition<br>Our intuition...<br><extra></extra>",
         "marker": {
          "opacity": 0,
          "size": 0.1
         },
         "mode": "markers",
         "showlegend": false,
         "type": "scatter",
         "x": [
          18963.5
         ],
         "y": [
          8
         ]
        },
        {
         "hovertemplate": "<b>Life, Intelligence, and Consciousness...</b><br>Start: 21,302<br>End: 25,327<br>Length: 4,025<br>Text: So my conscious experience, it's the way the physi...<br><extra></extra>",
         "marker": {
          "opacity": 0,
          "size": 0.1
         },
         "mode": "markers",
         "showlegend": false,
         "type": "scatter",
         "x": [
          23314.5
         ],
         "y": [
          9
         ]
        },
        {
         "hovertemplate": "<b>Artificial Intelligence and Consciousness...</b><br>Start: 25,328<br>End: 28,278<br>Length: 2,950<br>Text: It may or may not<br>So let's ask it the other way<br>...<br><extra></extra>",
         "marker": {
          "opacity": 0,
          "size": 0.1
         },
         "mode": "markers",
         "showlegend": false,
         "type": "scatter",
         "x": [
          26803
         ],
         "y": [
          10
         ]
        },
        {
         "hovertemplate": "<b>Empathy in AI...</b><br>Start: 28,279<br>End: 30,895<br>Length: 2,616<br>Text: So that's just to clarify though, you think that c...<br><extra></extra>",
         "marker": {
          "opacity": 0,
          "size": 0.1
         },
         "mode": "markers",
         "showlegend": false,
         "type": "scatter",
         "x": [
          29587
         ],
         "y": [
          11
         ]
        },
        {
         "hovertemplate": "<b>Fear and Suffering in Consciousness...</b><br>Start: 30,896<br>End: 32,452<br>Length: 1,556<br>Text: So as part of the full conscious experience, to cr...<br><extra></extra>",
         "marker": {
          "opacity": 0,
          "size": 0.1
         },
         "mode": "markers",
         "showlegend": false,
         "type": "scatter",
         "x": [
          31674
         ],
         "y": [
          12
         ]
        },
        {
         "hovertemplate": "<b>Human Consciousness and Panpsychism...</b><br>Start: 32,453<br>End: 33,659<br>Length: 1,206<br>Text: So you mentioned panpsychism to jump back a little...<br><extra></extra>",
         "marker": {
          "opacity": 0,
          "size": 0.1
         },
         "mode": "markers",
         "showlegend": false,
         "type": "scatter",
         "x": [
          33056
         ],
         "y": [
          13
         ]
        },
        {
         "hovertemplate": "<b>Religion and Consciousness...</b><br>Start: 33,660<br>End: 36,245<br>Length: 2,585<br>Text: So you mentioned God, you grew up a devout Roman C...<br><extra></extra>",
         "marker": {
          "opacity": 0,
          "size": 0.1
         },
         "mode": "markers",
         "showlegend": false,
         "type": "scatter",
         "x": [
          34952.5
         ],
         "y": [
          14
         ]
        },
        {
         "hovertemplate": "<b>Consciousness and Personal Experience...</b><br>Start: 36,401<br>End: 37,937<br>Length: 1,536<br>Text: I actually have a question<br>So it sounds like you ...<br><extra></extra>",
         "marker": {
          "opacity": 0,
          "size": 0.1
         },
         "mode": "markers",
         "showlegend": false,
         "type": "scatter",
         "x": [
          37169
         ],
         "y": [
          15
         ]
        },
        {
         "hovertemplate": "<b>Simulation Hypothesis and Free Will...</b><br>Start: 37,938<br>End: 40,375<br>Length: 2,437<br>Text: That's really what you're touching there<br>You're g...<br><extra></extra>",
         "marker": {
          "opacity": 0,
          "size": 0.1
         },
         "mode": "markers",
         "showlegend": false,
         "type": "scatter",
         "x": [
          39156.5
         ],
         "y": [
          16
         ]
        },
        {
         "hovertemplate": "<b>The Unconscious Mind...</b><br>Start: 40,376<br>End: 42,798<br>Length: 2,422<br>Text: That is, I think, what free will is<br>It's not a wi...<br><extra></extra>",
         "marker": {
          "opacity": 0,
          "size": 0.1
         },
         "mode": "markers",
         "showlegend": false,
         "type": "scatter",
         "x": [
          41587
         ],
         "y": [
          17
         ]
        },
        {
         "hovertemplate": "<b>Value of Literature in Science...</b><br>Start: 42,799<br>End: 46,709<br>Length: 3,910<br>Text: And they're very powerful<br>Do you think that's a f...<br><extra></extra>",
         "marker": {
          "opacity": 0,
          "size": 0.1
         },
         "mode": "markers",
         "showlegend": false,
         "type": "scatter",
         "x": [
          44754
         ],
         "y": [
          18
         ]
        },
        {
         "hovertemplate": "<b>Consciousness Across Scales...</b><br>Start: 12,348<br>End: 51,319<br>Length: 38,971<br>Text: So this is a big tub filled with water<br>That's bod...<br><extra></extra>",
         "marker": {
          "opacity": 0,
          "size": 0.1
         },
         "mode": "markers",
         "showlegend": false,
         "type": "scatter",
         "x": [
          31833.5
         ],
         "y": [
          19
         ]
        },
        {
         "hovertemplate": "<b>Advice for Young Researchers...</b><br>Start: 51,320<br>End: 55,167<br>Length: 3,847<br>Text: Yeah, actually in the conversation in cellular aut...<br><extra></extra>",
         "marker": {
          "opacity": 0,
          "size": 0.1
         },
         "mode": "markers",
         "showlegend": false,
         "type": "scatter",
         "x": [
          53243.5
         ],
         "y": [
          20
         ]
        },
        {
         "hovertemplate": "<b>The Mystery of the Claustrum...</b><br>Start: 55,168<br>End: 57,874<br>Length: 2,706<br>Text: Beautiful<br>Yeah<br>I'd say if there is from the mach...<br><extra></extra>",
         "marker": {
          "opacity": 0,
          "size": 0.1
         },
         "mode": "markers",
         "showlegend": false,
         "type": "scatter",
         "x": [
          56521
         ],
         "y": [
          21
         ]
        }
       ],
       "layout": {
        "annotations": [
         {
          "bgcolor": "rgba(255,255,255,0.3)",
          "borderpad": 4,
          "font": {
           "color": "black",
           "family": "Arial Black",
           "size": 12
          },
          "showarrow": false,
          "text": "0",
          "x": 562,
          "y": 0
         },
         {
          "bgcolor": "rgba(255,255,255,0.3)",
          "borderpad": 4,
          "font": {
           "color": "black",
           "family": "Arial Black",
           "size": 12
          },
          "showarrow": false,
          "text": "1",
          "x": 1516,
          "y": 1
         },
         {
          "bgcolor": "rgba(255,255,255,0.3)",
          "borderpad": 4,
          "font": {
           "color": "black",
           "family": "Arial Black",
           "size": 12
          },
          "showarrow": false,
          "text": "2",
          "x": 2560.5,
          "y": 2
         },
         {
          "bgcolor": "rgba(255,255,255,0.3)",
          "borderpad": 4,
          "font": {
           "color": "black",
           "family": "Arial Black",
           "size": 12
          },
          "showarrow": false,
          "text": "3",
          "x": 4148.5,
          "y": 3
         },
         {
          "bgcolor": "rgba(255,255,255,0.3)",
          "borderpad": 4,
          "font": {
           "color": "black",
           "family": "Arial Black",
           "size": 12
          },
          "showarrow": false,
          "text": "4",
          "x": 5442.5,
          "y": 4
         },
         {
          "bgcolor": "rgba(255,255,255,0.3)",
          "borderpad": 4,
          "font": {
           "color": "black",
           "family": "Arial Black",
           "size": 12
          },
          "showarrow": false,
          "text": "5",
          "x": 7240.5,
          "y": 5
         },
         {
          "bgcolor": "rgba(255,255,255,0.3)",
          "borderpad": 4,
          "font": {
           "color": "black",
           "family": "Arial Black",
           "size": 12
          },
          "showarrow": false,
          "text": "6",
          "x": 11084.5,
          "y": 6
         },
         {
          "bgcolor": "rgba(255,255,255,0.3)",
          "borderpad": 4,
          "font": {
           "color": "black",
           "family": "Arial Black",
           "size": 12
          },
          "showarrow": false,
          "text": "7",
          "x": 15057,
          "y": 7
         },
         {
          "bgcolor": "rgba(255,255,255,0.3)",
          "borderpad": 4,
          "font": {
           "color": "black",
           "family": "Arial Black",
           "size": 12
          },
          "showarrow": false,
          "text": "8",
          "x": 18963.5,
          "y": 8
         },
         {
          "bgcolor": "rgba(255,255,255,0.3)",
          "borderpad": 4,
          "font": {
           "color": "black",
           "family": "Arial Black",
           "size": 12
          },
          "showarrow": false,
          "text": "9",
          "x": 23314.5,
          "y": 9
         },
         {
          "bgcolor": "rgba(255,255,255,0.3)",
          "borderpad": 4,
          "font": {
           "color": "black",
           "family": "Arial Black",
           "size": 12
          },
          "showarrow": false,
          "text": "10",
          "x": 26803,
          "y": 10
         },
         {
          "bgcolor": "rgba(255,255,255,0.3)",
          "borderpad": 4,
          "font": {
           "color": "black",
           "family": "Arial Black",
           "size": 12
          },
          "showarrow": false,
          "text": "11",
          "x": 29587,
          "y": 11
         },
         {
          "bgcolor": "rgba(255,255,255,0.3)",
          "borderpad": 4,
          "font": {
           "color": "black",
           "family": "Arial Black",
           "size": 12
          },
          "showarrow": false,
          "text": "12",
          "x": 31674,
          "y": 12
         },
         {
          "bgcolor": "rgba(255,255,255,0.3)",
          "borderpad": 4,
          "font": {
           "color": "black",
           "family": "Arial Black",
           "size": 12
          },
          "showarrow": false,
          "text": "13",
          "x": 33056,
          "y": 13
         },
         {
          "bgcolor": "rgba(255,255,255,0.3)",
          "borderpad": 4,
          "font": {
           "color": "black",
           "family": "Arial Black",
           "size": 12
          },
          "showarrow": false,
          "text": "14",
          "x": 34952.5,
          "y": 14
         },
         {
          "bgcolor": "rgba(255,255,255,0.3)",
          "borderpad": 4,
          "font": {
           "color": "black",
           "family": "Arial Black",
           "size": 12
          },
          "showarrow": false,
          "text": "15",
          "x": 37169,
          "y": 15
         },
         {
          "bgcolor": "rgba(255,255,255,0.3)",
          "borderpad": 4,
          "font": {
           "color": "black",
           "family": "Arial Black",
           "size": 12
          },
          "showarrow": false,
          "text": "16",
          "x": 39156.5,
          "y": 16
         },
         {
          "bgcolor": "rgba(255,255,255,0.3)",
          "borderpad": 4,
          "font": {
           "color": "black",
           "family": "Arial Black",
           "size": 12
          },
          "showarrow": false,
          "text": "17",
          "x": 41587,
          "y": 17
         },
         {
          "bgcolor": "rgba(255,255,255,0.3)",
          "borderpad": 4,
          "font": {
           "color": "black",
           "family": "Arial Black",
           "size": 12
          },
          "showarrow": false,
          "text": "18",
          "x": 44754,
          "y": 18
         },
         {
          "bgcolor": "rgba(255,255,255,0.3)",
          "borderpad": 4,
          "font": {
           "color": "black",
           "family": "Arial Black",
           "size": 12
          },
          "showarrow": false,
          "text": "19",
          "x": 31833.5,
          "y": 19
         },
         {
          "bgcolor": "rgba(255,255,255,0.3)",
          "borderpad": 4,
          "font": {
           "color": "black",
           "family": "Arial Black",
           "size": 12
          },
          "showarrow": false,
          "text": "20",
          "x": 53243.5,
          "y": 20
         },
         {
          "bgcolor": "rgba(255,255,255,0.3)",
          "borderpad": 4,
          "font": {
           "color": "black",
           "family": "Arial Black",
           "size": 12
          },
          "showarrow": false,
          "text": "21",
          "x": 56521,
          "y": 21
         }
        ],
        "height": 1760,
        "hovermode": "closest",
        "shapes": [
         {
          "fillcolor": "hsl(0.0, 70%, 50%)",
          "line": {
           "color": "black",
           "width": 1
          },
          "opacity": 0.8,
          "type": "rect",
          "x0": 1,
          "x1": 1123,
          "y0": -0.3,
          "y1": 0.3
         },
         {
          "fillcolor": "hsl(16.363636363636363, 70%, 50%)",
          "line": {
           "color": "black",
           "width": 1
          },
          "opacity": 0.8,
          "type": "rect",
          "x0": 1124,
          "x1": 1908,
          "y0": 0.7,
          "y1": 1.3
         },
         {
          "fillcolor": "hsl(32.72727272727273, 70%, 50%)",
          "line": {
           "color": "black",
           "width": 1
          },
          "opacity": 0.8,
          "type": "rect",
          "x0": 1909,
          "x1": 3212,
          "y0": 1.7,
          "y1": 2.3
         },
         {
          "fillcolor": "hsl(49.09090909090909, 70%, 50%)",
          "line": {
           "color": "black",
           "width": 1
          },
          "opacity": 0.8,
          "type": "rect",
          "x0": 3213,
          "x1": 5084,
          "y0": 2.7,
          "y1": 3.3
         },
         {
          "fillcolor": "hsl(65.45454545454545, 70%, 50%)",
          "line": {
           "color": "black",
           "width": 1
          },
          "opacity": 0.8,
          "type": "rect",
          "x0": 5085,
          "x1": 5800,
          "y0": 3.7,
          "y1": 4.3
         },
         {
          "fillcolor": "hsl(81.81818181818181, 70%, 50%)",
          "line": {
           "color": "black",
           "width": 1
          },
          "opacity": 0.8,
          "type": "rect",
          "x0": 5801,
          "x1": 8680,
          "y0": 4.7,
          "y1": 5.3
         },
         {
          "fillcolor": "hsl(98.18181818181819, 70%, 50%)",
          "line": {
           "color": "black",
           "width": 1
          },
          "opacity": 0.8,
          "type": "rect",
          "x0": 8681,
          "x1": 13488,
          "y0": 5.7,
          "y1": 6.3
         },
         {
          "fillcolor": "hsl(114.54545454545455, 70%, 50%)",
          "line": {
           "color": "black",
           "width": 1
          },
          "opacity": 0.8,
          "type": "rect",
          "x0": 13489,
          "x1": 16625,
          "y0": 6.7,
          "y1": 7.3
         },
         {
          "fillcolor": "hsl(130.9090909090909, 70%, 50%)",
          "line": {
           "color": "black",
           "width": 1
          },
          "opacity": 0.8,
          "type": "rect",
          "x0": 16626,
          "x1": 21301,
          "y0": 7.7,
          "y1": 8.3
         },
         {
          "fillcolor": "hsl(147.27272727272728, 70%, 50%)",
          "line": {
           "color": "black",
           "width": 1
          },
          "opacity": 0.8,
          "type": "rect",
          "x0": 21302,
          "x1": 25327,
          "y0": 8.7,
          "y1": 9.3
         },
         {
          "fillcolor": "hsl(163.63636363636363, 70%, 50%)",
          "line": {
           "color": "black",
           "width": 1
          },
          "opacity": 0.8,
          "type": "rect",
          "x0": 25328,
          "x1": 28278,
          "y0": 9.7,
          "y1": 10.3
         },
         {
          "fillcolor": "hsl(180.0, 70%, 50%)",
          "line": {
           "color": "black",
           "width": 1
          },
          "opacity": 0.8,
          "type": "rect",
          "x0": 28279,
          "x1": 30895,
          "y0": 10.7,
          "y1": 11.3
         },
         {
          "fillcolor": "hsl(196.36363636363637, 70%, 50%)",
          "line": {
           "color": "black",
           "width": 1
          },
          "opacity": 0.8,
          "type": "rect",
          "x0": 30896,
          "x1": 32452,
          "y0": 11.7,
          "y1": 12.3
         },
         {
          "fillcolor": "hsl(212.72727272727272, 70%, 50%)",
          "line": {
           "color": "black",
           "width": 1
          },
          "opacity": 0.8,
          "type": "rect",
          "x0": 32453,
          "x1": 33659,
          "y0": 12.7,
          "y1": 13.3
         },
         {
          "fillcolor": "hsl(229.0909090909091, 70%, 50%)",
          "line": {
           "color": "black",
           "width": 1
          },
          "opacity": 0.8,
          "type": "rect",
          "x0": 33660,
          "x1": 36245,
          "y0": 13.7,
          "y1": 14.3
         },
         {
          "fillcolor": "hsl(245.45454545454547, 70%, 50%)",
          "line": {
           "color": "black",
           "width": 1
          },
          "opacity": 0.8,
          "type": "rect",
          "x0": 36401,
          "x1": 37937,
          "y0": 14.7,
          "y1": 15.3
         },
         {
          "fillcolor": "hsl(261.8181818181818, 70%, 50%)",
          "line": {
           "color": "black",
           "width": 1
          },
          "opacity": 0.8,
          "type": "rect",
          "x0": 37938,
          "x1": 40375,
          "y0": 15.7,
          "y1": 16.3
         },
         {
          "fillcolor": "hsl(278.1818181818182, 70%, 50%)",
          "line": {
           "color": "black",
           "width": 1
          },
          "opacity": 0.8,
          "type": "rect",
          "x0": 40376,
          "x1": 42798,
          "y0": 16.7,
          "y1": 17.3
         },
         {
          "fillcolor": "hsl(294.54545454545456, 70%, 50%)",
          "line": {
           "color": "black",
           "width": 1
          },
          "opacity": 0.8,
          "type": "rect",
          "x0": 42799,
          "x1": 46709,
          "y0": 17.7,
          "y1": 18.3
         },
         {
          "fillcolor": "hsl(310.90909090909093, 70%, 50%)",
          "line": {
           "color": "black",
           "width": 1
          },
          "opacity": 0.8,
          "type": "rect",
          "x0": 12348,
          "x1": 51319,
          "y0": 18.7,
          "y1": 19.3
         },
         {
          "fillcolor": "hsl(327.27272727272725, 70%, 50%)",
          "line": {
           "color": "black",
           "width": 1
          },
          "opacity": 0.8,
          "type": "rect",
          "x0": 51320,
          "x1": 55167,
          "y0": 19.7,
          "y1": 20.3
         },
         {
          "fillcolor": "hsl(343.6363636363636, 70%, 50%)",
          "line": {
           "color": "black",
           "width": 1
          },
          "opacity": 0.8,
          "type": "rect",
          "x0": 55168,
          "x1": 57874,
          "y0": 20.7,
          "y1": 21.3
         },
         {
          "fillcolor": "red",
          "line": {
           "width": 0
          },
          "opacity": 0.2,
          "type": "rect",
          "x0": 12348,
          "x1": 46709,
          "y0": -0.5,
          "y1": 21.5
         }
        ],
        "showlegend": false,
        "template": {
         "data": {
          "bar": [
           {
            "error_x": {
             "color": "#2a3f5f"
            },
            "error_y": {
             "color": "#2a3f5f"
            },
            "marker": {
             "line": {
              "color": "#E5ECF6",
              "width": 0.5
             },
             "pattern": {
              "fillmode": "overlay",
              "size": 10,
              "solidity": 0.2
             }
            },
            "type": "bar"
           }
          ],
          "barpolar": [
           {
            "marker": {
             "line": {
              "color": "#E5ECF6",
              "width": 0.5
             },
             "pattern": {
              "fillmode": "overlay",
              "size": 10,
              "solidity": 0.2
             }
            },
            "type": "barpolar"
           }
          ],
          "carpet": [
           {
            "aaxis": {
             "endlinecolor": "#2a3f5f",
             "gridcolor": "white",
             "linecolor": "white",
             "minorgridcolor": "white",
             "startlinecolor": "#2a3f5f"
            },
            "baxis": {
             "endlinecolor": "#2a3f5f",
             "gridcolor": "white",
             "linecolor": "white",
             "minorgridcolor": "white",
             "startlinecolor": "#2a3f5f"
            },
            "type": "carpet"
           }
          ],
          "choropleth": [
           {
            "colorbar": {
             "outlinewidth": 0,
             "ticks": ""
            },
            "type": "choropleth"
           }
          ],
          "contour": [
           {
            "colorbar": {
             "outlinewidth": 0,
             "ticks": ""
            },
            "colorscale": [
             [
              0,
              "#0d0887"
             ],
             [
              0.1111111111111111,
              "#46039f"
             ],
             [
              0.2222222222222222,
              "#7201a8"
             ],
             [
              0.3333333333333333,
              "#9c179e"
             ],
             [
              0.4444444444444444,
              "#bd3786"
             ],
             [
              0.5555555555555556,
              "#d8576b"
             ],
             [
              0.6666666666666666,
              "#ed7953"
             ],
             [
              0.7777777777777778,
              "#fb9f3a"
             ],
             [
              0.8888888888888888,
              "#fdca26"
             ],
             [
              1,
              "#f0f921"
             ]
            ],
            "type": "contour"
           }
          ],
          "contourcarpet": [
           {
            "colorbar": {
             "outlinewidth": 0,
             "ticks": ""
            },
            "type": "contourcarpet"
           }
          ],
          "heatmap": [
           {
            "colorbar": {
             "outlinewidth": 0,
             "ticks": ""
            },
            "colorscale": [
             [
              0,
              "#0d0887"
             ],
             [
              0.1111111111111111,
              "#46039f"
             ],
             [
              0.2222222222222222,
              "#7201a8"
             ],
             [
              0.3333333333333333,
              "#9c179e"
             ],
             [
              0.4444444444444444,
              "#bd3786"
             ],
             [
              0.5555555555555556,
              "#d8576b"
             ],
             [
              0.6666666666666666,
              "#ed7953"
             ],
             [
              0.7777777777777778,
              "#fb9f3a"
             ],
             [
              0.8888888888888888,
              "#fdca26"
             ],
             [
              1,
              "#f0f921"
             ]
            ],
            "type": "heatmap"
           }
          ],
          "heatmapgl": [
           {
            "colorbar": {
             "outlinewidth": 0,
             "ticks": ""
            },
            "colorscale": [
             [
              0,
              "#0d0887"
             ],
             [
              0.1111111111111111,
              "#46039f"
             ],
             [
              0.2222222222222222,
              "#7201a8"
             ],
             [
              0.3333333333333333,
              "#9c179e"
             ],
             [
              0.4444444444444444,
              "#bd3786"
             ],
             [
              0.5555555555555556,
              "#d8576b"
             ],
             [
              0.6666666666666666,
              "#ed7953"
             ],
             [
              0.7777777777777778,
              "#fb9f3a"
             ],
             [
              0.8888888888888888,
              "#fdca26"
             ],
             [
              1,
              "#f0f921"
             ]
            ],
            "type": "heatmapgl"
           }
          ],
          "histogram": [
           {
            "marker": {
             "pattern": {
              "fillmode": "overlay",
              "size": 10,
              "solidity": 0.2
             }
            },
            "type": "histogram"
           }
          ],
          "histogram2d": [
           {
            "colorbar": {
             "outlinewidth": 0,
             "ticks": ""
            },
            "colorscale": [
             [
              0,
              "#0d0887"
             ],
             [
              0.1111111111111111,
              "#46039f"
             ],
             [
              0.2222222222222222,
              "#7201a8"
             ],
             [
              0.3333333333333333,
              "#9c179e"
             ],
             [
              0.4444444444444444,
              "#bd3786"
             ],
             [
              0.5555555555555556,
              "#d8576b"
             ],
             [
              0.6666666666666666,
              "#ed7953"
             ],
             [
              0.7777777777777778,
              "#fb9f3a"
             ],
             [
              0.8888888888888888,
              "#fdca26"
             ],
             [
              1,
              "#f0f921"
             ]
            ],
            "type": "histogram2d"
           }
          ],
          "histogram2dcontour": [
           {
            "colorbar": {
             "outlinewidth": 0,
             "ticks": ""
            },
            "colorscale": [
             [
              0,
              "#0d0887"
             ],
             [
              0.1111111111111111,
              "#46039f"
             ],
             [
              0.2222222222222222,
              "#7201a8"
             ],
             [
              0.3333333333333333,
              "#9c179e"
             ],
             [
              0.4444444444444444,
              "#bd3786"
             ],
             [
              0.5555555555555556,
              "#d8576b"
             ],
             [
              0.6666666666666666,
              "#ed7953"
             ],
             [
              0.7777777777777778,
              "#fb9f3a"
             ],
             [
              0.8888888888888888,
              "#fdca26"
             ],
             [
              1,
              "#f0f921"
             ]
            ],
            "type": "histogram2dcontour"
           }
          ],
          "mesh3d": [
           {
            "colorbar": {
             "outlinewidth": 0,
             "ticks": ""
            },
            "type": "mesh3d"
           }
          ],
          "parcoords": [
           {
            "line": {
             "colorbar": {
              "outlinewidth": 0,
              "ticks": ""
             }
            },
            "type": "parcoords"
           }
          ],
          "pie": [
           {
            "automargin": true,
            "type": "pie"
           }
          ],
          "scatter": [
           {
            "fillpattern": {
             "fillmode": "overlay",
             "size": 10,
             "solidity": 0.2
            },
            "type": "scatter"
           }
          ],
          "scatter3d": [
           {
            "line": {
             "colorbar": {
              "outlinewidth": 0,
              "ticks": ""
             }
            },
            "marker": {
             "colorbar": {
              "outlinewidth": 0,
              "ticks": ""
             }
            },
            "type": "scatter3d"
           }
          ],
          "scattercarpet": [
           {
            "marker": {
             "colorbar": {
              "outlinewidth": 0,
              "ticks": ""
             }
            },
            "type": "scattercarpet"
           }
          ],
          "scattergeo": [
           {
            "marker": {
             "colorbar": {
              "outlinewidth": 0,
              "ticks": ""
             }
            },
            "type": "scattergeo"
           }
          ],
          "scattergl": [
           {
            "marker": {
             "colorbar": {
              "outlinewidth": 0,
              "ticks": ""
             }
            },
            "type": "scattergl"
           }
          ],
          "scattermapbox": [
           {
            "marker": {
             "colorbar": {
              "outlinewidth": 0,
              "ticks": ""
             }
            },
            "type": "scattermapbox"
           }
          ],
          "scatterpolar": [
           {
            "marker": {
             "colorbar": {
              "outlinewidth": 0,
              "ticks": ""
             }
            },
            "type": "scatterpolar"
           }
          ],
          "scatterpolargl": [
           {
            "marker": {
             "colorbar": {
              "outlinewidth": 0,
              "ticks": ""
             }
            },
            "type": "scatterpolargl"
           }
          ],
          "scatterternary": [
           {
            "marker": {
             "colorbar": {
              "outlinewidth": 0,
              "ticks": ""
             }
            },
            "type": "scatterternary"
           }
          ],
          "surface": [
           {
            "colorbar": {
             "outlinewidth": 0,
             "ticks": ""
            },
            "colorscale": [
             [
              0,
              "#0d0887"
             ],
             [
              0.1111111111111111,
              "#46039f"
             ],
             [
              0.2222222222222222,
              "#7201a8"
             ],
             [
              0.3333333333333333,
              "#9c179e"
             ],
             [
              0.4444444444444444,
              "#bd3786"
             ],
             [
              0.5555555555555556,
              "#d8576b"
             ],
             [
              0.6666666666666666,
              "#ed7953"
             ],
             [
              0.7777777777777778,
              "#fb9f3a"
             ],
             [
              0.8888888888888888,
              "#fdca26"
             ],
             [
              1,
              "#f0f921"
             ]
            ],
            "type": "surface"
           }
          ],
          "table": [
           {
            "cells": {
             "fill": {
              "color": "#EBF0F8"
             },
             "line": {
              "color": "white"
             }
            },
            "header": {
             "fill": {
              "color": "#C8D4E3"
             },
             "line": {
              "color": "white"
             }
            },
            "type": "table"
           }
          ]
         },
         "layout": {
          "annotationdefaults": {
           "arrowcolor": "#2a3f5f",
           "arrowhead": 0,
           "arrowwidth": 1
          },
          "autotypenumbers": "strict",
          "coloraxis": {
           "colorbar": {
            "outlinewidth": 0,
            "ticks": ""
           }
          },
          "colorscale": {
           "diverging": [
            [
             0,
             "#8e0152"
            ],
            [
             0.1,
             "#c51b7d"
            ],
            [
             0.2,
             "#de77ae"
            ],
            [
             0.3,
             "#f1b6da"
            ],
            [
             0.4,
             "#fde0ef"
            ],
            [
             0.5,
             "#f7f7f7"
            ],
            [
             0.6,
             "#e6f5d0"
            ],
            [
             0.7,
             "#b8e186"
            ],
            [
             0.8,
             "#7fbc41"
            ],
            [
             0.9,
             "#4d9221"
            ],
            [
             1,
             "#276419"
            ]
           ],
           "sequential": [
            [
             0,
             "#0d0887"
            ],
            [
             0.1111111111111111,
             "#46039f"
            ],
            [
             0.2222222222222222,
             "#7201a8"
            ],
            [
             0.3333333333333333,
             "#9c179e"
            ],
            [
             0.4444444444444444,
             "#bd3786"
            ],
            [
             0.5555555555555556,
             "#d8576b"
            ],
            [
             0.6666666666666666,
             "#ed7953"
            ],
            [
             0.7777777777777778,
             "#fb9f3a"
            ],
            [
             0.8888888888888888,
             "#fdca26"
            ],
            [
             1,
             "#f0f921"
            ]
           ],
           "sequentialminus": [
            [
             0,
             "#0d0887"
            ],
            [
             0.1111111111111111,
             "#46039f"
            ],
            [
             0.2222222222222222,
             "#7201a8"
            ],
            [
             0.3333333333333333,
             "#9c179e"
            ],
            [
             0.4444444444444444,
             "#bd3786"
            ],
            [
             0.5555555555555556,
             "#d8576b"
            ],
            [
             0.6666666666666666,
             "#ed7953"
            ],
            [
             0.7777777777777778,
             "#fb9f3a"
            ],
            [
             0.8888888888888888,
             "#fdca26"
            ],
            [
             1,
             "#f0f921"
            ]
           ]
          },
          "colorway": [
           "#636efa",
           "#EF553B",
           "#00cc96",
           "#ab63fa",
           "#FFA15A",
           "#19d3f3",
           "#FF6692",
           "#B6E880",
           "#FF97FF",
           "#FECB52"
          ],
          "font": {
           "color": "#2a3f5f"
          },
          "geo": {
           "bgcolor": "white",
           "lakecolor": "white",
           "landcolor": "#E5ECF6",
           "showlakes": true,
           "showland": true,
           "subunitcolor": "white"
          },
          "hoverlabel": {
           "align": "left"
          },
          "hovermode": "closest",
          "mapbox": {
           "style": "light"
          },
          "paper_bgcolor": "white",
          "plot_bgcolor": "#E5ECF6",
          "polar": {
           "angularaxis": {
            "gridcolor": "white",
            "linecolor": "white",
            "ticks": ""
           },
           "bgcolor": "#E5ECF6",
           "radialaxis": {
            "gridcolor": "white",
            "linecolor": "white",
            "ticks": ""
           }
          },
          "scene": {
           "xaxis": {
            "backgroundcolor": "#E5ECF6",
            "gridcolor": "white",
            "gridwidth": 2,
            "linecolor": "white",
            "showbackground": true,
            "ticks": "",
            "zerolinecolor": "white"
           },
           "yaxis": {
            "backgroundcolor": "#E5ECF6",
            "gridcolor": "white",
            "gridwidth": 2,
            "linecolor": "white",
            "showbackground": true,
            "ticks": "",
            "zerolinecolor": "white"
           },
           "zaxis": {
            "backgroundcolor": "#E5ECF6",
            "gridcolor": "white",
            "gridwidth": 2,
            "linecolor": "white",
            "showbackground": true,
            "ticks": "",
            "zerolinecolor": "white"
           }
          },
          "shapedefaults": {
           "line": {
            "color": "#2a3f5f"
           }
          },
          "ternary": {
           "aaxis": {
            "gridcolor": "white",
            "linecolor": "white",
            "ticks": ""
           },
           "baxis": {
            "gridcolor": "white",
            "linecolor": "white",
            "ticks": ""
           },
           "bgcolor": "#E5ECF6",
           "caxis": {
            "gridcolor": "white",
            "linecolor": "white",
            "ticks": ""
           }
          },
          "title": {
           "x": 0.05
          },
          "xaxis": {
           "automargin": true,
           "gridcolor": "white",
           "linecolor": "white",
           "ticks": "",
           "title": {
            "standoff": 15
           },
           "zerolinecolor": "white",
           "zerolinewidth": 2
          },
          "yaxis": {
           "automargin": true,
           "gridcolor": "white",
           "linecolor": "white",
           "ticks": "",
           "title": {
            "standoff": 15
           },
           "zerolinecolor": "white",
           "zerolinewidth": 2
          }
         }
        },
        "title": {
         "text": "Episode Segments Timeline - Character Positions \n /Users/aneteyabbey/ai/multimedia_analysis/dataset/segmented/lex_fridman/episode_1.json"
        },
        "xaxis": {
         "gridcolor": "LightGrey",
         "gridwidth": 1,
         "showgrid": true,
         "title": {
          "text": "Character Position"
         }
        },
        "yaxis": {
         "autorange": "reversed",
         "tickmode": "array",
         "ticktext": [
          "Seg 0: Introduction to Christoph Koch...",
          "Seg 1: Intelligent Life in Universe...",
          "Seg 2: Consciousness Beyond Humans...",
          "Seg 3: Personal Realization of Consciousness...",
          "Seg 4: Defining Consciousness and Experience...",
          "Seg 5: Intelligence vs. Consciousness...",
          "Seg 6: Cases of Dissociated Consciousness...",
          "Seg 7: Scientific Test for Consciousness...",
          "Seg 8: Panpsychism and Physicalism...",
          "Seg 9: Life, Intelligence, and Consciousness...",
          "Seg 10: Artificial Intelligence and Consciousnes...",
          "Seg 11: Empathy in AI...",
          "Seg 12: Fear and Suffering in Consciousness...",
          "Seg 13: Human Consciousness and Panpsychism...",
          "Seg 14: Religion and Consciousness...",
          "Seg 15: Consciousness and Personal Experience...",
          "Seg 16: Simulation Hypothesis and Free Will...",
          "Seg 17: The Unconscious Mind...",
          "Seg 18: Value of Literature in Science...",
          "Seg 19: Consciousness Across Scales...",
          "Seg 20: Advice for Young Researchers...",
          "Seg 21: The Mystery of the Claustrum..."
         ],
         "tickvals": [
          0,
          1,
          2,
          3,
          4,
          5,
          6,
          7,
          8,
          9,
          10,
          11,
          12,
          13,
          14,
          15,
          16,
          17,
          18,
          19,
          20,
          21
         ],
         "title": {
          "text": "Segment"
         }
        }
       }
      }
     },
     "metadata": {},
     "output_type": "display_data"
    },
    {
     "name": "stdout",
     "output_type": "stream",
     "text": [
      "\n",
      "Found 1 overlapping segments:\n",
      "  Segments 18 and 19: 34,361 characters overlap (positions 12,348 to 46,709)\n"
     ]
    },
    {
     "data": {
      "application/vnd.plotly.v1+json": {
       "config": {
        "plotlyServerURL": "https://plot.ly"
       },
       "data": [
        {
         "hovertemplate": "<b>Meaning of Life...</b><br>Start: 1<br>End: 1,411<br>Length: 1,410<br>Text: You've studied the human mind, cognition, language...<br><extra></extra>",
         "marker": {
          "opacity": 0,
          "size": 0.1
         },
         "mode": "markers",
         "showlegend": false,
         "type": "scatter",
         "x": [
          706
         ],
         "y": [
          0
         ]
        },
        {
         "hovertemplate": "<b>Human vs. AI Consciousness...</b><br>Start: 2,738<br>End: 4,993<br>Length: 2,255<br>Text: Right<br>You do that almost undeniably and in a data...<br><extra></extra>",
         "marker": {
          "opacity": 0,
          "size": 0.1
         },
         "mode": "markers",
         "showlegend": false,
         "type": "scatter",
         "x": [
          3865.5
         ],
         "y": [
          1
         ]
        },
        {
         "hovertemplate": "<b>AI Engineering and Safety...</b><br>Start: 6,082<br>End: 8,574<br>Length: 2,492<br>Text: That is, we're neural networks, natural selection ...<br><extra></extra>",
         "marker": {
          "opacity": 0,
          "size": 0.1
         },
         "mode": "markers",
         "showlegend": false,
         "type": "scatter",
         "x": [
          7328
         ],
         "y": [
          2
         ]
        },
        {
         "hovertemplate": "<b>AI and Job Displacement...</b><br>Start: 18,691<br>End: 19,663<br>Length: 972<br>Text: There's been enormous attention to what are we goi...<br><extra></extra>",
         "marker": {
          "opacity": 0,
          "size": 0.1
         },
         "mode": "markers",
         "showlegend": false,
         "type": "scatter",
         "x": [
          19177
         ],
         "y": [
          3
         ]
        },
        {
         "hovertemplate": "<b>Psychology of Fear and Risk...</b><br>Start: 19,664<br>End: 27,891<br>Length: 8,227<br>Text: Sam Harris says that it's obvious that eventually ...<br><extra></extra>",
         "marker": {
          "opacity": 0,
          "size": 0.1
         },
         "mode": "markers",
         "showlegend": false,
         "type": "scatter",
         "x": [
          23777.5
         ],
         "y": [
          4
         ]
        },
        {
         "hovertemplate": "<b>Communicating AI to Public...</b><br>Start: 27,892<br>End: 31,926<br>Length: 4,034<br>Text: Yep<br>So let me ask this, then this question<br>So sp...<br><extra></extra>",
         "marker": {
          "opacity": 0,
          "size": 0.1
         },
         "mode": "markers",
         "showlegend": false,
         "type": "scatter",
         "x": [
          29909
         ],
         "y": [
          5
         ]
        }
       ],
       "layout": {
        "annotations": [
         {
          "bgcolor": "rgba(255,255,255,0.3)",
          "borderpad": 4,
          "font": {
           "color": "black",
           "family": "Arial Black",
           "size": 12
          },
          "showarrow": false,
          "text": "0",
          "x": 706,
          "y": 0
         },
         {
          "bgcolor": "rgba(255,255,255,0.3)",
          "borderpad": 4,
          "font": {
           "color": "black",
           "family": "Arial Black",
           "size": 12
          },
          "showarrow": false,
          "text": "1",
          "x": 3865.5,
          "y": 1
         },
         {
          "bgcolor": "rgba(255,255,255,0.3)",
          "borderpad": 4,
          "font": {
           "color": "black",
           "family": "Arial Black",
           "size": 12
          },
          "showarrow": false,
          "text": "2",
          "x": 7328,
          "y": 2
         },
         {
          "bgcolor": "rgba(255,255,255,0.3)",
          "borderpad": 4,
          "font": {
           "color": "black",
           "family": "Arial Black",
           "size": 12
          },
          "showarrow": false,
          "text": "3",
          "x": 19177,
          "y": 3
         },
         {
          "bgcolor": "rgba(255,255,255,0.3)",
          "borderpad": 4,
          "font": {
           "color": "black",
           "family": "Arial Black",
           "size": 12
          },
          "showarrow": false,
          "text": "4",
          "x": 23777.5,
          "y": 4
         },
         {
          "bgcolor": "rgba(255,255,255,0.3)",
          "borderpad": 4,
          "font": {
           "color": "black",
           "family": "Arial Black",
           "size": 12
          },
          "showarrow": false,
          "text": "5",
          "x": 29909,
          "y": 5
         }
        ],
        "height": 480,
        "hovermode": "closest",
        "shapes": [
         {
          "fillcolor": "hsl(0.0, 70%, 50%)",
          "line": {
           "color": "black",
           "width": 1
          },
          "opacity": 0.8,
          "type": "rect",
          "x0": 1,
          "x1": 1411,
          "y0": -0.3,
          "y1": 0.3
         },
         {
          "fillcolor": "hsl(60.0, 70%, 50%)",
          "line": {
           "color": "black",
           "width": 1
          },
          "opacity": 0.8,
          "type": "rect",
          "x0": 2738,
          "x1": 4993,
          "y0": 0.7,
          "y1": 1.3
         },
         {
          "fillcolor": "hsl(120.0, 70%, 50%)",
          "line": {
           "color": "black",
           "width": 1
          },
          "opacity": 0.8,
          "type": "rect",
          "x0": 6082,
          "x1": 8574,
          "y0": 1.7,
          "y1": 2.3
         },
         {
          "fillcolor": "hsl(180.0, 70%, 50%)",
          "line": {
           "color": "black",
           "width": 1
          },
          "opacity": 0.8,
          "type": "rect",
          "x0": 18691,
          "x1": 19663,
          "y0": 2.7,
          "y1": 3.3
         },
         {
          "fillcolor": "hsl(240.0, 70%, 50%)",
          "line": {
           "color": "black",
           "width": 1
          },
          "opacity": 0.8,
          "type": "rect",
          "x0": 19664,
          "x1": 27891,
          "y0": 3.7,
          "y1": 4.3
         },
         {
          "fillcolor": "hsl(300.0, 70%, 50%)",
          "line": {
           "color": "black",
           "width": 1
          },
          "opacity": 0.8,
          "type": "rect",
          "x0": 27892,
          "x1": 31926,
          "y0": 4.7,
          "y1": 5.3
         }
        ],
        "showlegend": false,
        "template": {
         "data": {
          "bar": [
           {
            "error_x": {
             "color": "#2a3f5f"
            },
            "error_y": {
             "color": "#2a3f5f"
            },
            "marker": {
             "line": {
              "color": "#E5ECF6",
              "width": 0.5
             },
             "pattern": {
              "fillmode": "overlay",
              "size": 10,
              "solidity": 0.2
             }
            },
            "type": "bar"
           }
          ],
          "barpolar": [
           {
            "marker": {
             "line": {
              "color": "#E5ECF6",
              "width": 0.5
             },
             "pattern": {
              "fillmode": "overlay",
              "size": 10,
              "solidity": 0.2
             }
            },
            "type": "barpolar"
           }
          ],
          "carpet": [
           {
            "aaxis": {
             "endlinecolor": "#2a3f5f",
             "gridcolor": "white",
             "linecolor": "white",
             "minorgridcolor": "white",
             "startlinecolor": "#2a3f5f"
            },
            "baxis": {
             "endlinecolor": "#2a3f5f",
             "gridcolor": "white",
             "linecolor": "white",
             "minorgridcolor": "white",
             "startlinecolor": "#2a3f5f"
            },
            "type": "carpet"
           }
          ],
          "choropleth": [
           {
            "colorbar": {
             "outlinewidth": 0,
             "ticks": ""
            },
            "type": "choropleth"
           }
          ],
          "contour": [
           {
            "colorbar": {
             "outlinewidth": 0,
             "ticks": ""
            },
            "colorscale": [
             [
              0,
              "#0d0887"
             ],
             [
              0.1111111111111111,
              "#46039f"
             ],
             [
              0.2222222222222222,
              "#7201a8"
             ],
             [
              0.3333333333333333,
              "#9c179e"
             ],
             [
              0.4444444444444444,
              "#bd3786"
             ],
             [
              0.5555555555555556,
              "#d8576b"
             ],
             [
              0.6666666666666666,
              "#ed7953"
             ],
             [
              0.7777777777777778,
              "#fb9f3a"
             ],
             [
              0.8888888888888888,
              "#fdca26"
             ],
             [
              1,
              "#f0f921"
             ]
            ],
            "type": "contour"
           }
          ],
          "contourcarpet": [
           {
            "colorbar": {
             "outlinewidth": 0,
             "ticks": ""
            },
            "type": "contourcarpet"
           }
          ],
          "heatmap": [
           {
            "colorbar": {
             "outlinewidth": 0,
             "ticks": ""
            },
            "colorscale": [
             [
              0,
              "#0d0887"
             ],
             [
              0.1111111111111111,
              "#46039f"
             ],
             [
              0.2222222222222222,
              "#7201a8"
             ],
             [
              0.3333333333333333,
              "#9c179e"
             ],
             [
              0.4444444444444444,
              "#bd3786"
             ],
             [
              0.5555555555555556,
              "#d8576b"
             ],
             [
              0.6666666666666666,
              "#ed7953"
             ],
             [
              0.7777777777777778,
              "#fb9f3a"
             ],
             [
              0.8888888888888888,
              "#fdca26"
             ],
             [
              1,
              "#f0f921"
             ]
            ],
            "type": "heatmap"
           }
          ],
          "heatmapgl": [
           {
            "colorbar": {
             "outlinewidth": 0,
             "ticks": ""
            },
            "colorscale": [
             [
              0,
              "#0d0887"
             ],
             [
              0.1111111111111111,
              "#46039f"
             ],
             [
              0.2222222222222222,
              "#7201a8"
             ],
             [
              0.3333333333333333,
              "#9c179e"
             ],
             [
              0.4444444444444444,
              "#bd3786"
             ],
             [
              0.5555555555555556,
              "#d8576b"
             ],
             [
              0.6666666666666666,
              "#ed7953"
             ],
             [
              0.7777777777777778,
              "#fb9f3a"
             ],
             [
              0.8888888888888888,
              "#fdca26"
             ],
             [
              1,
              "#f0f921"
             ]
            ],
            "type": "heatmapgl"
           }
          ],
          "histogram": [
           {
            "marker": {
             "pattern": {
              "fillmode": "overlay",
              "size": 10,
              "solidity": 0.2
             }
            },
            "type": "histogram"
           }
          ],
          "histogram2d": [
           {
            "colorbar": {
             "outlinewidth": 0,
             "ticks": ""
            },
            "colorscale": [
             [
              0,
              "#0d0887"
             ],
             [
              0.1111111111111111,
              "#46039f"
             ],
             [
              0.2222222222222222,
              "#7201a8"
             ],
             [
              0.3333333333333333,
              "#9c179e"
             ],
             [
              0.4444444444444444,
              "#bd3786"
             ],
             [
              0.5555555555555556,
              "#d8576b"
             ],
             [
              0.6666666666666666,
              "#ed7953"
             ],
             [
              0.7777777777777778,
              "#fb9f3a"
             ],
             [
              0.8888888888888888,
              "#fdca26"
             ],
             [
              1,
              "#f0f921"
             ]
            ],
            "type": "histogram2d"
           }
          ],
          "histogram2dcontour": [
           {
            "colorbar": {
             "outlinewidth": 0,
             "ticks": ""
            },
            "colorscale": [
             [
              0,
              "#0d0887"
             ],
             [
              0.1111111111111111,
              "#46039f"
             ],
             [
              0.2222222222222222,
              "#7201a8"
             ],
             [
              0.3333333333333333,
              "#9c179e"
             ],
             [
              0.4444444444444444,
              "#bd3786"
             ],
             [
              0.5555555555555556,
              "#d8576b"
             ],
             [
              0.6666666666666666,
              "#ed7953"
             ],
             [
              0.7777777777777778,
              "#fb9f3a"
             ],
             [
              0.8888888888888888,
              "#fdca26"
             ],
             [
              1,
              "#f0f921"
             ]
            ],
            "type": "histogram2dcontour"
           }
          ],
          "mesh3d": [
           {
            "colorbar": {
             "outlinewidth": 0,
             "ticks": ""
            },
            "type": "mesh3d"
           }
          ],
          "parcoords": [
           {
            "line": {
             "colorbar": {
              "outlinewidth": 0,
              "ticks": ""
             }
            },
            "type": "parcoords"
           }
          ],
          "pie": [
           {
            "automargin": true,
            "type": "pie"
           }
          ],
          "scatter": [
           {
            "fillpattern": {
             "fillmode": "overlay",
             "size": 10,
             "solidity": 0.2
            },
            "type": "scatter"
           }
          ],
          "scatter3d": [
           {
            "line": {
             "colorbar": {
              "outlinewidth": 0,
              "ticks": ""
             }
            },
            "marker": {
             "colorbar": {
              "outlinewidth": 0,
              "ticks": ""
             }
            },
            "type": "scatter3d"
           }
          ],
          "scattercarpet": [
           {
            "marker": {
             "colorbar": {
              "outlinewidth": 0,
              "ticks": ""
             }
            },
            "type": "scattercarpet"
           }
          ],
          "scattergeo": [
           {
            "marker": {
             "colorbar": {
              "outlinewidth": 0,
              "ticks": ""
             }
            },
            "type": "scattergeo"
           }
          ],
          "scattergl": [
           {
            "marker": {
             "colorbar": {
              "outlinewidth": 0,
              "ticks": ""
             }
            },
            "type": "scattergl"
           }
          ],
          "scattermapbox": [
           {
            "marker": {
             "colorbar": {
              "outlinewidth": 0,
              "ticks": ""
             }
            },
            "type": "scattermapbox"
           }
          ],
          "scatterpolar": [
           {
            "marker": {
             "colorbar": {
              "outlinewidth": 0,
              "ticks": ""
             }
            },
            "type": "scatterpolar"
           }
          ],
          "scatterpolargl": [
           {
            "marker": {
             "colorbar": {
              "outlinewidth": 0,
              "ticks": ""
             }
            },
            "type": "scatterpolargl"
           }
          ],
          "scatterternary": [
           {
            "marker": {
             "colorbar": {
              "outlinewidth": 0,
              "ticks": ""
             }
            },
            "type": "scatterternary"
           }
          ],
          "surface": [
           {
            "colorbar": {
             "outlinewidth": 0,
             "ticks": ""
            },
            "colorscale": [
             [
              0,
              "#0d0887"
             ],
             [
              0.1111111111111111,
              "#46039f"
             ],
             [
              0.2222222222222222,
              "#7201a8"
             ],
             [
              0.3333333333333333,
              "#9c179e"
             ],
             [
              0.4444444444444444,
              "#bd3786"
             ],
             [
              0.5555555555555556,
              "#d8576b"
             ],
             [
              0.6666666666666666,
              "#ed7953"
             ],
             [
              0.7777777777777778,
              "#fb9f3a"
             ],
             [
              0.8888888888888888,
              "#fdca26"
             ],
             [
              1,
              "#f0f921"
             ]
            ],
            "type": "surface"
           }
          ],
          "table": [
           {
            "cells": {
             "fill": {
              "color": "#EBF0F8"
             },
             "line": {
              "color": "white"
             }
            },
            "header": {
             "fill": {
              "color": "#C8D4E3"
             },
             "line": {
              "color": "white"
             }
            },
            "type": "table"
           }
          ]
         },
         "layout": {
          "annotationdefaults": {
           "arrowcolor": "#2a3f5f",
           "arrowhead": 0,
           "arrowwidth": 1
          },
          "autotypenumbers": "strict",
          "coloraxis": {
           "colorbar": {
            "outlinewidth": 0,
            "ticks": ""
           }
          },
          "colorscale": {
           "diverging": [
            [
             0,
             "#8e0152"
            ],
            [
             0.1,
             "#c51b7d"
            ],
            [
             0.2,
             "#de77ae"
            ],
            [
             0.3,
             "#f1b6da"
            ],
            [
             0.4,
             "#fde0ef"
            ],
            [
             0.5,
             "#f7f7f7"
            ],
            [
             0.6,
             "#e6f5d0"
            ],
            [
             0.7,
             "#b8e186"
            ],
            [
             0.8,
             "#7fbc41"
            ],
            [
             0.9,
             "#4d9221"
            ],
            [
             1,
             "#276419"
            ]
           ],
           "sequential": [
            [
             0,
             "#0d0887"
            ],
            [
             0.1111111111111111,
             "#46039f"
            ],
            [
             0.2222222222222222,
             "#7201a8"
            ],
            [
             0.3333333333333333,
             "#9c179e"
            ],
            [
             0.4444444444444444,
             "#bd3786"
            ],
            [
             0.5555555555555556,
             "#d8576b"
            ],
            [
             0.6666666666666666,
             "#ed7953"
            ],
            [
             0.7777777777777778,
             "#fb9f3a"
            ],
            [
             0.8888888888888888,
             "#fdca26"
            ],
            [
             1,
             "#f0f921"
            ]
           ],
           "sequentialminus": [
            [
             0,
             "#0d0887"
            ],
            [
             0.1111111111111111,
             "#46039f"
            ],
            [
             0.2222222222222222,
             "#7201a8"
            ],
            [
             0.3333333333333333,
             "#9c179e"
            ],
            [
             0.4444444444444444,
             "#bd3786"
            ],
            [
             0.5555555555555556,
             "#d8576b"
            ],
            [
             0.6666666666666666,
             "#ed7953"
            ],
            [
             0.7777777777777778,
             "#fb9f3a"
            ],
            [
             0.8888888888888888,
             "#fdca26"
            ],
            [
             1,
             "#f0f921"
            ]
           ]
          },
          "colorway": [
           "#636efa",
           "#EF553B",
           "#00cc96",
           "#ab63fa",
           "#FFA15A",
           "#19d3f3",
           "#FF6692",
           "#B6E880",
           "#FF97FF",
           "#FECB52"
          ],
          "font": {
           "color": "#2a3f5f"
          },
          "geo": {
           "bgcolor": "white",
           "lakecolor": "white",
           "landcolor": "#E5ECF6",
           "showlakes": true,
           "showland": true,
           "subunitcolor": "white"
          },
          "hoverlabel": {
           "align": "left"
          },
          "hovermode": "closest",
          "mapbox": {
           "style": "light"
          },
          "paper_bgcolor": "white",
          "plot_bgcolor": "#E5ECF6",
          "polar": {
           "angularaxis": {
            "gridcolor": "white",
            "linecolor": "white",
            "ticks": ""
           },
           "bgcolor": "#E5ECF6",
           "radialaxis": {
            "gridcolor": "white",
            "linecolor": "white",
            "ticks": ""
           }
          },
          "scene": {
           "xaxis": {
            "backgroundcolor": "#E5ECF6",
            "gridcolor": "white",
            "gridwidth": 2,
            "linecolor": "white",
            "showbackground": true,
            "ticks": "",
            "zerolinecolor": "white"
           },
           "yaxis": {
            "backgroundcolor": "#E5ECF6",
            "gridcolor": "white",
            "gridwidth": 2,
            "linecolor": "white",
            "showbackground": true,
            "ticks": "",
            "zerolinecolor": "white"
           },
           "zaxis": {
            "backgroundcolor": "#E5ECF6",
            "gridcolor": "white",
            "gridwidth": 2,
            "linecolor": "white",
            "showbackground": true,
            "ticks": "",
            "zerolinecolor": "white"
           }
          },
          "shapedefaults": {
           "line": {
            "color": "#2a3f5f"
           }
          },
          "ternary": {
           "aaxis": {
            "gridcolor": "white",
            "linecolor": "white",
            "ticks": ""
           },
           "baxis": {
            "gridcolor": "white",
            "linecolor": "white",
            "ticks": ""
           },
           "bgcolor": "#E5ECF6",
           "caxis": {
            "gridcolor": "white",
            "linecolor": "white",
            "ticks": ""
           }
          },
          "title": {
           "x": 0.05
          },
          "xaxis": {
           "automargin": true,
           "gridcolor": "white",
           "linecolor": "white",
           "ticks": "",
           "title": {
            "standoff": 15
           },
           "zerolinecolor": "white",
           "zerolinewidth": 2
          },
          "yaxis": {
           "automargin": true,
           "gridcolor": "white",
           "linecolor": "white",
           "ticks": "",
           "title": {
            "standoff": 15
           },
           "zerolinecolor": "white",
           "zerolinewidth": 2
          }
         }
        },
        "title": {
         "text": "Episode Segments Timeline - Character Positions \n /Users/aneteyabbey/ai/multimedia_analysis/dataset/segmented/lex_fridman/episode_2.json"
        },
        "xaxis": {
         "gridcolor": "LightGrey",
         "gridwidth": 1,
         "showgrid": true,
         "title": {
          "text": "Character Position"
         }
        },
        "yaxis": {
         "autorange": "reversed",
         "tickmode": "array",
         "ticktext": [
          "Seg 0: Meaning of Life...",
          "Seg 1: Human vs. AI Consciousness...",
          "Seg 2: AI Engineering and Safety...",
          "Seg 3: AI and Job Displacement...",
          "Seg 4: Psychology of Fear and Risk...",
          "Seg 5: Communicating AI to Public..."
         ],
         "tickvals": [
          0,
          1,
          2,
          3,
          4,
          5
         ],
         "title": {
          "text": "Segment"
         }
        }
       }
      }
     },
     "metadata": {},
     "output_type": "display_data"
    },
    {
     "data": {
      "application/vnd.plotly.v1+json": {
       "config": {
        "plotlyServerURL": "https://plot.ly"
       },
       "data": [
        {
         "hovertemplate": "<b>Biological vs. Artificial Neural Networks...</b><br>Start: 1<br>End: 1,063<br>Length: 1,062<br>Text: What difference between biological neural networks...<br><extra></extra>",
         "marker": {
          "opacity": 0,
          "size": 0.1
         },
         "mode": "markers",
         "showlegend": false,
         "type": "scatter",
         "x": [
          532
         ],
         "y": [
          0
         ]
        },
        {
         "hovertemplate": "<b>Credit Assignment in Neural Networks...</b><br>Start: 1,064<br>End: 2,674<br>Length: 1,610<br>Text: So let's break credit assignment up a little bit<br>...<br><extra></extra>",
         "marker": {
          "opacity": 0,
          "size": 0.1
         },
         "mode": "markers",
         "showlegend": false,
         "type": "scatter",
         "x": [
          1869
         ],
         "y": [
          1
         ]
        },
        {
         "hovertemplate": "<b>Weaknesses of Deep Neural Networks...</b><br>Start: 3,099<br>End: 4,698<br>Length: 1,599<br>Text: So you've been at the forefront there all along, s...<br><extra></extra>",
         "marker": {
          "opacity": 0,
          "size": 0.1
         },
         "mode": "markers",
         "showlegend": false,
         "type": "scatter",
         "x": [
          3898.5
         ],
         "y": [
          2
         ]
        },
        {
         "hovertemplate": "<b>Training Objectives and Active Agents...</b><br>Start: 5,003<br>End: 5,884<br>Length: 881<br>Text: Do you think that's an architecture challenge or i...<br><extra></extra>",
         "marker": {
          "opacity": 0,
          "size": 0.1
         },
         "mode": "markers",
         "showlegend": false,
         "type": "scatter",
         "x": [
          5443.5
         ],
         "y": [
          3
         ]
        },
        {
         "hovertemplate": "<b>Scaling Deep Learning Models...</b><br>Start: 5,885<br>End: 9,513<br>Length: 3,628<br>Text: Yeah, I've heard you mention in several contexts t...<br><extra></extra>",
         "marker": {
          "opacity": 0,
          "size": 0.1
         },
         "mode": "markers",
         "showlegend": false,
         "type": "scatter",
         "x": [
          7699
         ],
         "y": [
          4
         ]
        },
        {
         "hovertemplate": "<b>Priors and Common Sense Knowledge...</b><br>Start: 9,514<br>End: 10,313<br>Length: 799<br>Text: We talked about priors and common sense knowledge....<br><extra></extra>",
         "marker": {
          "opacity": 0,
          "size": 0.1
         },
         "mode": "markers",
         "showlegend": false,
         "type": "scatter",
         "x": [
          9913.5
         ],
         "y": [
          5
         ]
        },
        {
         "hovertemplate": "<b>Distributed vs. Symbolic Representations...</b><br>Start: 10,313<br>End: 11,858<br>Length: 1,545<br>Text: Right, so first of all, I believe that one reason ...<br><extra></extra>",
         "marker": {
          "opacity": 0,
          "size": 0.1
         },
         "mode": "markers",
         "showlegend": false,
         "type": "scatter",
         "x": [
          11085.5
         ],
         "y": [
          6
         ]
        },
        {
         "hovertemplate": "<b>Disentangled Representations and Rules...</b><br>Start: 11,859<br>End: 14,659<br>Length: 2,800<br>Text: And on that line of thinking, disentangled represe...<br><extra></extra>",
         "marker": {
          "opacity": 0,
          "size": 0.1
         },
         "mode": "markers",
         "showlegend": false,
         "type": "scatter",
         "x": [
          13259
         ],
         "y": [
          7
         ]
        },
        {
         "hovertemplate": "<b>Generalization to New Distributions...</b><br>Start: 14,660<br>End: 16,611<br>Length: 1,951<br>Text: And you draw a distinction between semantic space ...<br><extra></extra>",
         "marker": {
          "opacity": 0,
          "size": 0.1
         },
         "mode": "markers",
         "showlegend": false,
         "type": "scatter",
         "x": [
          15635.5
         ],
         "y": [
          8
         ]
        },
        {
         "hovertemplate": "<b>AI Safety and Public Perception...</b><br>Start: 16,612<br>End: 19,431<br>Length: 2,819<br>Text: Taking that analogy further and distorting it, let...<br><extra></extra>",
         "marker": {
          "opacity": 0,
          "size": 0.1
         },
         "mode": "markers",
         "showlegend": false,
         "type": "scatter",
         "x": [
          18021.5
         ],
         "y": [
          9
         ]
        },
        {
         "hovertemplate": "<b>Critique of Ex Machina...</b><br>Start: 19,432<br>End: 20,520<br>Length: 1,088<br>Text: So before I continue down that line, I have a few ...<br><extra></extra>",
         "marker": {
          "opacity": 0,
          "size": 0.1
         },
         "mode": "markers",
         "showlegend": false,
         "type": "scatter",
         "x": [
          19976
         ],
         "y": [
          10
         ]
        },
        {
         "hovertemplate": "<b>Openness of AI Research...</b><br>Start: 20,521<br>End: 21,667<br>Length: 1,146<br>Text: Yeah, let me ask on that point<br>It's been the case...<br><extra></extra>",
         "marker": {
          "opacity": 0,
          "size": 0.1
         },
         "mode": "markers",
         "showlegend": false,
         "type": "scatter",
         "x": [
          21094
         ],
         "y": [
          11
         ]
        },
        {
         "hovertemplate": "<b>Diversity in AI Research...</b><br>Start: 21,695<br>End: 22,600<br>Length: 905<br>Text: There's an important principle in research, which ...<br><extra></extra>",
         "marker": {
          "opacity": 0,
          "size": 0.1
         },
         "mode": "markers",
         "showlegend": false,
         "type": "scatter",
         "x": [
          22147.5
         ],
         "y": [
          12
         ]
        },
        {
         "hovertemplate": "<b>Instilling Human Values in AI...</b><br>Start: 22,601<br>End: 25,507<br>Length: 2,906<br>Text: So the idea of bias in the human sense of bias, ho...<br><extra></extra>",
         "marker": {
          "opacity": 0,
          "size": 0.1
         },
         "mode": "markers",
         "showlegend": false,
         "type": "scatter",
         "x": [
          24054
         ],
         "y": [
          13
         ]
        },
        {
         "hovertemplate": "<b>Machine Teaching and Human-AI Interaction...</b><br>Start: 25,508<br>End: 27,735<br>Length: 2,227<br>Text: You have shown excitement and done a lot of excell...<br><extra></extra>",
         "marker": {
          "opacity": 0,
          "size": 0.1
         },
         "mode": "markers",
         "showlegend": false,
         "type": "scatter",
         "x": [
          26621.5
         ],
         "y": [
          14
         ]
        },
        {
         "hovertemplate": "<b>Turing Test and Non-Linguistic Knowledge...</b><br>Start: 27,736<br>End: 28,663<br>Length: 927<br>Text: You've done a lot of work with language too, what ...<br><extra></extra>",
         "marker": {
          "opacity": 0,
          "size": 0.1
         },
         "mode": "markers",
         "showlegend": false,
         "type": "scatter",
         "x": [
          28199.5
         ],
         "y": [
          15
         ]
        },
        {
         "hovertemplate": "<b>Language Independence in AI...</b><br>Start: 28,664<br>End: 29,797<br>Length: 1,133<br>Text: You speak French? Yes, it's my mother tongue<br>It's...<br><extra></extra>",
         "marker": {
          "opacity": 0,
          "size": 0.1
         },
         "mode": "markers",
         "showlegend": false,
         "type": "scatter",
         "x": [
          29230.5
         ],
         "y": [
          16
         ]
        },
        {
         "hovertemplate": "<b>Navigating AI Winters...</b><br>Start: 29,798<br>End: 30,653<br>Length: 855<br>Text: So you've lived perhaps through an AI winter of so...<br><extra></extra>",
         "marker": {
          "opacity": 0,
          "size": 0.1
         },
         "mode": "markers",
         "showlegend": false,
         "type": "scatter",
         "x": [
          30225.5
         ],
         "y": [
          17
         ]
        },
        {
         "hovertemplate": "<b>Future Breakthroughs in AI...</b><br>Start: 30,654<br>End: 33,382<br>Length: 2,728<br>Text: So history of AI is marked with these, of course i...<br><extra></extra>",
         "marker": {
          "opacity": 0,
          "size": 0.1
         },
         "mode": "markers",
         "showlegend": false,
         "type": "scatter",
         "x": [
          32018
         ],
         "y": [
          18
         ]
        },
        {
         "hovertemplate": "<b>Inspiration for AI Passion...</b><br>Start: 33,383<br>End: 33,965<br>Length: 582<br>Text: Last question<br>What made you fall in love with art...<br><extra></extra>",
         "marker": {
          "opacity": 0,
          "size": 0.1
         },
         "mode": "markers",
         "showlegend": false,
         "type": "scatter",
         "x": [
          33674
         ],
         "y": [
          19
         ]
        }
       ],
       "layout": {
        "annotations": [
         {
          "bgcolor": "rgba(255,255,255,0.3)",
          "borderpad": 4,
          "font": {
           "color": "black",
           "family": "Arial Black",
           "size": 12
          },
          "showarrow": false,
          "text": "0",
          "x": 532,
          "y": 0
         },
         {
          "bgcolor": "rgba(255,255,255,0.3)",
          "borderpad": 4,
          "font": {
           "color": "black",
           "family": "Arial Black",
           "size": 12
          },
          "showarrow": false,
          "text": "1",
          "x": 1869,
          "y": 1
         },
         {
          "bgcolor": "rgba(255,255,255,0.3)",
          "borderpad": 4,
          "font": {
           "color": "black",
           "family": "Arial Black",
           "size": 12
          },
          "showarrow": false,
          "text": "2",
          "x": 3898.5,
          "y": 2
         },
         {
          "bgcolor": "rgba(255,255,255,0.3)",
          "borderpad": 4,
          "font": {
           "color": "black",
           "family": "Arial Black",
           "size": 12
          },
          "showarrow": false,
          "text": "3",
          "x": 5443.5,
          "y": 3
         },
         {
          "bgcolor": "rgba(255,255,255,0.3)",
          "borderpad": 4,
          "font": {
           "color": "black",
           "family": "Arial Black",
           "size": 12
          },
          "showarrow": false,
          "text": "4",
          "x": 7699,
          "y": 4
         },
         {
          "bgcolor": "rgba(255,255,255,0.3)",
          "borderpad": 4,
          "font": {
           "color": "black",
           "family": "Arial Black",
           "size": 12
          },
          "showarrow": false,
          "text": "5",
          "x": 9913.5,
          "y": 5
         },
         {
          "bgcolor": "rgba(255,255,255,0.3)",
          "borderpad": 4,
          "font": {
           "color": "black",
           "family": "Arial Black",
           "size": 12
          },
          "showarrow": false,
          "text": "6",
          "x": 11085.5,
          "y": 6
         },
         {
          "bgcolor": "rgba(255,255,255,0.3)",
          "borderpad": 4,
          "font": {
           "color": "black",
           "family": "Arial Black",
           "size": 12
          },
          "showarrow": false,
          "text": "7",
          "x": 13259,
          "y": 7
         },
         {
          "bgcolor": "rgba(255,255,255,0.3)",
          "borderpad": 4,
          "font": {
           "color": "black",
           "family": "Arial Black",
           "size": 12
          },
          "showarrow": false,
          "text": "8",
          "x": 15635.5,
          "y": 8
         },
         {
          "bgcolor": "rgba(255,255,255,0.3)",
          "borderpad": 4,
          "font": {
           "color": "black",
           "family": "Arial Black",
           "size": 12
          },
          "showarrow": false,
          "text": "9",
          "x": 18021.5,
          "y": 9
         },
         {
          "bgcolor": "rgba(255,255,255,0.3)",
          "borderpad": 4,
          "font": {
           "color": "black",
           "family": "Arial Black",
           "size": 12
          },
          "showarrow": false,
          "text": "10",
          "x": 19976,
          "y": 10
         },
         {
          "bgcolor": "rgba(255,255,255,0.3)",
          "borderpad": 4,
          "font": {
           "color": "black",
           "family": "Arial Black",
           "size": 12
          },
          "showarrow": false,
          "text": "11",
          "x": 21094,
          "y": 11
         },
         {
          "bgcolor": "rgba(255,255,255,0.3)",
          "borderpad": 4,
          "font": {
           "color": "black",
           "family": "Arial Black",
           "size": 12
          },
          "showarrow": false,
          "text": "12",
          "x": 22147.5,
          "y": 12
         },
         {
          "bgcolor": "rgba(255,255,255,0.3)",
          "borderpad": 4,
          "font": {
           "color": "black",
           "family": "Arial Black",
           "size": 12
          },
          "showarrow": false,
          "text": "13",
          "x": 24054,
          "y": 13
         },
         {
          "bgcolor": "rgba(255,255,255,0.3)",
          "borderpad": 4,
          "font": {
           "color": "black",
           "family": "Arial Black",
           "size": 12
          },
          "showarrow": false,
          "text": "14",
          "x": 26621.5,
          "y": 14
         },
         {
          "bgcolor": "rgba(255,255,255,0.3)",
          "borderpad": 4,
          "font": {
           "color": "black",
           "family": "Arial Black",
           "size": 12
          },
          "showarrow": false,
          "text": "15",
          "x": 28199.5,
          "y": 15
         },
         {
          "bgcolor": "rgba(255,255,255,0.3)",
          "borderpad": 4,
          "font": {
           "color": "black",
           "family": "Arial Black",
           "size": 12
          },
          "showarrow": false,
          "text": "16",
          "x": 29230.5,
          "y": 16
         },
         {
          "bgcolor": "rgba(255,255,255,0.3)",
          "borderpad": 4,
          "font": {
           "color": "black",
           "family": "Arial Black",
           "size": 12
          },
          "showarrow": false,
          "text": "17",
          "x": 30225.5,
          "y": 17
         },
         {
          "bgcolor": "rgba(255,255,255,0.3)",
          "borderpad": 4,
          "font": {
           "color": "black",
           "family": "Arial Black",
           "size": 12
          },
          "showarrow": false,
          "text": "18",
          "x": 32018,
          "y": 18
         },
         {
          "bgcolor": "rgba(255,255,255,0.3)",
          "borderpad": 4,
          "font": {
           "color": "black",
           "family": "Arial Black",
           "size": 12
          },
          "showarrow": false,
          "text": "19",
          "x": 33674,
          "y": 19
         }
        ],
        "height": 1600,
        "hovermode": "closest",
        "shapes": [
         {
          "fillcolor": "hsl(0.0, 70%, 50%)",
          "line": {
           "color": "black",
           "width": 1
          },
          "opacity": 0.8,
          "type": "rect",
          "x0": 1,
          "x1": 1063,
          "y0": -0.3,
          "y1": 0.3
         },
         {
          "fillcolor": "hsl(18.0, 70%, 50%)",
          "line": {
           "color": "black",
           "width": 1
          },
          "opacity": 0.8,
          "type": "rect",
          "x0": 1064,
          "x1": 2674,
          "y0": 0.7,
          "y1": 1.3
         },
         {
          "fillcolor": "hsl(36.0, 70%, 50%)",
          "line": {
           "color": "black",
           "width": 1
          },
          "opacity": 0.8,
          "type": "rect",
          "x0": 3099,
          "x1": 4698,
          "y0": 1.7,
          "y1": 2.3
         },
         {
          "fillcolor": "hsl(54.0, 70%, 50%)",
          "line": {
           "color": "black",
           "width": 1
          },
          "opacity": 0.8,
          "type": "rect",
          "x0": 5003,
          "x1": 5884,
          "y0": 2.7,
          "y1": 3.3
         },
         {
          "fillcolor": "hsl(72.0, 70%, 50%)",
          "line": {
           "color": "black",
           "width": 1
          },
          "opacity": 0.8,
          "type": "rect",
          "x0": 5885,
          "x1": 9513,
          "y0": 3.7,
          "y1": 4.3
         },
         {
          "fillcolor": "hsl(90.0, 70%, 50%)",
          "line": {
           "color": "black",
           "width": 1
          },
          "opacity": 0.8,
          "type": "rect",
          "x0": 9514,
          "x1": 10313,
          "y0": 4.7,
          "y1": 5.3
         },
         {
          "fillcolor": "hsl(108.0, 70%, 50%)",
          "line": {
           "color": "black",
           "width": 1
          },
          "opacity": 0.8,
          "type": "rect",
          "x0": 10313,
          "x1": 11858,
          "y0": 5.7,
          "y1": 6.3
         },
         {
          "fillcolor": "hsl(126.0, 70%, 50%)",
          "line": {
           "color": "black",
           "width": 1
          },
          "opacity": 0.8,
          "type": "rect",
          "x0": 11859,
          "x1": 14659,
          "y0": 6.7,
          "y1": 7.3
         },
         {
          "fillcolor": "hsl(144.0, 70%, 50%)",
          "line": {
           "color": "black",
           "width": 1
          },
          "opacity": 0.8,
          "type": "rect",
          "x0": 14660,
          "x1": 16611,
          "y0": 7.7,
          "y1": 8.3
         },
         {
          "fillcolor": "hsl(162.0, 70%, 50%)",
          "line": {
           "color": "black",
           "width": 1
          },
          "opacity": 0.8,
          "type": "rect",
          "x0": 16612,
          "x1": 19431,
          "y0": 8.7,
          "y1": 9.3
         },
         {
          "fillcolor": "hsl(180.0, 70%, 50%)",
          "line": {
           "color": "black",
           "width": 1
          },
          "opacity": 0.8,
          "type": "rect",
          "x0": 19432,
          "x1": 20520,
          "y0": 9.7,
          "y1": 10.3
         },
         {
          "fillcolor": "hsl(198.0, 70%, 50%)",
          "line": {
           "color": "black",
           "width": 1
          },
          "opacity": 0.8,
          "type": "rect",
          "x0": 20521,
          "x1": 21667,
          "y0": 10.7,
          "y1": 11.3
         },
         {
          "fillcolor": "hsl(216.0, 70%, 50%)",
          "line": {
           "color": "black",
           "width": 1
          },
          "opacity": 0.8,
          "type": "rect",
          "x0": 21695,
          "x1": 22600,
          "y0": 11.7,
          "y1": 12.3
         },
         {
          "fillcolor": "hsl(234.0, 70%, 50%)",
          "line": {
           "color": "black",
           "width": 1
          },
          "opacity": 0.8,
          "type": "rect",
          "x0": 22601,
          "x1": 25507,
          "y0": 12.7,
          "y1": 13.3
         },
         {
          "fillcolor": "hsl(252.0, 70%, 50%)",
          "line": {
           "color": "black",
           "width": 1
          },
          "opacity": 0.8,
          "type": "rect",
          "x0": 25508,
          "x1": 27735,
          "y0": 13.7,
          "y1": 14.3
         },
         {
          "fillcolor": "hsl(270.0, 70%, 50%)",
          "line": {
           "color": "black",
           "width": 1
          },
          "opacity": 0.8,
          "type": "rect",
          "x0": 27736,
          "x1": 28663,
          "y0": 14.7,
          "y1": 15.3
         },
         {
          "fillcolor": "hsl(288.0, 70%, 50%)",
          "line": {
           "color": "black",
           "width": 1
          },
          "opacity": 0.8,
          "type": "rect",
          "x0": 28664,
          "x1": 29797,
          "y0": 15.7,
          "y1": 16.3
         },
         {
          "fillcolor": "hsl(306.0, 70%, 50%)",
          "line": {
           "color": "black",
           "width": 1
          },
          "opacity": 0.8,
          "type": "rect",
          "x0": 29798,
          "x1": 30653,
          "y0": 16.7,
          "y1": 17.3
         },
         {
          "fillcolor": "hsl(324.0, 70%, 50%)",
          "line": {
           "color": "black",
           "width": 1
          },
          "opacity": 0.8,
          "type": "rect",
          "x0": 30654,
          "x1": 33382,
          "y0": 17.7,
          "y1": 18.3
         },
         {
          "fillcolor": "hsl(342.0, 70%, 50%)",
          "line": {
           "color": "black",
           "width": 1
          },
          "opacity": 0.8,
          "type": "rect",
          "x0": 33383,
          "x1": 33965,
          "y0": 18.7,
          "y1": 19.3
         }
        ],
        "showlegend": false,
        "template": {
         "data": {
          "bar": [
           {
            "error_x": {
             "color": "#2a3f5f"
            },
            "error_y": {
             "color": "#2a3f5f"
            },
            "marker": {
             "line": {
              "color": "#E5ECF6",
              "width": 0.5
             },
             "pattern": {
              "fillmode": "overlay",
              "size": 10,
              "solidity": 0.2
             }
            },
            "type": "bar"
           }
          ],
          "barpolar": [
           {
            "marker": {
             "line": {
              "color": "#E5ECF6",
              "width": 0.5
             },
             "pattern": {
              "fillmode": "overlay",
              "size": 10,
              "solidity": 0.2
             }
            },
            "type": "barpolar"
           }
          ],
          "carpet": [
           {
            "aaxis": {
             "endlinecolor": "#2a3f5f",
             "gridcolor": "white",
             "linecolor": "white",
             "minorgridcolor": "white",
             "startlinecolor": "#2a3f5f"
            },
            "baxis": {
             "endlinecolor": "#2a3f5f",
             "gridcolor": "white",
             "linecolor": "white",
             "minorgridcolor": "white",
             "startlinecolor": "#2a3f5f"
            },
            "type": "carpet"
           }
          ],
          "choropleth": [
           {
            "colorbar": {
             "outlinewidth": 0,
             "ticks": ""
            },
            "type": "choropleth"
           }
          ],
          "contour": [
           {
            "colorbar": {
             "outlinewidth": 0,
             "ticks": ""
            },
            "colorscale": [
             [
              0,
              "#0d0887"
             ],
             [
              0.1111111111111111,
              "#46039f"
             ],
             [
              0.2222222222222222,
              "#7201a8"
             ],
             [
              0.3333333333333333,
              "#9c179e"
             ],
             [
              0.4444444444444444,
              "#bd3786"
             ],
             [
              0.5555555555555556,
              "#d8576b"
             ],
             [
              0.6666666666666666,
              "#ed7953"
             ],
             [
              0.7777777777777778,
              "#fb9f3a"
             ],
             [
              0.8888888888888888,
              "#fdca26"
             ],
             [
              1,
              "#f0f921"
             ]
            ],
            "type": "contour"
           }
          ],
          "contourcarpet": [
           {
            "colorbar": {
             "outlinewidth": 0,
             "ticks": ""
            },
            "type": "contourcarpet"
           }
          ],
          "heatmap": [
           {
            "colorbar": {
             "outlinewidth": 0,
             "ticks": ""
            },
            "colorscale": [
             [
              0,
              "#0d0887"
             ],
             [
              0.1111111111111111,
              "#46039f"
             ],
             [
              0.2222222222222222,
              "#7201a8"
             ],
             [
              0.3333333333333333,
              "#9c179e"
             ],
             [
              0.4444444444444444,
              "#bd3786"
             ],
             [
              0.5555555555555556,
              "#d8576b"
             ],
             [
              0.6666666666666666,
              "#ed7953"
             ],
             [
              0.7777777777777778,
              "#fb9f3a"
             ],
             [
              0.8888888888888888,
              "#fdca26"
             ],
             [
              1,
              "#f0f921"
             ]
            ],
            "type": "heatmap"
           }
          ],
          "heatmapgl": [
           {
            "colorbar": {
             "outlinewidth": 0,
             "ticks": ""
            },
            "colorscale": [
             [
              0,
              "#0d0887"
             ],
             [
              0.1111111111111111,
              "#46039f"
             ],
             [
              0.2222222222222222,
              "#7201a8"
             ],
             [
              0.3333333333333333,
              "#9c179e"
             ],
             [
              0.4444444444444444,
              "#bd3786"
             ],
             [
              0.5555555555555556,
              "#d8576b"
             ],
             [
              0.6666666666666666,
              "#ed7953"
             ],
             [
              0.7777777777777778,
              "#fb9f3a"
             ],
             [
              0.8888888888888888,
              "#fdca26"
             ],
             [
              1,
              "#f0f921"
             ]
            ],
            "type": "heatmapgl"
           }
          ],
          "histogram": [
           {
            "marker": {
             "pattern": {
              "fillmode": "overlay",
              "size": 10,
              "solidity": 0.2
             }
            },
            "type": "histogram"
           }
          ],
          "histogram2d": [
           {
            "colorbar": {
             "outlinewidth": 0,
             "ticks": ""
            },
            "colorscale": [
             [
              0,
              "#0d0887"
             ],
             [
              0.1111111111111111,
              "#46039f"
             ],
             [
              0.2222222222222222,
              "#7201a8"
             ],
             [
              0.3333333333333333,
              "#9c179e"
             ],
             [
              0.4444444444444444,
              "#bd3786"
             ],
             [
              0.5555555555555556,
              "#d8576b"
             ],
             [
              0.6666666666666666,
              "#ed7953"
             ],
             [
              0.7777777777777778,
              "#fb9f3a"
             ],
             [
              0.8888888888888888,
              "#fdca26"
             ],
             [
              1,
              "#f0f921"
             ]
            ],
            "type": "histogram2d"
           }
          ],
          "histogram2dcontour": [
           {
            "colorbar": {
             "outlinewidth": 0,
             "ticks": ""
            },
            "colorscale": [
             [
              0,
              "#0d0887"
             ],
             [
              0.1111111111111111,
              "#46039f"
             ],
             [
              0.2222222222222222,
              "#7201a8"
             ],
             [
              0.3333333333333333,
              "#9c179e"
             ],
             [
              0.4444444444444444,
              "#bd3786"
             ],
             [
              0.5555555555555556,
              "#d8576b"
             ],
             [
              0.6666666666666666,
              "#ed7953"
             ],
             [
              0.7777777777777778,
              "#fb9f3a"
             ],
             [
              0.8888888888888888,
              "#fdca26"
             ],
             [
              1,
              "#f0f921"
             ]
            ],
            "type": "histogram2dcontour"
           }
          ],
          "mesh3d": [
           {
            "colorbar": {
             "outlinewidth": 0,
             "ticks": ""
            },
            "type": "mesh3d"
           }
          ],
          "parcoords": [
           {
            "line": {
             "colorbar": {
              "outlinewidth": 0,
              "ticks": ""
             }
            },
            "type": "parcoords"
           }
          ],
          "pie": [
           {
            "automargin": true,
            "type": "pie"
           }
          ],
          "scatter": [
           {
            "fillpattern": {
             "fillmode": "overlay",
             "size": 10,
             "solidity": 0.2
            },
            "type": "scatter"
           }
          ],
          "scatter3d": [
           {
            "line": {
             "colorbar": {
              "outlinewidth": 0,
              "ticks": ""
             }
            },
            "marker": {
             "colorbar": {
              "outlinewidth": 0,
              "ticks": ""
             }
            },
            "type": "scatter3d"
           }
          ],
          "scattercarpet": [
           {
            "marker": {
             "colorbar": {
              "outlinewidth": 0,
              "ticks": ""
             }
            },
            "type": "scattercarpet"
           }
          ],
          "scattergeo": [
           {
            "marker": {
             "colorbar": {
              "outlinewidth": 0,
              "ticks": ""
             }
            },
            "type": "scattergeo"
           }
          ],
          "scattergl": [
           {
            "marker": {
             "colorbar": {
              "outlinewidth": 0,
              "ticks": ""
             }
            },
            "type": "scattergl"
           }
          ],
          "scattermapbox": [
           {
            "marker": {
             "colorbar": {
              "outlinewidth": 0,
              "ticks": ""
             }
            },
            "type": "scattermapbox"
           }
          ],
          "scatterpolar": [
           {
            "marker": {
             "colorbar": {
              "outlinewidth": 0,
              "ticks": ""
             }
            },
            "type": "scatterpolar"
           }
          ],
          "scatterpolargl": [
           {
            "marker": {
             "colorbar": {
              "outlinewidth": 0,
              "ticks": ""
             }
            },
            "type": "scatterpolargl"
           }
          ],
          "scatterternary": [
           {
            "marker": {
             "colorbar": {
              "outlinewidth": 0,
              "ticks": ""
             }
            },
            "type": "scatterternary"
           }
          ],
          "surface": [
           {
            "colorbar": {
             "outlinewidth": 0,
             "ticks": ""
            },
            "colorscale": [
             [
              0,
              "#0d0887"
             ],
             [
              0.1111111111111111,
              "#46039f"
             ],
             [
              0.2222222222222222,
              "#7201a8"
             ],
             [
              0.3333333333333333,
              "#9c179e"
             ],
             [
              0.4444444444444444,
              "#bd3786"
             ],
             [
              0.5555555555555556,
              "#d8576b"
             ],
             [
              0.6666666666666666,
              "#ed7953"
             ],
             [
              0.7777777777777778,
              "#fb9f3a"
             ],
             [
              0.8888888888888888,
              "#fdca26"
             ],
             [
              1,
              "#f0f921"
             ]
            ],
            "type": "surface"
           }
          ],
          "table": [
           {
            "cells": {
             "fill": {
              "color": "#EBF0F8"
             },
             "line": {
              "color": "white"
             }
            },
            "header": {
             "fill": {
              "color": "#C8D4E3"
             },
             "line": {
              "color": "white"
             }
            },
            "type": "table"
           }
          ]
         },
         "layout": {
          "annotationdefaults": {
           "arrowcolor": "#2a3f5f",
           "arrowhead": 0,
           "arrowwidth": 1
          },
          "autotypenumbers": "strict",
          "coloraxis": {
           "colorbar": {
            "outlinewidth": 0,
            "ticks": ""
           }
          },
          "colorscale": {
           "diverging": [
            [
             0,
             "#8e0152"
            ],
            [
             0.1,
             "#c51b7d"
            ],
            [
             0.2,
             "#de77ae"
            ],
            [
             0.3,
             "#f1b6da"
            ],
            [
             0.4,
             "#fde0ef"
            ],
            [
             0.5,
             "#f7f7f7"
            ],
            [
             0.6,
             "#e6f5d0"
            ],
            [
             0.7,
             "#b8e186"
            ],
            [
             0.8,
             "#7fbc41"
            ],
            [
             0.9,
             "#4d9221"
            ],
            [
             1,
             "#276419"
            ]
           ],
           "sequential": [
            [
             0,
             "#0d0887"
            ],
            [
             0.1111111111111111,
             "#46039f"
            ],
            [
             0.2222222222222222,
             "#7201a8"
            ],
            [
             0.3333333333333333,
             "#9c179e"
            ],
            [
             0.4444444444444444,
             "#bd3786"
            ],
            [
             0.5555555555555556,
             "#d8576b"
            ],
            [
             0.6666666666666666,
             "#ed7953"
            ],
            [
             0.7777777777777778,
             "#fb9f3a"
            ],
            [
             0.8888888888888888,
             "#fdca26"
            ],
            [
             1,
             "#f0f921"
            ]
           ],
           "sequentialminus": [
            [
             0,
             "#0d0887"
            ],
            [
             0.1111111111111111,
             "#46039f"
            ],
            [
             0.2222222222222222,
             "#7201a8"
            ],
            [
             0.3333333333333333,
             "#9c179e"
            ],
            [
             0.4444444444444444,
             "#bd3786"
            ],
            [
             0.5555555555555556,
             "#d8576b"
            ],
            [
             0.6666666666666666,
             "#ed7953"
            ],
            [
             0.7777777777777778,
             "#fb9f3a"
            ],
            [
             0.8888888888888888,
             "#fdca26"
            ],
            [
             1,
             "#f0f921"
            ]
           ]
          },
          "colorway": [
           "#636efa",
           "#EF553B",
           "#00cc96",
           "#ab63fa",
           "#FFA15A",
           "#19d3f3",
           "#FF6692",
           "#B6E880",
           "#FF97FF",
           "#FECB52"
          ],
          "font": {
           "color": "#2a3f5f"
          },
          "geo": {
           "bgcolor": "white",
           "lakecolor": "white",
           "landcolor": "#E5ECF6",
           "showlakes": true,
           "showland": true,
           "subunitcolor": "white"
          },
          "hoverlabel": {
           "align": "left"
          },
          "hovermode": "closest",
          "mapbox": {
           "style": "light"
          },
          "paper_bgcolor": "white",
          "plot_bgcolor": "#E5ECF6",
          "polar": {
           "angularaxis": {
            "gridcolor": "white",
            "linecolor": "white",
            "ticks": ""
           },
           "bgcolor": "#E5ECF6",
           "radialaxis": {
            "gridcolor": "white",
            "linecolor": "white",
            "ticks": ""
           }
          },
          "scene": {
           "xaxis": {
            "backgroundcolor": "#E5ECF6",
            "gridcolor": "white",
            "gridwidth": 2,
            "linecolor": "white",
            "showbackground": true,
            "ticks": "",
            "zerolinecolor": "white"
           },
           "yaxis": {
            "backgroundcolor": "#E5ECF6",
            "gridcolor": "white",
            "gridwidth": 2,
            "linecolor": "white",
            "showbackground": true,
            "ticks": "",
            "zerolinecolor": "white"
           },
           "zaxis": {
            "backgroundcolor": "#E5ECF6",
            "gridcolor": "white",
            "gridwidth": 2,
            "linecolor": "white",
            "showbackground": true,
            "ticks": "",
            "zerolinecolor": "white"
           }
          },
          "shapedefaults": {
           "line": {
            "color": "#2a3f5f"
           }
          },
          "ternary": {
           "aaxis": {
            "gridcolor": "white",
            "linecolor": "white",
            "ticks": ""
           },
           "baxis": {
            "gridcolor": "white",
            "linecolor": "white",
            "ticks": ""
           },
           "bgcolor": "#E5ECF6",
           "caxis": {
            "gridcolor": "white",
            "linecolor": "white",
            "ticks": ""
           }
          },
          "title": {
           "x": 0.05
          },
          "xaxis": {
           "automargin": true,
           "gridcolor": "white",
           "linecolor": "white",
           "ticks": "",
           "title": {
            "standoff": 15
           },
           "zerolinecolor": "white",
           "zerolinewidth": 2
          },
          "yaxis": {
           "automargin": true,
           "gridcolor": "white",
           "linecolor": "white",
           "ticks": "",
           "title": {
            "standoff": 15
           },
           "zerolinecolor": "white",
           "zerolinewidth": 2
          }
         }
        },
        "title": {
         "text": "Episode Segments Timeline - Character Positions \n /Users/aneteyabbey/ai/multimedia_analysis/dataset/segmented/lex_fridman/episode_3.json"
        },
        "xaxis": {
         "gridcolor": "LightGrey",
         "gridwidth": 1,
         "showgrid": true,
         "title": {
          "text": "Character Position"
         }
        },
        "yaxis": {
         "autorange": "reversed",
         "tickmode": "array",
         "ticktext": [
          "Seg 0: Biological vs. Artificial Neural Network...",
          "Seg 1: Credit Assignment in Neural Networks...",
          "Seg 2: Weaknesses of Deep Neural Networks...",
          "Seg 3: Training Objectives and Active Agents...",
          "Seg 4: Scaling Deep Learning Models...",
          "Seg 5: Priors and Common Sense Knowledge...",
          "Seg 6: Distributed vs. Symbolic Representations...",
          "Seg 7: Disentangled Representations and Rules...",
          "Seg 8: Generalization to New Distributions...",
          "Seg 9: AI Safety and Public Perception...",
          "Seg 10: Critique of Ex Machina...",
          "Seg 11: Openness of AI Research...",
          "Seg 12: Diversity in AI Research...",
          "Seg 13: Instilling Human Values in AI...",
          "Seg 14: Machine Teaching and Human-AI Interactio...",
          "Seg 15: Turing Test and Non-Linguistic Knowledge...",
          "Seg 16: Language Independence in AI...",
          "Seg 17: Navigating AI Winters...",
          "Seg 18: Future Breakthroughs in AI...",
          "Seg 19: Inspiration for AI Passion..."
         ],
         "tickvals": [
          0,
          1,
          2,
          3,
          4,
          5,
          6,
          7,
          8,
          9,
          10,
          11,
          12,
          13,
          14,
          15,
          16,
          17,
          18,
          19
         ],
         "title": {
          "text": "Segment"
         }
        }
       }
      }
     },
     "metadata": {},
     "output_type": "display_data"
    },
    {
     "data": {
      "application/vnd.plotly.v1+json": {
       "config": {
        "plotlyServerURL": "https://plot.ly"
       },
       "data": [
        {
         "hovertemplate": "<b>Introduction to Vladimir Vapnik...</b><br>Start: 1<br>End: 54<br>Length: 53<br>Text: The following is a conversation with Vladimir Vapn...<br><extra></extra>",
         "marker": {
          "opacity": 0,
          "size": 0.1
         },
         "mode": "markers",
         "showlegend": false,
         "type": "scatter",
         "x": [
          27.5
         ],
         "y": [
          0
         ]
        },
        {
         "hovertemplate": "<b>God, Dice, and Reality...</b><br>Start: 1,008<br>End: 1,351<br>Length: 343<br>Text: Einstein famously said that God doesn't play dice....<br><extra></extra>",
         "marker": {
          "opacity": 0,
          "size": 0.1
         },
         "mode": "markers",
         "showlegend": false,
         "type": "scatter",
         "x": [
          1179.5
         ],
         "y": [
          1
         ]
        },
        {
         "hovertemplate": "<b>Instrumentalism vs. Realism...</b><br>Start: 1,379<br>End: 2,984<br>Length: 1,605<br>Text: In philosophy, they distinguish between two positi...<br><extra></extra>",
         "marker": {
          "opacity": 0,
          "size": 0.1
         },
         "mode": "markers",
         "showlegend": false,
         "type": "scatter",
         "x": [
          2181.5
         ],
         "y": [
          2
         ]
        },
        {
         "hovertemplate": "<b>Role of Math in Science...</b><br>Start: 2,984<br>End: 4,248<br>Length: 1,264<br>Text: So let me just step back a little bit first to tal...<br><extra></extra>",
         "marker": {
          "opacity": 0,
          "size": 0.1
         },
         "mode": "markers",
         "showlegend": false,
         "type": "scatter",
         "x": [
          3616
         ],
         "y": [
          3
         ]
        },
        {
         "hovertemplate": "<b>Human Intuition vs. Math...</b><br>Start: 4,249<br>End: 5,392<br>Length: 1,143<br>Text: So math can reveal the simple underlying principle...<br><extra></extra>",
         "marker": {
          "opacity": 0,
          "size": 0.1
         },
         "mode": "markers",
         "showlegend": false,
         "type": "scatter",
         "x": [
          4820.5
         ],
         "y": [
          4
         ]
        },
        {
         "hovertemplate": "<b>Interpreting Brain Processes...</b><br>Start: 5,393<br>End: 7,978<br>Length: 2,585<br>Text: So let me take a step back<br>In general, yes<br>But w...<br><extra></extra>",
         "marker": {
          "opacity": 0,
          "size": 0.1
         },
         "mode": "markers",
         "showlegend": false,
         "type": "scatter",
         "x": [
          6685.5
         ],
         "y": [
          5
         ]
        },
        {
         "hovertemplate": "<b>The Great Teacher...</b><br>Start: 7,978<br>End: 8,358<br>Length: 380<br>Text: The most important part, you know, I believe in hu...<br><extra></extra>",
         "marker": {
          "opacity": 0,
          "size": 0.1
         },
         "mode": "markers",
         "showlegend": false,
         "type": "scatter",
         "x": [
          8168
         ],
         "y": [
          6
         ]
        },
        {
         "hovertemplate": "<b>Strong and Weak Convergence...</b><br>Start: 9,550<br>End: 10,050<br>Length: 500<br>Text: I believe that it is sort of predicate, but I don'...<br><extra></extra>",
         "marker": {
          "opacity": 0,
          "size": 0.1
         },
         "mode": "markers",
         "showlegend": false,
         "type": "scatter",
         "x": [
          9800
         ],
         "y": [
          7
         ]
        },
        {
         "hovertemplate": "<b>The Duck Test Predicate...</b><br>Start: 10,051<br>End: 10,606<br>Length: 555<br>Text: You know, there is English proverb, great<br>If it l...<br><extra></extra>",
         "marker": {
          "opacity": 0,
          "size": 0.1
         },
         "mode": "markers",
         "showlegend": false,
         "type": "scatter",
         "x": [
          10328.5
         ],
         "y": [
          8
         ]
        },
        {
         "hovertemplate": "<b>Integrating Predicates in ML...</b><br>Start: 10,607<br>End: 12,366<br>Length: 1,759<br>Text: So about looks like a duck, it is general<br>But wha...<br><extra></extra>",
         "marker": {
          "opacity": 0,
          "size": 0.1
         },
         "mode": "markers",
         "showlegend": false,
         "type": "scatter",
         "x": [
          11486.5
         ],
         "y": [
          9
         ]
        },
        {
         "hovertemplate": "<b>VC Theory and Learning...</b><br>Start: 12,609<br>End: 13,742<br>Length: 1,133<br>Text: So you talk about admissible set of functions and ...<br><extra></extra>",
         "marker": {
          "opacity": 0,
          "size": 0.1
         },
         "mode": "markers",
         "showlegend": false,
         "type": "scatter",
         "x": [
          13175.5
         ],
         "y": [
          10
         ]
        },
        {
         "hovertemplate": "<b>Creating Admissible Functions...</b><br>Start: 13,743<br>End: 15,669<br>Length: 1,926<br>Text: So that is the task of learning<br>Yeah<br>So the goal...<br><extra></extra>",
         "marker": {
          "opacity": 0,
          "size": 0.1
         },
         "mode": "markers",
         "showlegend": false,
         "type": "scatter",
         "x": [
          14706
         ],
         "y": [
          11
         ]
        },
        {
         "hovertemplate": "<b>Critique of Deep Learning...</b><br>Start: 15,670<br>End: 17,821<br>Length: 2,151<br>Text: Incorporating the specialized predicates<br>Okay<br>Wh...<br><extra></extra>",
         "marker": {
          "opacity": 0,
          "size": 0.1
         },
         "mode": "markers",
         "showlegend": false,
         "type": "scatter",
         "x": [
          16745.5
         ],
         "y": [
          12
         ]
        },
        {
         "hovertemplate": "<b>Imagination vs. Mathematical Derivation...</b><br>Start: 17,822<br>End: 18,671<br>Length: 849<br>Text: Even more, I would say one of the theorem which ca...<br><extra></extra>",
         "marker": {
          "opacity": 0,
          "size": 0.1
         },
         "mode": "markers",
         "showlegend": false,
         "type": "scatter",
         "x": [
          18246.5
         ],
         "y": [
          13
         ]
        },
        {
         "hovertemplate": "<b>AlphaGo and Problem Difficulty...</b><br>Start: 18,672<br>End: 19,735<br>Length: 1,063<br>Text: I think that if you're trying to analyze this..<br>T...<br><extra></extra>",
         "marker": {
          "opacity": 0,
          "size": 0.1
         },
         "mode": "markers",
         "showlegend": false,
         "type": "scatter",
         "x": [
          19203.5
         ],
         "y": [
          14
         ]
        },
        {
         "hovertemplate": "<b>Intelligence and Imitation...</b><br>Start: 20,051<br>End: 21,889<br>Length: 1,838<br>Text: Yeah, but you don't need this<br>So I describe chall...<br><extra></extra>",
         "marker": {
          "opacity": 0,
          "size": 0.1
         },
         "mode": "markers",
         "showlegend": false,
         "type": "scatter",
         "x": [
          20970
         ],
         "y": [
          15
         ]
        },
        {
         "hovertemplate": "<b>Shared World Intelligence...</b><br>Start: 21,890<br>End: 22,555<br>Length: 665<br>Text: So now we understand that the problem not in imita...<br><extra></extra>",
         "marker": {
          "opacity": 0,
          "size": 0.1
         },
         "mode": "markers",
         "showlegend": false,
         "type": "scatter",
         "x": [
          22222.5
         ],
         "y": [
          16
         ]
        },
        {
         "hovertemplate": "<b>Complexity and Edge Cases...</b><br>Start: 22,556<br>End: 24,330<br>Length: 1,774<br>Text: And many mathematicians thinks that when they deve...<br><extra></extra>",
         "marker": {
          "opacity": 0,
          "size": 0.1
         },
         "mode": "markers",
         "showlegend": false,
         "type": "scatter",
         "x": [
          23443
         ],
         "y": [
          17
         ]
        },
        {
         "hovertemplate": "<b>Law of Large Numbers...</b><br>Start: 24,360<br>End: 25,665<br>Length: 1,305<br>Text: Do you think the edges are interesting? The edges ...<br><extra></extra>",
         "marker": {
          "opacity": 0,
          "size": 0.1
         },
         "mode": "markers",
         "showlegend": false,
         "type": "scatter",
         "x": [
          25012.5
         ],
         "y": [
          18
         ]
        },
        {
         "hovertemplate": "<b>Intelligence and Predicate Generation...</b><br>Start: 25,831<br>End: 26,314<br>Length: 483<br>Text: Is it useful to describe that a little more or sho...<br><extra></extra>",
         "marker": {
          "opacity": 0,
          "size": 0.1
         },
         "mode": "markers",
         "showlegend": false,
         "type": "scatter",
         "x": [
          26072.5
         ],
         "y": [
          19
         ]
        },
        {
         "hovertemplate": "<b>The Teacher's Role in Intelligence...</b><br>Start: 26,315<br>End: 27,653<br>Length: 1,338<br>Text: Until now, all business, I don't like how people c...<br><extra></extra>",
         "marker": {
          "opacity": 0,
          "size": 0.1
         },
         "mode": "markers",
         "showlegend": false,
         "type": "scatter",
         "x": [
          26984
         ],
         "y": [
          20
         ]
        },
        {
         "hovertemplate": "<b>Open Problems in Intelligence...</b><br>Start: 27,654<br>End: 28,347<br>Length: 693<br>Text: Yeah<br>So you think we really even haven't started ...<br><extra></extra>",
         "marker": {
          "opacity": 0,
          "size": 0.1
         },
         "mode": "markers",
         "showlegend": false,
         "type": "scatter",
         "x": [
          28000.5
         ],
         "y": [
          21
         ]
        },
        {
         "hovertemplate": "<b>Most Exciting Problem...</b><br>Start: 28,348<br>End: 28,904<br>Length: 556<br>Text: The whole..<br>Yeah<br>From whatever model I have, one...<br><extra></extra>",
         "marker": {
          "opacity": 0,
          "size": 0.1
         },
         "mode": "markers",
         "showlegend": false,
         "type": "scatter",
         "x": [
          28626
         ],
         "y": [
          22
         ]
        },
        {
         "hovertemplate": "<b>Digit Recognition Challenge...</b><br>Start: 28,948<br>End: 30,927<br>Length: 1,979<br>Text: And if we will know the intelligent part, so it wi...<br><extra></extra>",
         "marker": {
          "opacity": 0,
          "size": 0.1
         },
         "mode": "markers",
         "showlegend": false,
         "type": "scatter",
         "x": [
          29937.5
         ],
         "y": [
          23
         ]
        },
        {
         "hovertemplate": "<b>Information in Predicates...</b><br>Start: 30,928<br>End: 32,317<br>Length: 1,389<br>Text: But what else? I think on digit I see that it is m...<br><extra></extra>",
         "marker": {
          "opacity": 0,
          "size": 0.1
         },
         "mode": "markers",
         "showlegend": false,
         "type": "scatter",
         "x": [
          31622.5
         ],
         "y": [
          24
         ]
        },
        {
         "hovertemplate": "<b>Poetry, Philosophy, and Ground Truth...</b><br>Start: 32,318<br>End: 33,458<br>Length: 1,140<br>Text: But when you use one predicate, which looks like a...<br><extra></extra>",
         "marker": {
          "opacity": 0,
          "size": 0.1
         },
         "mode": "markers",
         "showlegend": false,
         "type": "scatter",
         "x": [
          32888
         ],
         "y": [
          25
         ]
        },
        {
         "hovertemplate": "<b>Happiest Moments as Researcher...</b><br>Start: 33,658<br>End: 34,396<br>Length: 738<br>Text: It is structure<br>The structure of it<br>The math of ...<br><extra></extra>",
         "marker": {
          "opacity": 0,
          "size": 0.1
         },
         "mode": "markers",
         "showlegend": false,
         "type": "scatter",
         "x": [
          34027
         ],
         "y": [
          26
         ]
        },
        {
         "hovertemplate": "<b>Profound Discoveries and Future...</b><br>Start: 34,397<br>End: 36,080<br>Length: 1,683<br>Text: You know, every time when you found something, it ...<br><extra></extra>",
         "marker": {
          "opacity": 0,
          "size": 0.1
         },
         "mode": "markers",
         "showlegend": false,
         "type": "scatter",
         "x": [
          35238.5
         ],
         "y": [
          27
         ]
        }
       ],
       "layout": {
        "annotations": [
         {
          "bgcolor": "rgba(255,255,255,0.3)",
          "borderpad": 4,
          "font": {
           "color": "black",
           "family": "Arial Black",
           "size": 12
          },
          "showarrow": false,
          "text": "0",
          "x": 27.5,
          "y": 0
         },
         {
          "bgcolor": "rgba(255,255,255,0.3)",
          "borderpad": 4,
          "font": {
           "color": "black",
           "family": "Arial Black",
           "size": 12
          },
          "showarrow": false,
          "text": "1",
          "x": 1179.5,
          "y": 1
         },
         {
          "bgcolor": "rgba(255,255,255,0.3)",
          "borderpad": 4,
          "font": {
           "color": "black",
           "family": "Arial Black",
           "size": 12
          },
          "showarrow": false,
          "text": "2",
          "x": 2181.5,
          "y": 2
         },
         {
          "bgcolor": "rgba(255,255,255,0.3)",
          "borderpad": 4,
          "font": {
           "color": "black",
           "family": "Arial Black",
           "size": 12
          },
          "showarrow": false,
          "text": "3",
          "x": 3616,
          "y": 3
         },
         {
          "bgcolor": "rgba(255,255,255,0.3)",
          "borderpad": 4,
          "font": {
           "color": "black",
           "family": "Arial Black",
           "size": 12
          },
          "showarrow": false,
          "text": "4",
          "x": 4820.5,
          "y": 4
         },
         {
          "bgcolor": "rgba(255,255,255,0.3)",
          "borderpad": 4,
          "font": {
           "color": "black",
           "family": "Arial Black",
           "size": 12
          },
          "showarrow": false,
          "text": "5",
          "x": 6685.5,
          "y": 5
         },
         {
          "bgcolor": "rgba(255,255,255,0.3)",
          "borderpad": 4,
          "font": {
           "color": "black",
           "family": "Arial Black",
           "size": 12
          },
          "showarrow": false,
          "text": "6",
          "x": 8168,
          "y": 6
         },
         {
          "bgcolor": "rgba(255,255,255,0.3)",
          "borderpad": 4,
          "font": {
           "color": "black",
           "family": "Arial Black",
           "size": 12
          },
          "showarrow": false,
          "text": "7",
          "x": 9800,
          "y": 7
         },
         {
          "bgcolor": "rgba(255,255,255,0.3)",
          "borderpad": 4,
          "font": {
           "color": "black",
           "family": "Arial Black",
           "size": 12
          },
          "showarrow": false,
          "text": "8",
          "x": 10328.5,
          "y": 8
         },
         {
          "bgcolor": "rgba(255,255,255,0.3)",
          "borderpad": 4,
          "font": {
           "color": "black",
           "family": "Arial Black",
           "size": 12
          },
          "showarrow": false,
          "text": "9",
          "x": 11486.5,
          "y": 9
         },
         {
          "bgcolor": "rgba(255,255,255,0.3)",
          "borderpad": 4,
          "font": {
           "color": "black",
           "family": "Arial Black",
           "size": 12
          },
          "showarrow": false,
          "text": "10",
          "x": 13175.5,
          "y": 10
         },
         {
          "bgcolor": "rgba(255,255,255,0.3)",
          "borderpad": 4,
          "font": {
           "color": "black",
           "family": "Arial Black",
           "size": 12
          },
          "showarrow": false,
          "text": "11",
          "x": 14706,
          "y": 11
         },
         {
          "bgcolor": "rgba(255,255,255,0.3)",
          "borderpad": 4,
          "font": {
           "color": "black",
           "family": "Arial Black",
           "size": 12
          },
          "showarrow": false,
          "text": "12",
          "x": 16745.5,
          "y": 12
         },
         {
          "bgcolor": "rgba(255,255,255,0.3)",
          "borderpad": 4,
          "font": {
           "color": "black",
           "family": "Arial Black",
           "size": 12
          },
          "showarrow": false,
          "text": "13",
          "x": 18246.5,
          "y": 13
         },
         {
          "bgcolor": "rgba(255,255,255,0.3)",
          "borderpad": 4,
          "font": {
           "color": "black",
           "family": "Arial Black",
           "size": 12
          },
          "showarrow": false,
          "text": "14",
          "x": 19203.5,
          "y": 14
         },
         {
          "bgcolor": "rgba(255,255,255,0.3)",
          "borderpad": 4,
          "font": {
           "color": "black",
           "family": "Arial Black",
           "size": 12
          },
          "showarrow": false,
          "text": "15",
          "x": 20970,
          "y": 15
         },
         {
          "bgcolor": "rgba(255,255,255,0.3)",
          "borderpad": 4,
          "font": {
           "color": "black",
           "family": "Arial Black",
           "size": 12
          },
          "showarrow": false,
          "text": "16",
          "x": 22222.5,
          "y": 16
         },
         {
          "bgcolor": "rgba(255,255,255,0.3)",
          "borderpad": 4,
          "font": {
           "color": "black",
           "family": "Arial Black",
           "size": 12
          },
          "showarrow": false,
          "text": "17",
          "x": 23443,
          "y": 17
         },
         {
          "bgcolor": "rgba(255,255,255,0.3)",
          "borderpad": 4,
          "font": {
           "color": "black",
           "family": "Arial Black",
           "size": 12
          },
          "showarrow": false,
          "text": "18",
          "x": 25012.5,
          "y": 18
         },
         {
          "bgcolor": "rgba(255,255,255,0.3)",
          "borderpad": 4,
          "font": {
           "color": "black",
           "family": "Arial Black",
           "size": 12
          },
          "showarrow": false,
          "text": "19",
          "x": 26072.5,
          "y": 19
         },
         {
          "bgcolor": "rgba(255,255,255,0.3)",
          "borderpad": 4,
          "font": {
           "color": "black",
           "family": "Arial Black",
           "size": 12
          },
          "showarrow": false,
          "text": "20",
          "x": 26984,
          "y": 20
         },
         {
          "bgcolor": "rgba(255,255,255,0.3)",
          "borderpad": 4,
          "font": {
           "color": "black",
           "family": "Arial Black",
           "size": 12
          },
          "showarrow": false,
          "text": "21",
          "x": 28000.5,
          "y": 21
         },
         {
          "bgcolor": "rgba(255,255,255,0.3)",
          "borderpad": 4,
          "font": {
           "color": "black",
           "family": "Arial Black",
           "size": 12
          },
          "showarrow": false,
          "text": "22",
          "x": 28626,
          "y": 22
         },
         {
          "bgcolor": "rgba(255,255,255,0.3)",
          "borderpad": 4,
          "font": {
           "color": "black",
           "family": "Arial Black",
           "size": 12
          },
          "showarrow": false,
          "text": "23",
          "x": 29937.5,
          "y": 23
         },
         {
          "bgcolor": "rgba(255,255,255,0.3)",
          "borderpad": 4,
          "font": {
           "color": "black",
           "family": "Arial Black",
           "size": 12
          },
          "showarrow": false,
          "text": "24",
          "x": 31622.5,
          "y": 24
         },
         {
          "bgcolor": "rgba(255,255,255,0.3)",
          "borderpad": 4,
          "font": {
           "color": "black",
           "family": "Arial Black",
           "size": 12
          },
          "showarrow": false,
          "text": "25",
          "x": 32888,
          "y": 25
         },
         {
          "bgcolor": "rgba(255,255,255,0.3)",
          "borderpad": 4,
          "font": {
           "color": "black",
           "family": "Arial Black",
           "size": 12
          },
          "showarrow": false,
          "text": "26",
          "x": 34027,
          "y": 26
         },
         {
          "bgcolor": "rgba(255,255,255,0.3)",
          "borderpad": 4,
          "font": {
           "color": "black",
           "family": "Arial Black",
           "size": 12
          },
          "showarrow": false,
          "text": "27",
          "x": 35238.5,
          "y": 27
         }
        ],
        "height": 2240,
        "hovermode": "closest",
        "shapes": [
         {
          "fillcolor": "hsl(0.0, 70%, 50%)",
          "line": {
           "color": "black",
           "width": 1
          },
          "opacity": 0.8,
          "type": "rect",
          "x0": 1,
          "x1": 54,
          "y0": -0.3,
          "y1": 0.3
         },
         {
          "fillcolor": "hsl(12.857142857142858, 70%, 50%)",
          "line": {
           "color": "black",
           "width": 1
          },
          "opacity": 0.8,
          "type": "rect",
          "x0": 1008,
          "x1": 1351,
          "y0": 0.7,
          "y1": 1.3
         },
         {
          "fillcolor": "hsl(25.714285714285715, 70%, 50%)",
          "line": {
           "color": "black",
           "width": 1
          },
          "opacity": 0.8,
          "type": "rect",
          "x0": 1379,
          "x1": 2984,
          "y0": 1.7,
          "y1": 2.3
         },
         {
          "fillcolor": "hsl(38.57142857142857, 70%, 50%)",
          "line": {
           "color": "black",
           "width": 1
          },
          "opacity": 0.8,
          "type": "rect",
          "x0": 2984,
          "x1": 4248,
          "y0": 2.7,
          "y1": 3.3
         },
         {
          "fillcolor": "hsl(51.42857142857143, 70%, 50%)",
          "line": {
           "color": "black",
           "width": 1
          },
          "opacity": 0.8,
          "type": "rect",
          "x0": 4249,
          "x1": 5392,
          "y0": 3.7,
          "y1": 4.3
         },
         {
          "fillcolor": "hsl(64.28571428571429, 70%, 50%)",
          "line": {
           "color": "black",
           "width": 1
          },
          "opacity": 0.8,
          "type": "rect",
          "x0": 5393,
          "x1": 7978,
          "y0": 4.7,
          "y1": 5.3
         },
         {
          "fillcolor": "hsl(77.14285714285714, 70%, 50%)",
          "line": {
           "color": "black",
           "width": 1
          },
          "opacity": 0.8,
          "type": "rect",
          "x0": 7978,
          "x1": 8358,
          "y0": 5.7,
          "y1": 6.3
         },
         {
          "fillcolor": "hsl(90.0, 70%, 50%)",
          "line": {
           "color": "black",
           "width": 1
          },
          "opacity": 0.8,
          "type": "rect",
          "x0": 9550,
          "x1": 10050,
          "y0": 6.7,
          "y1": 7.3
         },
         {
          "fillcolor": "hsl(102.85714285714286, 70%, 50%)",
          "line": {
           "color": "black",
           "width": 1
          },
          "opacity": 0.8,
          "type": "rect",
          "x0": 10051,
          "x1": 10606,
          "y0": 7.7,
          "y1": 8.3
         },
         {
          "fillcolor": "hsl(115.71428571428571, 70%, 50%)",
          "line": {
           "color": "black",
           "width": 1
          },
          "opacity": 0.8,
          "type": "rect",
          "x0": 10607,
          "x1": 12366,
          "y0": 8.7,
          "y1": 9.3
         },
         {
          "fillcolor": "hsl(128.57142857142858, 70%, 50%)",
          "line": {
           "color": "black",
           "width": 1
          },
          "opacity": 0.8,
          "type": "rect",
          "x0": 12609,
          "x1": 13742,
          "y0": 9.7,
          "y1": 10.3
         },
         {
          "fillcolor": "hsl(141.42857142857142, 70%, 50%)",
          "line": {
           "color": "black",
           "width": 1
          },
          "opacity": 0.8,
          "type": "rect",
          "x0": 13743,
          "x1": 15669,
          "y0": 10.7,
          "y1": 11.3
         },
         {
          "fillcolor": "hsl(154.28571428571428, 70%, 50%)",
          "line": {
           "color": "black",
           "width": 1
          },
          "opacity": 0.8,
          "type": "rect",
          "x0": 15670,
          "x1": 17821,
          "y0": 11.7,
          "y1": 12.3
         },
         {
          "fillcolor": "hsl(167.14285714285714, 70%, 50%)",
          "line": {
           "color": "black",
           "width": 1
          },
          "opacity": 0.8,
          "type": "rect",
          "x0": 17822,
          "x1": 18671,
          "y0": 12.7,
          "y1": 13.3
         },
         {
          "fillcolor": "hsl(180.0, 70%, 50%)",
          "line": {
           "color": "black",
           "width": 1
          },
          "opacity": 0.8,
          "type": "rect",
          "x0": 18672,
          "x1": 19735,
          "y0": 13.7,
          "y1": 14.3
         },
         {
          "fillcolor": "hsl(192.85714285714286, 70%, 50%)",
          "line": {
           "color": "black",
           "width": 1
          },
          "opacity": 0.8,
          "type": "rect",
          "x0": 20051,
          "x1": 21889,
          "y0": 14.7,
          "y1": 15.3
         },
         {
          "fillcolor": "hsl(205.71428571428572, 70%, 50%)",
          "line": {
           "color": "black",
           "width": 1
          },
          "opacity": 0.8,
          "type": "rect",
          "x0": 21890,
          "x1": 22555,
          "y0": 15.7,
          "y1": 16.3
         },
         {
          "fillcolor": "hsl(218.57142857142858, 70%, 50%)",
          "line": {
           "color": "black",
           "width": 1
          },
          "opacity": 0.8,
          "type": "rect",
          "x0": 22556,
          "x1": 24330,
          "y0": 16.7,
          "y1": 17.3
         },
         {
          "fillcolor": "hsl(231.42857142857142, 70%, 50%)",
          "line": {
           "color": "black",
           "width": 1
          },
          "opacity": 0.8,
          "type": "rect",
          "x0": 24360,
          "x1": 25665,
          "y0": 17.7,
          "y1": 18.3
         },
         {
          "fillcolor": "hsl(244.28571428571428, 70%, 50%)",
          "line": {
           "color": "black",
           "width": 1
          },
          "opacity": 0.8,
          "type": "rect",
          "x0": 25831,
          "x1": 26314,
          "y0": 18.7,
          "y1": 19.3
         },
         {
          "fillcolor": "hsl(257.14285714285717, 70%, 50%)",
          "line": {
           "color": "black",
           "width": 1
          },
          "opacity": 0.8,
          "type": "rect",
          "x0": 26315,
          "x1": 27653,
          "y0": 19.7,
          "y1": 20.3
         },
         {
          "fillcolor": "hsl(270.0, 70%, 50%)",
          "line": {
           "color": "black",
           "width": 1
          },
          "opacity": 0.8,
          "type": "rect",
          "x0": 27654,
          "x1": 28347,
          "y0": 20.7,
          "y1": 21.3
         },
         {
          "fillcolor": "hsl(282.85714285714283, 70%, 50%)",
          "line": {
           "color": "black",
           "width": 1
          },
          "opacity": 0.8,
          "type": "rect",
          "x0": 28348,
          "x1": 28904,
          "y0": 21.7,
          "y1": 22.3
         },
         {
          "fillcolor": "hsl(295.7142857142857, 70%, 50%)",
          "line": {
           "color": "black",
           "width": 1
          },
          "opacity": 0.8,
          "type": "rect",
          "x0": 28948,
          "x1": 30927,
          "y0": 22.7,
          "y1": 23.3
         },
         {
          "fillcolor": "hsl(308.57142857142856, 70%, 50%)",
          "line": {
           "color": "black",
           "width": 1
          },
          "opacity": 0.8,
          "type": "rect",
          "x0": 30928,
          "x1": 32317,
          "y0": 23.7,
          "y1": 24.3
         },
         {
          "fillcolor": "hsl(321.42857142857144, 70%, 50%)",
          "line": {
           "color": "black",
           "width": 1
          },
          "opacity": 0.8,
          "type": "rect",
          "x0": 32318,
          "x1": 33458,
          "y0": 24.7,
          "y1": 25.3
         },
         {
          "fillcolor": "hsl(334.2857142857143, 70%, 50%)",
          "line": {
           "color": "black",
           "width": 1
          },
          "opacity": 0.8,
          "type": "rect",
          "x0": 33658,
          "x1": 34396,
          "y0": 25.7,
          "y1": 26.3
         },
         {
          "fillcolor": "hsl(347.14285714285717, 70%, 50%)",
          "line": {
           "color": "black",
           "width": 1
          },
          "opacity": 0.8,
          "type": "rect",
          "x0": 34397,
          "x1": 36080,
          "y0": 26.7,
          "y1": 27.3
         }
        ],
        "showlegend": false,
        "template": {
         "data": {
          "bar": [
           {
            "error_x": {
             "color": "#2a3f5f"
            },
            "error_y": {
             "color": "#2a3f5f"
            },
            "marker": {
             "line": {
              "color": "#E5ECF6",
              "width": 0.5
             },
             "pattern": {
              "fillmode": "overlay",
              "size": 10,
              "solidity": 0.2
             }
            },
            "type": "bar"
           }
          ],
          "barpolar": [
           {
            "marker": {
             "line": {
              "color": "#E5ECF6",
              "width": 0.5
             },
             "pattern": {
              "fillmode": "overlay",
              "size": 10,
              "solidity": 0.2
             }
            },
            "type": "barpolar"
           }
          ],
          "carpet": [
           {
            "aaxis": {
             "endlinecolor": "#2a3f5f",
             "gridcolor": "white",
             "linecolor": "white",
             "minorgridcolor": "white",
             "startlinecolor": "#2a3f5f"
            },
            "baxis": {
             "endlinecolor": "#2a3f5f",
             "gridcolor": "white",
             "linecolor": "white",
             "minorgridcolor": "white",
             "startlinecolor": "#2a3f5f"
            },
            "type": "carpet"
           }
          ],
          "choropleth": [
           {
            "colorbar": {
             "outlinewidth": 0,
             "ticks": ""
            },
            "type": "choropleth"
           }
          ],
          "contour": [
           {
            "colorbar": {
             "outlinewidth": 0,
             "ticks": ""
            },
            "colorscale": [
             [
              0,
              "#0d0887"
             ],
             [
              0.1111111111111111,
              "#46039f"
             ],
             [
              0.2222222222222222,
              "#7201a8"
             ],
             [
              0.3333333333333333,
              "#9c179e"
             ],
             [
              0.4444444444444444,
              "#bd3786"
             ],
             [
              0.5555555555555556,
              "#d8576b"
             ],
             [
              0.6666666666666666,
              "#ed7953"
             ],
             [
              0.7777777777777778,
              "#fb9f3a"
             ],
             [
              0.8888888888888888,
              "#fdca26"
             ],
             [
              1,
              "#f0f921"
             ]
            ],
            "type": "contour"
           }
          ],
          "contourcarpet": [
           {
            "colorbar": {
             "outlinewidth": 0,
             "ticks": ""
            },
            "type": "contourcarpet"
           }
          ],
          "heatmap": [
           {
            "colorbar": {
             "outlinewidth": 0,
             "ticks": ""
            },
            "colorscale": [
             [
              0,
              "#0d0887"
             ],
             [
              0.1111111111111111,
              "#46039f"
             ],
             [
              0.2222222222222222,
              "#7201a8"
             ],
             [
              0.3333333333333333,
              "#9c179e"
             ],
             [
              0.4444444444444444,
              "#bd3786"
             ],
             [
              0.5555555555555556,
              "#d8576b"
             ],
             [
              0.6666666666666666,
              "#ed7953"
             ],
             [
              0.7777777777777778,
              "#fb9f3a"
             ],
             [
              0.8888888888888888,
              "#fdca26"
             ],
             [
              1,
              "#f0f921"
             ]
            ],
            "type": "heatmap"
           }
          ],
          "heatmapgl": [
           {
            "colorbar": {
             "outlinewidth": 0,
             "ticks": ""
            },
            "colorscale": [
             [
              0,
              "#0d0887"
             ],
             [
              0.1111111111111111,
              "#46039f"
             ],
             [
              0.2222222222222222,
              "#7201a8"
             ],
             [
              0.3333333333333333,
              "#9c179e"
             ],
             [
              0.4444444444444444,
              "#bd3786"
             ],
             [
              0.5555555555555556,
              "#d8576b"
             ],
             [
              0.6666666666666666,
              "#ed7953"
             ],
             [
              0.7777777777777778,
              "#fb9f3a"
             ],
             [
              0.8888888888888888,
              "#fdca26"
             ],
             [
              1,
              "#f0f921"
             ]
            ],
            "type": "heatmapgl"
           }
          ],
          "histogram": [
           {
            "marker": {
             "pattern": {
              "fillmode": "overlay",
              "size": 10,
              "solidity": 0.2
             }
            },
            "type": "histogram"
           }
          ],
          "histogram2d": [
           {
            "colorbar": {
             "outlinewidth": 0,
             "ticks": ""
            },
            "colorscale": [
             [
              0,
              "#0d0887"
             ],
             [
              0.1111111111111111,
              "#46039f"
             ],
             [
              0.2222222222222222,
              "#7201a8"
             ],
             [
              0.3333333333333333,
              "#9c179e"
             ],
             [
              0.4444444444444444,
              "#bd3786"
             ],
             [
              0.5555555555555556,
              "#d8576b"
             ],
             [
              0.6666666666666666,
              "#ed7953"
             ],
             [
              0.7777777777777778,
              "#fb9f3a"
             ],
             [
              0.8888888888888888,
              "#fdca26"
             ],
             [
              1,
              "#f0f921"
             ]
            ],
            "type": "histogram2d"
           }
          ],
          "histogram2dcontour": [
           {
            "colorbar": {
             "outlinewidth": 0,
             "ticks": ""
            },
            "colorscale": [
             [
              0,
              "#0d0887"
             ],
             [
              0.1111111111111111,
              "#46039f"
             ],
             [
              0.2222222222222222,
              "#7201a8"
             ],
             [
              0.3333333333333333,
              "#9c179e"
             ],
             [
              0.4444444444444444,
              "#bd3786"
             ],
             [
              0.5555555555555556,
              "#d8576b"
             ],
             [
              0.6666666666666666,
              "#ed7953"
             ],
             [
              0.7777777777777778,
              "#fb9f3a"
             ],
             [
              0.8888888888888888,
              "#fdca26"
             ],
             [
              1,
              "#f0f921"
             ]
            ],
            "type": "histogram2dcontour"
           }
          ],
          "mesh3d": [
           {
            "colorbar": {
             "outlinewidth": 0,
             "ticks": ""
            },
            "type": "mesh3d"
           }
          ],
          "parcoords": [
           {
            "line": {
             "colorbar": {
              "outlinewidth": 0,
              "ticks": ""
             }
            },
            "type": "parcoords"
           }
          ],
          "pie": [
           {
            "automargin": true,
            "type": "pie"
           }
          ],
          "scatter": [
           {
            "fillpattern": {
             "fillmode": "overlay",
             "size": 10,
             "solidity": 0.2
            },
            "type": "scatter"
           }
          ],
          "scatter3d": [
           {
            "line": {
             "colorbar": {
              "outlinewidth": 0,
              "ticks": ""
             }
            },
            "marker": {
             "colorbar": {
              "outlinewidth": 0,
              "ticks": ""
             }
            },
            "type": "scatter3d"
           }
          ],
          "scattercarpet": [
           {
            "marker": {
             "colorbar": {
              "outlinewidth": 0,
              "ticks": ""
             }
            },
            "type": "scattercarpet"
           }
          ],
          "scattergeo": [
           {
            "marker": {
             "colorbar": {
              "outlinewidth": 0,
              "ticks": ""
             }
            },
            "type": "scattergeo"
           }
          ],
          "scattergl": [
           {
            "marker": {
             "colorbar": {
              "outlinewidth": 0,
              "ticks": ""
             }
            },
            "type": "scattergl"
           }
          ],
          "scattermapbox": [
           {
            "marker": {
             "colorbar": {
              "outlinewidth": 0,
              "ticks": ""
             }
            },
            "type": "scattermapbox"
           }
          ],
          "scatterpolar": [
           {
            "marker": {
             "colorbar": {
              "outlinewidth": 0,
              "ticks": ""
             }
            },
            "type": "scatterpolar"
           }
          ],
          "scatterpolargl": [
           {
            "marker": {
             "colorbar": {
              "outlinewidth": 0,
              "ticks": ""
             }
            },
            "type": "scatterpolargl"
           }
          ],
          "scatterternary": [
           {
            "marker": {
             "colorbar": {
              "outlinewidth": 0,
              "ticks": ""
             }
            },
            "type": "scatterternary"
           }
          ],
          "surface": [
           {
            "colorbar": {
             "outlinewidth": 0,
             "ticks": ""
            },
            "colorscale": [
             [
              0,
              "#0d0887"
             ],
             [
              0.1111111111111111,
              "#46039f"
             ],
             [
              0.2222222222222222,
              "#7201a8"
             ],
             [
              0.3333333333333333,
              "#9c179e"
             ],
             [
              0.4444444444444444,
              "#bd3786"
             ],
             [
              0.5555555555555556,
              "#d8576b"
             ],
             [
              0.6666666666666666,
              "#ed7953"
             ],
             [
              0.7777777777777778,
              "#fb9f3a"
             ],
             [
              0.8888888888888888,
              "#fdca26"
             ],
             [
              1,
              "#f0f921"
             ]
            ],
            "type": "surface"
           }
          ],
          "table": [
           {
            "cells": {
             "fill": {
              "color": "#EBF0F8"
             },
             "line": {
              "color": "white"
             }
            },
            "header": {
             "fill": {
              "color": "#C8D4E3"
             },
             "line": {
              "color": "white"
             }
            },
            "type": "table"
           }
          ]
         },
         "layout": {
          "annotationdefaults": {
           "arrowcolor": "#2a3f5f",
           "arrowhead": 0,
           "arrowwidth": 1
          },
          "autotypenumbers": "strict",
          "coloraxis": {
           "colorbar": {
            "outlinewidth": 0,
            "ticks": ""
           }
          },
          "colorscale": {
           "diverging": [
            [
             0,
             "#8e0152"
            ],
            [
             0.1,
             "#c51b7d"
            ],
            [
             0.2,
             "#de77ae"
            ],
            [
             0.3,
             "#f1b6da"
            ],
            [
             0.4,
             "#fde0ef"
            ],
            [
             0.5,
             "#f7f7f7"
            ],
            [
             0.6,
             "#e6f5d0"
            ],
            [
             0.7,
             "#b8e186"
            ],
            [
             0.8,
             "#7fbc41"
            ],
            [
             0.9,
             "#4d9221"
            ],
            [
             1,
             "#276419"
            ]
           ],
           "sequential": [
            [
             0,
             "#0d0887"
            ],
            [
             0.1111111111111111,
             "#46039f"
            ],
            [
             0.2222222222222222,
             "#7201a8"
            ],
            [
             0.3333333333333333,
             "#9c179e"
            ],
            [
             0.4444444444444444,
             "#bd3786"
            ],
            [
             0.5555555555555556,
             "#d8576b"
            ],
            [
             0.6666666666666666,
             "#ed7953"
            ],
            [
             0.7777777777777778,
             "#fb9f3a"
            ],
            [
             0.8888888888888888,
             "#fdca26"
            ],
            [
             1,
             "#f0f921"
            ]
           ],
           "sequentialminus": [
            [
             0,
             "#0d0887"
            ],
            [
             0.1111111111111111,
             "#46039f"
            ],
            [
             0.2222222222222222,
             "#7201a8"
            ],
            [
             0.3333333333333333,
             "#9c179e"
            ],
            [
             0.4444444444444444,
             "#bd3786"
            ],
            [
             0.5555555555555556,
             "#d8576b"
            ],
            [
             0.6666666666666666,
             "#ed7953"
            ],
            [
             0.7777777777777778,
             "#fb9f3a"
            ],
            [
             0.8888888888888888,
             "#fdca26"
            ],
            [
             1,
             "#f0f921"
            ]
           ]
          },
          "colorway": [
           "#636efa",
           "#EF553B",
           "#00cc96",
           "#ab63fa",
           "#FFA15A",
           "#19d3f3",
           "#FF6692",
           "#B6E880",
           "#FF97FF",
           "#FECB52"
          ],
          "font": {
           "color": "#2a3f5f"
          },
          "geo": {
           "bgcolor": "white",
           "lakecolor": "white",
           "landcolor": "#E5ECF6",
           "showlakes": true,
           "showland": true,
           "subunitcolor": "white"
          },
          "hoverlabel": {
           "align": "left"
          },
          "hovermode": "closest",
          "mapbox": {
           "style": "light"
          },
          "paper_bgcolor": "white",
          "plot_bgcolor": "#E5ECF6",
          "polar": {
           "angularaxis": {
            "gridcolor": "white",
            "linecolor": "white",
            "ticks": ""
           },
           "bgcolor": "#E5ECF6",
           "radialaxis": {
            "gridcolor": "white",
            "linecolor": "white",
            "ticks": ""
           }
          },
          "scene": {
           "xaxis": {
            "backgroundcolor": "#E5ECF6",
            "gridcolor": "white",
            "gridwidth": 2,
            "linecolor": "white",
            "showbackground": true,
            "ticks": "",
            "zerolinecolor": "white"
           },
           "yaxis": {
            "backgroundcolor": "#E5ECF6",
            "gridcolor": "white",
            "gridwidth": 2,
            "linecolor": "white",
            "showbackground": true,
            "ticks": "",
            "zerolinecolor": "white"
           },
           "zaxis": {
            "backgroundcolor": "#E5ECF6",
            "gridcolor": "white",
            "gridwidth": 2,
            "linecolor": "white",
            "showbackground": true,
            "ticks": "",
            "zerolinecolor": "white"
           }
          },
          "shapedefaults": {
           "line": {
            "color": "#2a3f5f"
           }
          },
          "ternary": {
           "aaxis": {
            "gridcolor": "white",
            "linecolor": "white",
            "ticks": ""
           },
           "baxis": {
            "gridcolor": "white",
            "linecolor": "white",
            "ticks": ""
           },
           "bgcolor": "#E5ECF6",
           "caxis": {
            "gridcolor": "white",
            "linecolor": "white",
            "ticks": ""
           }
          },
          "title": {
           "x": 0.05
          },
          "xaxis": {
           "automargin": true,
           "gridcolor": "white",
           "linecolor": "white",
           "ticks": "",
           "title": {
            "standoff": 15
           },
           "zerolinecolor": "white",
           "zerolinewidth": 2
          },
          "yaxis": {
           "automargin": true,
           "gridcolor": "white",
           "linecolor": "white",
           "ticks": "",
           "title": {
            "standoff": 15
           },
           "zerolinecolor": "white",
           "zerolinewidth": 2
          }
         }
        },
        "title": {
         "text": "Episode Segments Timeline - Character Positions \n /Users/aneteyabbey/ai/multimedia_analysis/dataset/segmented/lex_fridman/episode_4.json"
        },
        "xaxis": {
         "gridcolor": "LightGrey",
         "gridwidth": 1,
         "showgrid": true,
         "title": {
          "text": "Character Position"
         }
        },
        "yaxis": {
         "autorange": "reversed",
         "tickmode": "array",
         "ticktext": [
          "Seg 0: Introduction to Vladimir Vapnik...",
          "Seg 1: God, Dice, and Reality...",
          "Seg 2: Instrumentalism vs. Realism...",
          "Seg 3: Role of Math in Science...",
          "Seg 4: Human Intuition vs. Math...",
          "Seg 5: Interpreting Brain Processes...",
          "Seg 6: The Great Teacher...",
          "Seg 7: Strong and Weak Convergence...",
          "Seg 8: The Duck Test Predicate...",
          "Seg 9: Integrating Predicates in ML...",
          "Seg 10: VC Theory and Learning...",
          "Seg 11: Creating Admissible Functions...",
          "Seg 12: Critique of Deep Learning...",
          "Seg 13: Imagination vs. Mathematical Derivation...",
          "Seg 14: AlphaGo and Problem Difficulty...",
          "Seg 15: Intelligence and Imitation...",
          "Seg 16: Shared World Intelligence...",
          "Seg 17: Complexity and Edge Cases...",
          "Seg 18: Law of Large Numbers...",
          "Seg 19: Intelligence and Predicate Generation...",
          "Seg 20: The Teacher's Role in Intelligence...",
          "Seg 21: Open Problems in Intelligence...",
          "Seg 22: Most Exciting Problem...",
          "Seg 23: Digit Recognition Challenge...",
          "Seg 24: Information in Predicates...",
          "Seg 25: Poetry, Philosophy, and Ground Truth...",
          "Seg 26: Happiest Moments as Researcher...",
          "Seg 27: Profound Discoveries and Future..."
         ],
         "tickvals": [
          0,
          1,
          2,
          3,
          4,
          5,
          6,
          7,
          8,
          9,
          10,
          11,
          12,
          13,
          14,
          15,
          16,
          17,
          18,
          19,
          20,
          21,
          22,
          23,
          24,
          25,
          26,
          27
         ],
         "title": {
          "text": "Segment"
         }
        }
       }
      }
     },
     "metadata": {},
     "output_type": "display_data"
    },
    {
     "data": {
      "application/vnd.plotly.v1+json": {
       "config": {
        "plotlyServerURL": "https://plot.ly"
       },
       "data": [
        {
         "hovertemplate": "<b>Early Life and Literature...</b><br>Start: 671<br>End: 3,238<br>Length: 2,567<br>Text: You were born in the Netherlands in 1956<br>Your par...<br><extra></extra>",
         "marker": {
          "opacity": 0,
          "size": 0.1
         },
         "mode": "markers",
         "showlegend": false,
         "type": "scatter",
         "x": [
          1954.5
         ],
         "y": [
          0
         ]
        },
        {
         "hovertemplate": "<b>Childhood Tinkering and Computers...</b><br>Start: 3,359<br>End: 7,347<br>Length: 3,988<br>Text: So let's go back to your early teens, your hobbies...<br><extra></extra>",
         "marker": {
          "opacity": 0,
          "size": 0.1
         },
         "mode": "markers",
         "showlegend": false,
         "type": "scatter",
         "x": [
          5353
         ],
         "y": [
          1
         ]
        },
        {
         "hovertemplate": "<b>Conway's Game of Life...</b><br>Start: 7,348<br>End: 10,385<br>Length: 3,037<br>Text: Did you sense, okay, first year of college, you se...<br><extra></extra>",
         "marker": {
          "opacity": 0,
          "size": 0.1
         },
         "mode": "markers",
         "showlegend": false,
         "type": "scatter",
         "x": [
          8866.5
         ],
         "y": [
          2
         ]
        },
        {
         "hovertemplate": "<b>AI and Human Consciousness...</b><br>Start: 10,416<br>End: 14,422<br>Length: 4,006<br>Text: It's funny that you mentioned, so for people who d...<br><extra></extra>",
         "marker": {
          "opacity": 0,
          "size": 0.1
         },
         "mode": "markers",
         "showlegend": false,
         "type": "scatter",
         "x": [
          12419
         ],
         "y": [
          3
         ]
        },
        {
         "hovertemplate": "<b>Brains as Computers...</b><br>Start: 14,423<br>End: 17,426<br>Length: 3,003<br>Text: I didn't really start reading science fiction unti...<br><extra></extra>",
         "marker": {
          "opacity": 0,
          "size": 0.1
         },
         "mode": "markers",
         "showlegend": false,
         "type": "scatter",
         "x": [
          15924.5
         ],
         "y": [
          4
         ]
        },
        {
         "hovertemplate": "<b>Consciousness and Evolution...</b><br>Start: 17,427<br>End: 19,436<br>Length: 2,009<br>Text: Can you comment on consciousness and how you see i...<br><extra></extra>",
         "marker": {
          "opacity": 0,
          "size": 0.1
         },
         "mode": "markers",
         "showlegend": false,
         "type": "scatter",
         "x": [
          18431.5
         ],
         "y": [
          5
         ]
        },
        {
         "hovertemplate": "<b>Consciousness in Autonomous Systems...</b><br>Start: 19,437<br>End: 21,647<br>Length: 2,210<br>Text: Yeah so as far as robots go I think that the self-...<br><extra></extra>",
         "marker": {
          "opacity": 0,
          "size": 0.1
         },
         "mode": "markers",
         "showlegend": false,
         "type": "scatter",
         "x": [
          20542
         ],
         "y": [
          6
         ]
        },
        {
         "hovertemplate": "<b>Formal Reasoning vs. Pattern Matching...</b><br>Start: 21,648<br>End: 62,978<br>Length: 41,330<br>Text: We we don't assign sort of consciousness to dogs o...<br><extra></extra>",
         "marker": {
          "opacity": 0,
          "size": 0.1
         },
         "mode": "markers",
         "showlegend": false,
         "type": "scatter",
         "x": [
          42313
         ],
         "y": [
          7
         ]
        }
       ],
       "layout": {
        "annotations": [
         {
          "bgcolor": "rgba(255,255,255,0.3)",
          "borderpad": 4,
          "font": {
           "color": "black",
           "family": "Arial Black",
           "size": 12
          },
          "showarrow": false,
          "text": "0",
          "x": 1954.5,
          "y": 0
         },
         {
          "bgcolor": "rgba(255,255,255,0.3)",
          "borderpad": 4,
          "font": {
           "color": "black",
           "family": "Arial Black",
           "size": 12
          },
          "showarrow": false,
          "text": "1",
          "x": 5353,
          "y": 1
         },
         {
          "bgcolor": "rgba(255,255,255,0.3)",
          "borderpad": 4,
          "font": {
           "color": "black",
           "family": "Arial Black",
           "size": 12
          },
          "showarrow": false,
          "text": "2",
          "x": 8866.5,
          "y": 2
         },
         {
          "bgcolor": "rgba(255,255,255,0.3)",
          "borderpad": 4,
          "font": {
           "color": "black",
           "family": "Arial Black",
           "size": 12
          },
          "showarrow": false,
          "text": "3",
          "x": 12419,
          "y": 3
         },
         {
          "bgcolor": "rgba(255,255,255,0.3)",
          "borderpad": 4,
          "font": {
           "color": "black",
           "family": "Arial Black",
           "size": 12
          },
          "showarrow": false,
          "text": "4",
          "x": 15924.5,
          "y": 4
         },
         {
          "bgcolor": "rgba(255,255,255,0.3)",
          "borderpad": 4,
          "font": {
           "color": "black",
           "family": "Arial Black",
           "size": 12
          },
          "showarrow": false,
          "text": "5",
          "x": 18431.5,
          "y": 5
         },
         {
          "bgcolor": "rgba(255,255,255,0.3)",
          "borderpad": 4,
          "font": {
           "color": "black",
           "family": "Arial Black",
           "size": 12
          },
          "showarrow": false,
          "text": "6",
          "x": 20542,
          "y": 6
         },
         {
          "bgcolor": "rgba(255,255,255,0.3)",
          "borderpad": 4,
          "font": {
           "color": "black",
           "family": "Arial Black",
           "size": 12
          },
          "showarrow": false,
          "text": "7",
          "x": 42313,
          "y": 7
         }
        ],
        "height": 640,
        "hovermode": "closest",
        "shapes": [
         {
          "fillcolor": "hsl(0.0, 70%, 50%)",
          "line": {
           "color": "black",
           "width": 1
          },
          "opacity": 0.8,
          "type": "rect",
          "x0": 671,
          "x1": 3238,
          "y0": -0.3,
          "y1": 0.3
         },
         {
          "fillcolor": "hsl(45.0, 70%, 50%)",
          "line": {
           "color": "black",
           "width": 1
          },
          "opacity": 0.8,
          "type": "rect",
          "x0": 3359,
          "x1": 7347,
          "y0": 0.7,
          "y1": 1.3
         },
         {
          "fillcolor": "hsl(90.0, 70%, 50%)",
          "line": {
           "color": "black",
           "width": 1
          },
          "opacity": 0.8,
          "type": "rect",
          "x0": 7348,
          "x1": 10385,
          "y0": 1.7,
          "y1": 2.3
         },
         {
          "fillcolor": "hsl(135.0, 70%, 50%)",
          "line": {
           "color": "black",
           "width": 1
          },
          "opacity": 0.8,
          "type": "rect",
          "x0": 10416,
          "x1": 14422,
          "y0": 2.7,
          "y1": 3.3
         },
         {
          "fillcolor": "hsl(180.0, 70%, 50%)",
          "line": {
           "color": "black",
           "width": 1
          },
          "opacity": 0.8,
          "type": "rect",
          "x0": 14423,
          "x1": 17426,
          "y0": 3.7,
          "y1": 4.3
         },
         {
          "fillcolor": "hsl(225.0, 70%, 50%)",
          "line": {
           "color": "black",
           "width": 1
          },
          "opacity": 0.8,
          "type": "rect",
          "x0": 17427,
          "x1": 19436,
          "y0": 4.7,
          "y1": 5.3
         },
         {
          "fillcolor": "hsl(270.0, 70%, 50%)",
          "line": {
           "color": "black",
           "width": 1
          },
          "opacity": 0.8,
          "type": "rect",
          "x0": 19437,
          "x1": 21647,
          "y0": 5.7,
          "y1": 6.3
         },
         {
          "fillcolor": "hsl(315.0, 70%, 50%)",
          "line": {
           "color": "black",
           "width": 1
          },
          "opacity": 0.8,
          "type": "rect",
          "x0": 21648,
          "x1": 62978,
          "y0": 6.7,
          "y1": 7.3
         }
        ],
        "showlegend": false,
        "template": {
         "data": {
          "bar": [
           {
            "error_x": {
             "color": "#2a3f5f"
            },
            "error_y": {
             "color": "#2a3f5f"
            },
            "marker": {
             "line": {
              "color": "#E5ECF6",
              "width": 0.5
             },
             "pattern": {
              "fillmode": "overlay",
              "size": 10,
              "solidity": 0.2
             }
            },
            "type": "bar"
           }
          ],
          "barpolar": [
           {
            "marker": {
             "line": {
              "color": "#E5ECF6",
              "width": 0.5
             },
             "pattern": {
              "fillmode": "overlay",
              "size": 10,
              "solidity": 0.2
             }
            },
            "type": "barpolar"
           }
          ],
          "carpet": [
           {
            "aaxis": {
             "endlinecolor": "#2a3f5f",
             "gridcolor": "white",
             "linecolor": "white",
             "minorgridcolor": "white",
             "startlinecolor": "#2a3f5f"
            },
            "baxis": {
             "endlinecolor": "#2a3f5f",
             "gridcolor": "white",
             "linecolor": "white",
             "minorgridcolor": "white",
             "startlinecolor": "#2a3f5f"
            },
            "type": "carpet"
           }
          ],
          "choropleth": [
           {
            "colorbar": {
             "outlinewidth": 0,
             "ticks": ""
            },
            "type": "choropleth"
           }
          ],
          "contour": [
           {
            "colorbar": {
             "outlinewidth": 0,
             "ticks": ""
            },
            "colorscale": [
             [
              0,
              "#0d0887"
             ],
             [
              0.1111111111111111,
              "#46039f"
             ],
             [
              0.2222222222222222,
              "#7201a8"
             ],
             [
              0.3333333333333333,
              "#9c179e"
             ],
             [
              0.4444444444444444,
              "#bd3786"
             ],
             [
              0.5555555555555556,
              "#d8576b"
             ],
             [
              0.6666666666666666,
              "#ed7953"
             ],
             [
              0.7777777777777778,
              "#fb9f3a"
             ],
             [
              0.8888888888888888,
              "#fdca26"
             ],
             [
              1,
              "#f0f921"
             ]
            ],
            "type": "contour"
           }
          ],
          "contourcarpet": [
           {
            "colorbar": {
             "outlinewidth": 0,
             "ticks": ""
            },
            "type": "contourcarpet"
           }
          ],
          "heatmap": [
           {
            "colorbar": {
             "outlinewidth": 0,
             "ticks": ""
            },
            "colorscale": [
             [
              0,
              "#0d0887"
             ],
             [
              0.1111111111111111,
              "#46039f"
             ],
             [
              0.2222222222222222,
              "#7201a8"
             ],
             [
              0.3333333333333333,
              "#9c179e"
             ],
             [
              0.4444444444444444,
              "#bd3786"
             ],
             [
              0.5555555555555556,
              "#d8576b"
             ],
             [
              0.6666666666666666,
              "#ed7953"
             ],
             [
              0.7777777777777778,
              "#fb9f3a"
             ],
             [
              0.8888888888888888,
              "#fdca26"
             ],
             [
              1,
              "#f0f921"
             ]
            ],
            "type": "heatmap"
           }
          ],
          "heatmapgl": [
           {
            "colorbar": {
             "outlinewidth": 0,
             "ticks": ""
            },
            "colorscale": [
             [
              0,
              "#0d0887"
             ],
             [
              0.1111111111111111,
              "#46039f"
             ],
             [
              0.2222222222222222,
              "#7201a8"
             ],
             [
              0.3333333333333333,
              "#9c179e"
             ],
             [
              0.4444444444444444,
              "#bd3786"
             ],
             [
              0.5555555555555556,
              "#d8576b"
             ],
             [
              0.6666666666666666,
              "#ed7953"
             ],
             [
              0.7777777777777778,
              "#fb9f3a"
             ],
             [
              0.8888888888888888,
              "#fdca26"
             ],
             [
              1,
              "#f0f921"
             ]
            ],
            "type": "heatmapgl"
           }
          ],
          "histogram": [
           {
            "marker": {
             "pattern": {
              "fillmode": "overlay",
              "size": 10,
              "solidity": 0.2
             }
            },
            "type": "histogram"
           }
          ],
          "histogram2d": [
           {
            "colorbar": {
             "outlinewidth": 0,
             "ticks": ""
            },
            "colorscale": [
             [
              0,
              "#0d0887"
             ],
             [
              0.1111111111111111,
              "#46039f"
             ],
             [
              0.2222222222222222,
              "#7201a8"
             ],
             [
              0.3333333333333333,
              "#9c179e"
             ],
             [
              0.4444444444444444,
              "#bd3786"
             ],
             [
              0.5555555555555556,
              "#d8576b"
             ],
             [
              0.6666666666666666,
              "#ed7953"
             ],
             [
              0.7777777777777778,
              "#fb9f3a"
             ],
             [
              0.8888888888888888,
              "#fdca26"
             ],
             [
              1,
              "#f0f921"
             ]
            ],
            "type": "histogram2d"
           }
          ],
          "histogram2dcontour": [
           {
            "colorbar": {
             "outlinewidth": 0,
             "ticks": ""
            },
            "colorscale": [
             [
              0,
              "#0d0887"
             ],
             [
              0.1111111111111111,
              "#46039f"
             ],
             [
              0.2222222222222222,
              "#7201a8"
             ],
             [
              0.3333333333333333,
              "#9c179e"
             ],
             [
              0.4444444444444444,
              "#bd3786"
             ],
             [
              0.5555555555555556,
              "#d8576b"
             ],
             [
              0.6666666666666666,
              "#ed7953"
             ],
             [
              0.7777777777777778,
              "#fb9f3a"
             ],
             [
              0.8888888888888888,
              "#fdca26"
             ],
             [
              1,
              "#f0f921"
             ]
            ],
            "type": "histogram2dcontour"
           }
          ],
          "mesh3d": [
           {
            "colorbar": {
             "outlinewidth": 0,
             "ticks": ""
            },
            "type": "mesh3d"
           }
          ],
          "parcoords": [
           {
            "line": {
             "colorbar": {
              "outlinewidth": 0,
              "ticks": ""
             }
            },
            "type": "parcoords"
           }
          ],
          "pie": [
           {
            "automargin": true,
            "type": "pie"
           }
          ],
          "scatter": [
           {
            "fillpattern": {
             "fillmode": "overlay",
             "size": 10,
             "solidity": 0.2
            },
            "type": "scatter"
           }
          ],
          "scatter3d": [
           {
            "line": {
             "colorbar": {
              "outlinewidth": 0,
              "ticks": ""
             }
            },
            "marker": {
             "colorbar": {
              "outlinewidth": 0,
              "ticks": ""
             }
            },
            "type": "scatter3d"
           }
          ],
          "scattercarpet": [
           {
            "marker": {
             "colorbar": {
              "outlinewidth": 0,
              "ticks": ""
             }
            },
            "type": "scattercarpet"
           }
          ],
          "scattergeo": [
           {
            "marker": {
             "colorbar": {
              "outlinewidth": 0,
              "ticks": ""
             }
            },
            "type": "scattergeo"
           }
          ],
          "scattergl": [
           {
            "marker": {
             "colorbar": {
              "outlinewidth": 0,
              "ticks": ""
             }
            },
            "type": "scattergl"
           }
          ],
          "scattermapbox": [
           {
            "marker": {
             "colorbar": {
              "outlinewidth": 0,
              "ticks": ""
             }
            },
            "type": "scattermapbox"
           }
          ],
          "scatterpolar": [
           {
            "marker": {
             "colorbar": {
              "outlinewidth": 0,
              "ticks": ""
             }
            },
            "type": "scatterpolar"
           }
          ],
          "scatterpolargl": [
           {
            "marker": {
             "colorbar": {
              "outlinewidth": 0,
              "ticks": ""
             }
            },
            "type": "scatterpolargl"
           }
          ],
          "scatterternary": [
           {
            "marker": {
             "colorbar": {
              "outlinewidth": 0,
              "ticks": ""
             }
            },
            "type": "scatterternary"
           }
          ],
          "surface": [
           {
            "colorbar": {
             "outlinewidth": 0,
             "ticks": ""
            },
            "colorscale": [
             [
              0,
              "#0d0887"
             ],
             [
              0.1111111111111111,
              "#46039f"
             ],
             [
              0.2222222222222222,
              "#7201a8"
             ],
             [
              0.3333333333333333,
              "#9c179e"
             ],
             [
              0.4444444444444444,
              "#bd3786"
             ],
             [
              0.5555555555555556,
              "#d8576b"
             ],
             [
              0.6666666666666666,
              "#ed7953"
             ],
             [
              0.7777777777777778,
              "#fb9f3a"
             ],
             [
              0.8888888888888888,
              "#fdca26"
             ],
             [
              1,
              "#f0f921"
             ]
            ],
            "type": "surface"
           }
          ],
          "table": [
           {
            "cells": {
             "fill": {
              "color": "#EBF0F8"
             },
             "line": {
              "color": "white"
             }
            },
            "header": {
             "fill": {
              "color": "#C8D4E3"
             },
             "line": {
              "color": "white"
             }
            },
            "type": "table"
           }
          ]
         },
         "layout": {
          "annotationdefaults": {
           "arrowcolor": "#2a3f5f",
           "arrowhead": 0,
           "arrowwidth": 1
          },
          "autotypenumbers": "strict",
          "coloraxis": {
           "colorbar": {
            "outlinewidth": 0,
            "ticks": ""
           }
          },
          "colorscale": {
           "diverging": [
            [
             0,
             "#8e0152"
            ],
            [
             0.1,
             "#c51b7d"
            ],
            [
             0.2,
             "#de77ae"
            ],
            [
             0.3,
             "#f1b6da"
            ],
            [
             0.4,
             "#fde0ef"
            ],
            [
             0.5,
             "#f7f7f7"
            ],
            [
             0.6,
             "#e6f5d0"
            ],
            [
             0.7,
             "#b8e186"
            ],
            [
             0.8,
             "#7fbc41"
            ],
            [
             0.9,
             "#4d9221"
            ],
            [
             1,
             "#276419"
            ]
           ],
           "sequential": [
            [
             0,
             "#0d0887"
            ],
            [
             0.1111111111111111,
             "#46039f"
            ],
            [
             0.2222222222222222,
             "#7201a8"
            ],
            [
             0.3333333333333333,
             "#9c179e"
            ],
            [
             0.4444444444444444,
             "#bd3786"
            ],
            [
             0.5555555555555556,
             "#d8576b"
            ],
            [
             0.6666666666666666,
             "#ed7953"
            ],
            [
             0.7777777777777778,
             "#fb9f3a"
            ],
            [
             0.8888888888888888,
             "#fdca26"
            ],
            [
             1,
             "#f0f921"
            ]
           ],
           "sequentialminus": [
            [
             0,
             "#0d0887"
            ],
            [
             0.1111111111111111,
             "#46039f"
            ],
            [
             0.2222222222222222,
             "#7201a8"
            ],
            [
             0.3333333333333333,
             "#9c179e"
            ],
            [
             0.4444444444444444,
             "#bd3786"
            ],
            [
             0.5555555555555556,
             "#d8576b"
            ],
            [
             0.6666666666666666,
             "#ed7953"
            ],
            [
             0.7777777777777778,
             "#fb9f3a"
            ],
            [
             0.8888888888888888,
             "#fdca26"
            ],
            [
             1,
             "#f0f921"
            ]
           ]
          },
          "colorway": [
           "#636efa",
           "#EF553B",
           "#00cc96",
           "#ab63fa",
           "#FFA15A",
           "#19d3f3",
           "#FF6692",
           "#B6E880",
           "#FF97FF",
           "#FECB52"
          ],
          "font": {
           "color": "#2a3f5f"
          },
          "geo": {
           "bgcolor": "white",
           "lakecolor": "white",
           "landcolor": "#E5ECF6",
           "showlakes": true,
           "showland": true,
           "subunitcolor": "white"
          },
          "hoverlabel": {
           "align": "left"
          },
          "hovermode": "closest",
          "mapbox": {
           "style": "light"
          },
          "paper_bgcolor": "white",
          "plot_bgcolor": "#E5ECF6",
          "polar": {
           "angularaxis": {
            "gridcolor": "white",
            "linecolor": "white",
            "ticks": ""
           },
           "bgcolor": "#E5ECF6",
           "radialaxis": {
            "gridcolor": "white",
            "linecolor": "white",
            "ticks": ""
           }
          },
          "scene": {
           "xaxis": {
            "backgroundcolor": "#E5ECF6",
            "gridcolor": "white",
            "gridwidth": 2,
            "linecolor": "white",
            "showbackground": true,
            "ticks": "",
            "zerolinecolor": "white"
           },
           "yaxis": {
            "backgroundcolor": "#E5ECF6",
            "gridcolor": "white",
            "gridwidth": 2,
            "linecolor": "white",
            "showbackground": true,
            "ticks": "",
            "zerolinecolor": "white"
           },
           "zaxis": {
            "backgroundcolor": "#E5ECF6",
            "gridcolor": "white",
            "gridwidth": 2,
            "linecolor": "white",
            "showbackground": true,
            "ticks": "",
            "zerolinecolor": "white"
           }
          },
          "shapedefaults": {
           "line": {
            "color": "#2a3f5f"
           }
          },
          "ternary": {
           "aaxis": {
            "gridcolor": "white",
            "linecolor": "white",
            "ticks": ""
           },
           "baxis": {
            "gridcolor": "white",
            "linecolor": "white",
            "ticks": ""
           },
           "bgcolor": "#E5ECF6",
           "caxis": {
            "gridcolor": "white",
            "linecolor": "white",
            "ticks": ""
           }
          },
          "title": {
           "x": 0.05
          },
          "xaxis": {
           "automargin": true,
           "gridcolor": "white",
           "linecolor": "white",
           "ticks": "",
           "title": {
            "standoff": 15
           },
           "zerolinecolor": "white",
           "zerolinewidth": 2
          },
          "yaxis": {
           "automargin": true,
           "gridcolor": "white",
           "linecolor": "white",
           "ticks": "",
           "title": {
            "standoff": 15
           },
           "zerolinecolor": "white",
           "zerolinewidth": 2
          }
         }
        },
        "title": {
         "text": "Episode Segments Timeline - Character Positions \n /Users/aneteyabbey/ai/multimedia_analysis/dataset/segmented/lex_fridman/episode_5.json"
        },
        "xaxis": {
         "gridcolor": "LightGrey",
         "gridwidth": 1,
         "showgrid": true,
         "title": {
          "text": "Character Position"
         }
        },
        "yaxis": {
         "autorange": "reversed",
         "tickmode": "array",
         "ticktext": [
          "Seg 0: Early Life and Literature...",
          "Seg 1: Childhood Tinkering and Computers...",
          "Seg 2: Conway's Game of Life...",
          "Seg 3: AI and Human Consciousness...",
          "Seg 4: Brains as Computers...",
          "Seg 5: Consciousness and Evolution...",
          "Seg 6: Consciousness in Autonomous Systems...",
          "Seg 7: Formal Reasoning vs. Pattern Matching..."
         ],
         "tickvals": [
          0,
          1,
          2,
          3,
          4,
          5,
          6,
          7
         ],
         "title": {
          "text": "Segment"
         }
        }
       }
      }
     },
     "metadata": {},
     "output_type": "display_data"
    },
    {
     "data": {
      "application/vnd.plotly.v1+json": {
       "config": {
        "plotlyServerURL": "https://plot.ly"
       },
       "data": [
        {
         "hovertemplate": "<b>Introduction to Jeff Atwood...</b><br>Start: 1<br>End: 50<br>Length: 49<br>Text: The following is a conversation with Jeff Atwood....<br><extra></extra>",
         "marker": {
          "opacity": 0,
          "size": 0.1
         },
         "mode": "markers",
         "showlegend": false,
         "type": "scatter",
         "x": [
          25.5
         ],
         "y": [
          0
         ]
        },
        {
         "hovertemplate": "<b>Motivation of Programmers...</b><br>Start: 836<br>End: 1,112<br>Length: 276<br>Text: Having co-created and managed for a few years the ...<br><extra></extra>",
         "marker": {
          "opacity": 0,
          "size": 0.1
         },
         "mode": "markers",
         "showlegend": false,
         "type": "scatter",
         "x": [
          974
         ],
         "y": [
          1
         ]
        },
        {
         "hovertemplate": "<b>Problem Solving with Data...</b><br>Start: 1,974<br>End: 3,525<br>Length: 1,551<br>Text: Well, data is fun, too<br>Like, there's this thing c...<br><extra></extra>",
         "marker": {
          "opacity": 0,
          "size": 0.1
         },
         "mode": "markers",
         "showlegend": false,
         "type": "scatter",
         "x": [
          2749.5
         ],
         "y": [
          2
         ]
        },
        {
         "hovertemplate": "<b>Transition to Management...</b><br>Start: 3,526<br>End: 4,079<br>Length: 553<br>Text: So empirically, you find it<br>But what's the joy of...<br><extra></extra>",
         "marker": {
          "opacity": 0,
          "size": 0.1
         },
         "mode": "markers",
         "showlegend": false,
         "type": "scatter",
         "x": [
          3802.5
         ],
         "y": [
          3
         ]
        },
        {
         "hovertemplate": "<b>Qualities of a Good Leader...</b><br>Start: 4,080<br>End: 6,872<br>Length: 2,792<br>Text: You said language is code? Language is code<br>Meani...<br><extra></extra>",
         "marker": {
          "opacity": 0,
          "size": 0.1
         },
         "mode": "markers",
         "showlegend": false,
         "type": "scatter",
         "x": [
          5476
         ],
         "y": [
          4
         ]
        },
        {
         "hovertemplate": "<b>Self-Awareness and Feedback...</b><br>Start: 6,873<br>End: 9,265<br>Length: 2,392<br>Text: Yeah<br>So let's pause on that one<br>So those two thi...<br><extra></extra>",
         "marker": {
          "opacity": 0,
          "size": 0.1
         },
         "mode": "markers",
         "showlegend": false,
         "type": "scatter",
         "x": [
          8069
         ],
         "y": [
          5
         ]
        },
        {
         "hovertemplate": "<b>Communicating Decisions...</b><br>Start: 9,266<br>End: 11,171<br>Length: 1,905<br>Text: But you said that voice also for, I think it's a p...<br><extra></extra>",
         "marker": {
          "opacity": 0,
          "size": 0.1
         },
         "mode": "markers",
         "showlegend": false,
         "type": "scatter",
         "x": [
          10218.5
         ],
         "y": [
          6
         ]
        },
        {
         "hovertemplate": "<b>Passion for Discourse Project...</b><br>Start: 11,172<br>End: 13,208<br>Length: 2,036<br>Text: And the other one you said is passion<br>So, or, uh,...<br><extra></extra>",
         "marker": {
          "opacity": 0,
          "size": 0.1
         },
         "mode": "markers",
         "showlegend": false,
         "type": "scatter",
         "x": [
          12190
         ],
         "y": [
          7
         ]
        },
        {
         "hovertemplate": "<b>Stack Overflow vs. Discourse...</b><br>Start: 13,209<br>End: 14,162<br>Length: 953<br>Text: So, so let's, let's take a small pause here<br>First...<br><extra></extra>",
         "marker": {
          "opacity": 0,
          "size": 0.1
         },
         "mode": "markers",
         "showlegend": false,
         "type": "scatter",
         "x": [
          13685.5
         ],
         "y": [
          8
         ]
        },
        {
         "hovertemplate": "<b>Evolution of Stack Overflow...</b><br>Start: 14,212<br>End: 15,747<br>Length: 1,535<br>Text: Well, we didn't know<br>We didn't, we had an idea of...<br><extra></extra>",
         "marker": {
          "opacity": 0,
          "size": 0.1
         },
         "mode": "markers",
         "showlegend": false,
         "type": "scatter",
         "x": [
          14979.5
         ],
         "y": [
          9
         ]
        },
        {
         "hovertemplate": "<b>Birth of Discourse...</b><br>Start: 19,675<br>End: 23,602<br>Length: 3,927<br>Text: Great<br>So there's this very specific Q and a forma...<br><extra></extra>",
         "marker": {
          "opacity": 0,
          "size": 0.1
         },
         "mode": "markers",
         "showlegend": false,
         "type": "scatter",
         "x": [
          21638.5
         ],
         "y": [
          10
         ]
        },
        {
         "hovertemplate": "<b>Interest Graph vs. Relationship Graph...</b><br>Start: 23,603<br>End: 26,626<br>Length: 3,023<br>Text: And yet that's where I felt they could get the big...<br><extra></extra>",
         "marker": {
          "opacity": 0,
          "size": 0.1
         },
         "mode": "markers",
         "showlegend": false,
         "type": "scatter",
         "x": [
          25114.5
         ],
         "y": [
          11
         ]
        },
        {
         "hovertemplate": "<b>Community Ownership and Feedback...</b><br>Start: 26,627<br>End: 29,832<br>Length: 3,205<br>Text: Like I said, leadership is about passion, right? A...<br><extra></extra>",
         "marker": {
          "opacity": 0,
          "size": 0.1
         },
         "mode": "markers",
         "showlegend": false,
         "type": "scatter",
         "x": [
          28229.5
         ],
         "y": [
          12
         ]
        },
        {
         "hovertemplate": "<b>Building Critical Mass in Communities...</b><br>Start: 29,833<br>End: 31,297<br>Length: 1,464<br>Text: I love that relationship with the community<br>RICK ...<br><extra></extra>",
         "marker": {
          "opacity": 0,
          "size": 0.1
         },
         "mode": "markers",
         "showlegend": false,
         "type": "scatter",
         "x": [
          30565
         ],
         "y": [
          13
         ]
        },
        {
         "hovertemplate": "<b>Genesis of Coding Horror Blog...</b><br>Start: 31,298<br>End: 34,394<br>Length: 3,096<br>Text: And it helps again, if it's something you're passi...<br><extra></extra>",
         "marker": {
          "opacity": 0,
          "size": 0.1
         },
         "mode": "markers",
         "showlegend": false,
         "type": "scatter",
         "x": [
          32846
         ],
         "y": [
          14
         ]
        },
        {
         "hovertemplate": "<b>The Process of Writing...</b><br>Start: 34,394<br>End: 37,971<br>Length: 3,577<br>Text: And programmers, that's an easy sell for the most ...<br><extra></extra>",
         "marker": {
          "opacity": 0,
          "size": 0.1
         },
         "mode": "markers",
         "showlegend": false,
         "type": "scatter",
         "x": [
          36182.5
         ],
         "y": [
          15
         ]
        },
        {
         "hovertemplate": "<b>Decision to Not Sell Blog...</b><br>Start: 37,972<br>End: 42,163<br>Length: 4,191<br>Text: And it sounds good<br>And what's your process of wri...<br><extra></extra>",
         "marker": {
          "opacity": 0,
          "size": 0.1
         },
         "mode": "markers",
         "showlegend": false,
         "type": "scatter",
         "x": [
          40067.5
         ],
         "y": [
          16
         ]
        },
        {
         "hovertemplate": "<b>Starting a Software Company...</b><br>Start: 42,164<br>End: 46,320<br>Length: 4,156<br>Text: Yeah<br>You know, a lot of other stuff would have ch...<br><extra></extra>",
         "marker": {
          "opacity": 0,
          "size": 0.1
         },
         "mode": "markers",
         "showlegend": false,
         "type": "scatter",
         "x": [
          44242
         ],
         "y": [
          17
         ]
        },
        {
         "hovertemplate": "<b>Tension in Stack Overflow...</b><br>Start: 46,321<br>End: 48,860<br>Length: 2,539<br>Text: Same thing with Joel, right? I mean, Joel is a leg...<br><extra></extra>",
         "marker": {
          "opacity": 0,
          "size": 0.1
         },
         "mode": "markers",
         "showlegend": false,
         "type": "scatter",
         "x": [
          47590.5
         ],
         "y": [
          18
         ]
        },
        {
         "hovertemplate": "<b>Anxiety of Asking Questions...</b><br>Start: 48,861<br>End: 54,067<br>Length: 5,206<br>Text: It's not like we, we're all have perfect answers a...<br><extra></extra>",
         "marker": {
          "opacity": 0,
          "size": 0.1
         },
         "mode": "markers",
         "showlegend": false,
         "type": "scatter",
         "x": [
          51464
         ],
         "y": [
          19
         ]
        },
        {
         "hovertemplate": "<b>Duplicate Questions Problem...</b><br>Start: 54,068<br>End: 56,409<br>Length: 2,341<br>Text: That doesn't mean it's wrong<br>And I think it would...<br><extra></extra>",
         "marker": {
          "opacity": 0,
          "size": 0.1
         },
         "mode": "markers",
         "showlegend": false,
         "type": "scatter",
         "x": [
          55238.5
         ],
         "y": [
          20
         ]
        },
        {
         "hovertemplate": "<b>Strictness and Programming...</b><br>Start: 56,410<br>End: 58,439<br>Length: 2,029<br>Text: People get offended by that<br>Right<br>So the reputat...<br><extra></extra>",
         "marker": {
          "opacity": 0,
          "size": 0.1
         },
         "mode": "markers",
         "showlegend": false,
         "type": "scatter",
         "x": [
          57424.5
         ],
         "y": [
          21
         ]
        },
        {
         "hovertemplate": "<b>Programmers and Computers...</b><br>Start: 58,440<br>End: 60,633<br>Length: 2,193<br>Text: Right<br>That's a bug<br>Right<br>Or maybe you mistyped,...<br><extra></extra>",
         "marker": {
          "opacity": 0,
          "size": 0.1
         },
         "mode": "markers",
         "showlegend": false,
         "type": "scatter",
         "x": [
          59536.5
         ],
         "y": [
          22
         ]
        },
        {
         "hovertemplate": "<b>Evolution of a Programmer...</b><br>Start: 61,376<br>End: 67,338<br>Length: 5,962<br>Text: You've written so many blog posts about programmin...<br><extra></extra>",
         "marker": {
          "opacity": 0,
          "size": 0.1
         },
         "mode": "markers",
         "showlegend": false,
         "type": "scatter",
         "x": [
          64357
         ],
         "y": [
          23
         ]
        },
        {
         "hovertemplate": "<b>Learning New Programming Languages...</b><br>Start: 67,339<br>End: 69,900<br>Length: 2,561<br>Text: So a lot of the skills that I was working on early...<br><extra></extra>",
         "marker": {
          "opacity": 0,
          "size": 0.1
         },
         "mode": "markers",
         "showlegend": false,
         "type": "scatter",
         "x": [
          68619.5
         ],
         "y": [
          24
         ]
        },
        {
         "hovertemplate": "<b>Importance of Rapid Iteration...</b><br>Start: 69,901<br>End: 75,127<br>Length: 5,226<br>Text: Well, so there's a question that's really interest...<br><extra></extra>",
         "marker": {
          "opacity": 0,
          "size": 0.1
         },
         "mode": "markers",
         "showlegend": false,
         "type": "scatter",
         "x": [
          72514
         ],
         "y": [
          25
         ]
        },
        {
         "hovertemplate": "<b>Future of Programming...</b><br>Start: 75,128<br>End: 77,011<br>Length: 1,883<br>Text: Delta V, right? How fast are you moving? Well, wit...<br><extra></extra>",
         "marker": {
          "opacity": 0,
          "size": 0.1
         },
         "mode": "markers",
         "showlegend": false,
         "type": "scatter",
         "x": [
          76069.5
         ],
         "y": [
          26
         ]
        },
        {
         "hovertemplate": "<b>Smartphones and AI in Programming...</b><br>Start: 77,012<br>End: 84,032<br>Length: 7,020<br>Text: Well, you got to go look back on sort of the basic...<br><extra></extra>",
         "marker": {
          "opacity": 0,
          "size": 0.1
         },
         "mode": "markers",
         "showlegend": false,
         "type": "scatter",
         "x": [
          80522
         ],
         "y": [
          27
         ]
        },
        {
         "hovertemplate": "<b>Unix Philosophy and Programming...</b><br>Start: 84,033<br>End: 87,136<br>Length: 3,103<br>Text: Like, oh, hey, I see your home<br>Would you like som...<br><extra></extra>",
         "marker": {
          "opacity": 0,
          "size": 0.1
         },
         "mode": "markers",
         "showlegend": false,
         "type": "scatter",
         "x": [
          85584.5
         ],
         "y": [
          28
         ]
        },
        {
         "hovertemplate": "<b>Future of Discourse...</b><br>Start: 87,137<br>End: 90,369<br>Length: 3,232<br>Text: I think Unix won<br>I mean, so definitively<br>It's in...<br><extra></extra>",
         "marker": {
          "opacity": 0,
          "size": 0.1
         },
         "mode": "markers",
         "showlegend": false,
         "type": "scatter",
         "x": [
          88753
         ],
         "y": [
          29
         ]
        },
        {
         "hovertemplate": "<b>Business Model of Discourse...</b><br>Start: 90,370<br>End: 94,510<br>Length: 4,140<br>Text: But that's where we make all our money, but we don...<br><extra></extra>",
         "marker": {
          "opacity": 0,
          "size": 0.1
         },
         "mode": "markers",
         "showlegend": false,
         "type": "scatter",
         "x": [
          92440
         ],
         "y": [
          30
         ]
        },
        {
         "hovertemplate": "<b>Mechanical Keyboards and Passion...</b><br>Start: 94,607<br>End: 97,968<br>Length: 3,361<br>Text: So last question, you've created the code keyboard...<br><extra></extra>",
         "marker": {
          "opacity": 0,
          "size": 0.1
         },
         "mode": "markers",
         "showlegend": false,
         "type": "scatter",
         "x": [
          96287.5
         ],
         "y": [
          31
         ]
        }
       ],
       "layout": {
        "annotations": [
         {
          "bgcolor": "rgba(255,255,255,0.3)",
          "borderpad": 4,
          "font": {
           "color": "black",
           "family": "Arial Black",
           "size": 12
          },
          "showarrow": false,
          "text": "0",
          "x": 25.5,
          "y": 0
         },
         {
          "bgcolor": "rgba(255,255,255,0.3)",
          "borderpad": 4,
          "font": {
           "color": "black",
           "family": "Arial Black",
           "size": 12
          },
          "showarrow": false,
          "text": "1",
          "x": 974,
          "y": 1
         },
         {
          "bgcolor": "rgba(255,255,255,0.3)",
          "borderpad": 4,
          "font": {
           "color": "black",
           "family": "Arial Black",
           "size": 12
          },
          "showarrow": false,
          "text": "2",
          "x": 2749.5,
          "y": 2
         },
         {
          "bgcolor": "rgba(255,255,255,0.3)",
          "borderpad": 4,
          "font": {
           "color": "black",
           "family": "Arial Black",
           "size": 12
          },
          "showarrow": false,
          "text": "3",
          "x": 3802.5,
          "y": 3
         },
         {
          "bgcolor": "rgba(255,255,255,0.3)",
          "borderpad": 4,
          "font": {
           "color": "black",
           "family": "Arial Black",
           "size": 12
          },
          "showarrow": false,
          "text": "4",
          "x": 5476,
          "y": 4
         },
         {
          "bgcolor": "rgba(255,255,255,0.3)",
          "borderpad": 4,
          "font": {
           "color": "black",
           "family": "Arial Black",
           "size": 12
          },
          "showarrow": false,
          "text": "5",
          "x": 8069,
          "y": 5
         },
         {
          "bgcolor": "rgba(255,255,255,0.3)",
          "borderpad": 4,
          "font": {
           "color": "black",
           "family": "Arial Black",
           "size": 12
          },
          "showarrow": false,
          "text": "6",
          "x": 10218.5,
          "y": 6
         },
         {
          "bgcolor": "rgba(255,255,255,0.3)",
          "borderpad": 4,
          "font": {
           "color": "black",
           "family": "Arial Black",
           "size": 12
          },
          "showarrow": false,
          "text": "7",
          "x": 12190,
          "y": 7
         },
         {
          "bgcolor": "rgba(255,255,255,0.3)",
          "borderpad": 4,
          "font": {
           "color": "black",
           "family": "Arial Black",
           "size": 12
          },
          "showarrow": false,
          "text": "8",
          "x": 13685.5,
          "y": 8
         },
         {
          "bgcolor": "rgba(255,255,255,0.3)",
          "borderpad": 4,
          "font": {
           "color": "black",
           "family": "Arial Black",
           "size": 12
          },
          "showarrow": false,
          "text": "9",
          "x": 14979.5,
          "y": 9
         },
         {
          "bgcolor": "rgba(255,255,255,0.3)",
          "borderpad": 4,
          "font": {
           "color": "black",
           "family": "Arial Black",
           "size": 12
          },
          "showarrow": false,
          "text": "11",
          "x": 21638.5,
          "y": 10
         },
         {
          "bgcolor": "rgba(255,255,255,0.3)",
          "borderpad": 4,
          "font": {
           "color": "black",
           "family": "Arial Black",
           "size": 12
          },
          "showarrow": false,
          "text": "12",
          "x": 25114.5,
          "y": 11
         },
         {
          "bgcolor": "rgba(255,255,255,0.3)",
          "borderpad": 4,
          "font": {
           "color": "black",
           "family": "Arial Black",
           "size": 12
          },
          "showarrow": false,
          "text": "13",
          "x": 28229.5,
          "y": 12
         },
         {
          "bgcolor": "rgba(255,255,255,0.3)",
          "borderpad": 4,
          "font": {
           "color": "black",
           "family": "Arial Black",
           "size": 12
          },
          "showarrow": false,
          "text": "14",
          "x": 30565,
          "y": 13
         },
         {
          "bgcolor": "rgba(255,255,255,0.3)",
          "borderpad": 4,
          "font": {
           "color": "black",
           "family": "Arial Black",
           "size": 12
          },
          "showarrow": false,
          "text": "15",
          "x": 32846,
          "y": 14
         },
         {
          "bgcolor": "rgba(255,255,255,0.3)",
          "borderpad": 4,
          "font": {
           "color": "black",
           "family": "Arial Black",
           "size": 12
          },
          "showarrow": false,
          "text": "16",
          "x": 36182.5,
          "y": 15
         },
         {
          "bgcolor": "rgba(255,255,255,0.3)",
          "borderpad": 4,
          "font": {
           "color": "black",
           "family": "Arial Black",
           "size": 12
          },
          "showarrow": false,
          "text": "17",
          "x": 40067.5,
          "y": 16
         },
         {
          "bgcolor": "rgba(255,255,255,0.3)",
          "borderpad": 4,
          "font": {
           "color": "black",
           "family": "Arial Black",
           "size": 12
          },
          "showarrow": false,
          "text": "18",
          "x": 44242,
          "y": 17
         },
         {
          "bgcolor": "rgba(255,255,255,0.3)",
          "borderpad": 4,
          "font": {
           "color": "black",
           "family": "Arial Black",
           "size": 12
          },
          "showarrow": false,
          "text": "19",
          "x": 47590.5,
          "y": 18
         },
         {
          "bgcolor": "rgba(255,255,255,0.3)",
          "borderpad": 4,
          "font": {
           "color": "black",
           "family": "Arial Black",
           "size": 12
          },
          "showarrow": false,
          "text": "20",
          "x": 51464,
          "y": 19
         },
         {
          "bgcolor": "rgba(255,255,255,0.3)",
          "borderpad": 4,
          "font": {
           "color": "black",
           "family": "Arial Black",
           "size": 12
          },
          "showarrow": false,
          "text": "21",
          "x": 55238.5,
          "y": 20
         },
         {
          "bgcolor": "rgba(255,255,255,0.3)",
          "borderpad": 4,
          "font": {
           "color": "black",
           "family": "Arial Black",
           "size": 12
          },
          "showarrow": false,
          "text": "22",
          "x": 57424.5,
          "y": 21
         },
         {
          "bgcolor": "rgba(255,255,255,0.3)",
          "borderpad": 4,
          "font": {
           "color": "black",
           "family": "Arial Black",
           "size": 12
          },
          "showarrow": false,
          "text": "23",
          "x": 59536.5,
          "y": 22
         },
         {
          "bgcolor": "rgba(255,255,255,0.3)",
          "borderpad": 4,
          "font": {
           "color": "black",
           "family": "Arial Black",
           "size": 12
          },
          "showarrow": false,
          "text": "24",
          "x": 64357,
          "y": 23
         },
         {
          "bgcolor": "rgba(255,255,255,0.3)",
          "borderpad": 4,
          "font": {
           "color": "black",
           "family": "Arial Black",
           "size": 12
          },
          "showarrow": false,
          "text": "25",
          "x": 68619.5,
          "y": 24
         },
         {
          "bgcolor": "rgba(255,255,255,0.3)",
          "borderpad": 4,
          "font": {
           "color": "black",
           "family": "Arial Black",
           "size": 12
          },
          "showarrow": false,
          "text": "26",
          "x": 72514,
          "y": 25
         },
         {
          "bgcolor": "rgba(255,255,255,0.3)",
          "borderpad": 4,
          "font": {
           "color": "black",
           "family": "Arial Black",
           "size": 12
          },
          "showarrow": false,
          "text": "27",
          "x": 76069.5,
          "y": 26
         },
         {
          "bgcolor": "rgba(255,255,255,0.3)",
          "borderpad": 4,
          "font": {
           "color": "black",
           "family": "Arial Black",
           "size": 12
          },
          "showarrow": false,
          "text": "28",
          "x": 80522,
          "y": 27
         },
         {
          "bgcolor": "rgba(255,255,255,0.3)",
          "borderpad": 4,
          "font": {
           "color": "black",
           "family": "Arial Black",
           "size": 12
          },
          "showarrow": false,
          "text": "29",
          "x": 85584.5,
          "y": 28
         },
         {
          "bgcolor": "rgba(255,255,255,0.3)",
          "borderpad": 4,
          "font": {
           "color": "black",
           "family": "Arial Black",
           "size": 12
          },
          "showarrow": false,
          "text": "30",
          "x": 88753,
          "y": 29
         },
         {
          "bgcolor": "rgba(255,255,255,0.3)",
          "borderpad": 4,
          "font": {
           "color": "black",
           "family": "Arial Black",
           "size": 12
          },
          "showarrow": false,
          "text": "31",
          "x": 92440,
          "y": 30
         },
         {
          "bgcolor": "rgba(255,255,255,0.3)",
          "borderpad": 4,
          "font": {
           "color": "black",
           "family": "Arial Black",
           "size": 12
          },
          "showarrow": false,
          "text": "32",
          "x": 96287.5,
          "y": 31
         }
        ],
        "height": 2560,
        "hovermode": "closest",
        "shapes": [
         {
          "fillcolor": "hsl(0.0, 70%, 50%)",
          "line": {
           "color": "black",
           "width": 1
          },
          "opacity": 0.8,
          "type": "rect",
          "x0": 1,
          "x1": 50,
          "y0": -0.3,
          "y1": 0.3
         },
         {
          "fillcolor": "hsl(11.25, 70%, 50%)",
          "line": {
           "color": "black",
           "width": 1
          },
          "opacity": 0.8,
          "type": "rect",
          "x0": 836,
          "x1": 1112,
          "y0": 0.7,
          "y1": 1.3
         },
         {
          "fillcolor": "hsl(22.5, 70%, 50%)",
          "line": {
           "color": "black",
           "width": 1
          },
          "opacity": 0.8,
          "type": "rect",
          "x0": 1974,
          "x1": 3525,
          "y0": 1.7,
          "y1": 2.3
         },
         {
          "fillcolor": "hsl(33.75, 70%, 50%)",
          "line": {
           "color": "black",
           "width": 1
          },
          "opacity": 0.8,
          "type": "rect",
          "x0": 3526,
          "x1": 4079,
          "y0": 2.7,
          "y1": 3.3
         },
         {
          "fillcolor": "hsl(45.0, 70%, 50%)",
          "line": {
           "color": "black",
           "width": 1
          },
          "opacity": 0.8,
          "type": "rect",
          "x0": 4080,
          "x1": 6872,
          "y0": 3.7,
          "y1": 4.3
         },
         {
          "fillcolor": "hsl(56.25, 70%, 50%)",
          "line": {
           "color": "black",
           "width": 1
          },
          "opacity": 0.8,
          "type": "rect",
          "x0": 6873,
          "x1": 9265,
          "y0": 4.7,
          "y1": 5.3
         },
         {
          "fillcolor": "hsl(67.5, 70%, 50%)",
          "line": {
           "color": "black",
           "width": 1
          },
          "opacity": 0.8,
          "type": "rect",
          "x0": 9266,
          "x1": 11171,
          "y0": 5.7,
          "y1": 6.3
         },
         {
          "fillcolor": "hsl(78.75, 70%, 50%)",
          "line": {
           "color": "black",
           "width": 1
          },
          "opacity": 0.8,
          "type": "rect",
          "x0": 11172,
          "x1": 13208,
          "y0": 6.7,
          "y1": 7.3
         },
         {
          "fillcolor": "hsl(90.0, 70%, 50%)",
          "line": {
           "color": "black",
           "width": 1
          },
          "opacity": 0.8,
          "type": "rect",
          "x0": 13209,
          "x1": 14162,
          "y0": 7.7,
          "y1": 8.3
         },
         {
          "fillcolor": "hsl(101.25, 70%, 50%)",
          "line": {
           "color": "black",
           "width": 1
          },
          "opacity": 0.8,
          "type": "rect",
          "x0": 14212,
          "x1": 15747,
          "y0": 8.7,
          "y1": 9.3
         },
         {
          "fillcolor": "hsl(112.5, 70%, 50%)",
          "line": {
           "color": "black",
           "width": 1
          },
          "opacity": 0.8,
          "type": "rect",
          "x0": 19675,
          "x1": 23602,
          "y0": 9.7,
          "y1": 10.3
         },
         {
          "fillcolor": "hsl(123.75, 70%, 50%)",
          "line": {
           "color": "black",
           "width": 1
          },
          "opacity": 0.8,
          "type": "rect",
          "x0": 23603,
          "x1": 26626,
          "y0": 10.7,
          "y1": 11.3
         },
         {
          "fillcolor": "hsl(135.0, 70%, 50%)",
          "line": {
           "color": "black",
           "width": 1
          },
          "opacity": 0.8,
          "type": "rect",
          "x0": 26627,
          "x1": 29832,
          "y0": 11.7,
          "y1": 12.3
         },
         {
          "fillcolor": "hsl(146.25, 70%, 50%)",
          "line": {
           "color": "black",
           "width": 1
          },
          "opacity": 0.8,
          "type": "rect",
          "x0": 29833,
          "x1": 31297,
          "y0": 12.7,
          "y1": 13.3
         },
         {
          "fillcolor": "hsl(157.5, 70%, 50%)",
          "line": {
           "color": "black",
           "width": 1
          },
          "opacity": 0.8,
          "type": "rect",
          "x0": 31298,
          "x1": 34394,
          "y0": 13.7,
          "y1": 14.3
         },
         {
          "fillcolor": "hsl(168.75, 70%, 50%)",
          "line": {
           "color": "black",
           "width": 1
          },
          "opacity": 0.8,
          "type": "rect",
          "x0": 34394,
          "x1": 37971,
          "y0": 14.7,
          "y1": 15.3
         },
         {
          "fillcolor": "hsl(180.0, 70%, 50%)",
          "line": {
           "color": "black",
           "width": 1
          },
          "opacity": 0.8,
          "type": "rect",
          "x0": 37972,
          "x1": 42163,
          "y0": 15.7,
          "y1": 16.3
         },
         {
          "fillcolor": "hsl(191.25, 70%, 50%)",
          "line": {
           "color": "black",
           "width": 1
          },
          "opacity": 0.8,
          "type": "rect",
          "x0": 42164,
          "x1": 46320,
          "y0": 16.7,
          "y1": 17.3
         },
         {
          "fillcolor": "hsl(202.5, 70%, 50%)",
          "line": {
           "color": "black",
           "width": 1
          },
          "opacity": 0.8,
          "type": "rect",
          "x0": 46321,
          "x1": 48860,
          "y0": 17.7,
          "y1": 18.3
         },
         {
          "fillcolor": "hsl(213.75, 70%, 50%)",
          "line": {
           "color": "black",
           "width": 1
          },
          "opacity": 0.8,
          "type": "rect",
          "x0": 48861,
          "x1": 54067,
          "y0": 18.7,
          "y1": 19.3
         },
         {
          "fillcolor": "hsl(225.0, 70%, 50%)",
          "line": {
           "color": "black",
           "width": 1
          },
          "opacity": 0.8,
          "type": "rect",
          "x0": 54068,
          "x1": 56409,
          "y0": 19.7,
          "y1": 20.3
         },
         {
          "fillcolor": "hsl(236.25, 70%, 50%)",
          "line": {
           "color": "black",
           "width": 1
          },
          "opacity": 0.8,
          "type": "rect",
          "x0": 56410,
          "x1": 58439,
          "y0": 20.7,
          "y1": 21.3
         },
         {
          "fillcolor": "hsl(247.5, 70%, 50%)",
          "line": {
           "color": "black",
           "width": 1
          },
          "opacity": 0.8,
          "type": "rect",
          "x0": 58440,
          "x1": 60633,
          "y0": 21.7,
          "y1": 22.3
         },
         {
          "fillcolor": "hsl(258.75, 70%, 50%)",
          "line": {
           "color": "black",
           "width": 1
          },
          "opacity": 0.8,
          "type": "rect",
          "x0": 61376,
          "x1": 67338,
          "y0": 22.7,
          "y1": 23.3
         },
         {
          "fillcolor": "hsl(270.0, 70%, 50%)",
          "line": {
           "color": "black",
           "width": 1
          },
          "opacity": 0.8,
          "type": "rect",
          "x0": 67339,
          "x1": 69900,
          "y0": 23.7,
          "y1": 24.3
         },
         {
          "fillcolor": "hsl(281.25, 70%, 50%)",
          "line": {
           "color": "black",
           "width": 1
          },
          "opacity": 0.8,
          "type": "rect",
          "x0": 69901,
          "x1": 75127,
          "y0": 24.7,
          "y1": 25.3
         },
         {
          "fillcolor": "hsl(292.5, 70%, 50%)",
          "line": {
           "color": "black",
           "width": 1
          },
          "opacity": 0.8,
          "type": "rect",
          "x0": 75128,
          "x1": 77011,
          "y0": 25.7,
          "y1": 26.3
         },
         {
          "fillcolor": "hsl(303.75, 70%, 50%)",
          "line": {
           "color": "black",
           "width": 1
          },
          "opacity": 0.8,
          "type": "rect",
          "x0": 77012,
          "x1": 84032,
          "y0": 26.7,
          "y1": 27.3
         },
         {
          "fillcolor": "hsl(315.0, 70%, 50%)",
          "line": {
           "color": "black",
           "width": 1
          },
          "opacity": 0.8,
          "type": "rect",
          "x0": 84033,
          "x1": 87136,
          "y0": 27.7,
          "y1": 28.3
         },
         {
          "fillcolor": "hsl(326.25, 70%, 50%)",
          "line": {
           "color": "black",
           "width": 1
          },
          "opacity": 0.8,
          "type": "rect",
          "x0": 87137,
          "x1": 90369,
          "y0": 28.7,
          "y1": 29.3
         },
         {
          "fillcolor": "hsl(337.5, 70%, 50%)",
          "line": {
           "color": "black",
           "width": 1
          },
          "opacity": 0.8,
          "type": "rect",
          "x0": 90370,
          "x1": 94510,
          "y0": 29.7,
          "y1": 30.3
         },
         {
          "fillcolor": "hsl(348.75, 70%, 50%)",
          "line": {
           "color": "black",
           "width": 1
          },
          "opacity": 0.8,
          "type": "rect",
          "x0": 94607,
          "x1": 97968,
          "y0": 30.7,
          "y1": 31.3
         }
        ],
        "showlegend": false,
        "template": {
         "data": {
          "bar": [
           {
            "error_x": {
             "color": "#2a3f5f"
            },
            "error_y": {
             "color": "#2a3f5f"
            },
            "marker": {
             "line": {
              "color": "#E5ECF6",
              "width": 0.5
             },
             "pattern": {
              "fillmode": "overlay",
              "size": 10,
              "solidity": 0.2
             }
            },
            "type": "bar"
           }
          ],
          "barpolar": [
           {
            "marker": {
             "line": {
              "color": "#E5ECF6",
              "width": 0.5
             },
             "pattern": {
              "fillmode": "overlay",
              "size": 10,
              "solidity": 0.2
             }
            },
            "type": "barpolar"
           }
          ],
          "carpet": [
           {
            "aaxis": {
             "endlinecolor": "#2a3f5f",
             "gridcolor": "white",
             "linecolor": "white",
             "minorgridcolor": "white",
             "startlinecolor": "#2a3f5f"
            },
            "baxis": {
             "endlinecolor": "#2a3f5f",
             "gridcolor": "white",
             "linecolor": "white",
             "minorgridcolor": "white",
             "startlinecolor": "#2a3f5f"
            },
            "type": "carpet"
           }
          ],
          "choropleth": [
           {
            "colorbar": {
             "outlinewidth": 0,
             "ticks": ""
            },
            "type": "choropleth"
           }
          ],
          "contour": [
           {
            "colorbar": {
             "outlinewidth": 0,
             "ticks": ""
            },
            "colorscale": [
             [
              0,
              "#0d0887"
             ],
             [
              0.1111111111111111,
              "#46039f"
             ],
             [
              0.2222222222222222,
              "#7201a8"
             ],
             [
              0.3333333333333333,
              "#9c179e"
             ],
             [
              0.4444444444444444,
              "#bd3786"
             ],
             [
              0.5555555555555556,
              "#d8576b"
             ],
             [
              0.6666666666666666,
              "#ed7953"
             ],
             [
              0.7777777777777778,
              "#fb9f3a"
             ],
             [
              0.8888888888888888,
              "#fdca26"
             ],
             [
              1,
              "#f0f921"
             ]
            ],
            "type": "contour"
           }
          ],
          "contourcarpet": [
           {
            "colorbar": {
             "outlinewidth": 0,
             "ticks": ""
            },
            "type": "contourcarpet"
           }
          ],
          "heatmap": [
           {
            "colorbar": {
             "outlinewidth": 0,
             "ticks": ""
            },
            "colorscale": [
             [
              0,
              "#0d0887"
             ],
             [
              0.1111111111111111,
              "#46039f"
             ],
             [
              0.2222222222222222,
              "#7201a8"
             ],
             [
              0.3333333333333333,
              "#9c179e"
             ],
             [
              0.4444444444444444,
              "#bd3786"
             ],
             [
              0.5555555555555556,
              "#d8576b"
             ],
             [
              0.6666666666666666,
              "#ed7953"
             ],
             [
              0.7777777777777778,
              "#fb9f3a"
             ],
             [
              0.8888888888888888,
              "#fdca26"
             ],
             [
              1,
              "#f0f921"
             ]
            ],
            "type": "heatmap"
           }
          ],
          "heatmapgl": [
           {
            "colorbar": {
             "outlinewidth": 0,
             "ticks": ""
            },
            "colorscale": [
             [
              0,
              "#0d0887"
             ],
             [
              0.1111111111111111,
              "#46039f"
             ],
             [
              0.2222222222222222,
              "#7201a8"
             ],
             [
              0.3333333333333333,
              "#9c179e"
             ],
             [
              0.4444444444444444,
              "#bd3786"
             ],
             [
              0.5555555555555556,
              "#d8576b"
             ],
             [
              0.6666666666666666,
              "#ed7953"
             ],
             [
              0.7777777777777778,
              "#fb9f3a"
             ],
             [
              0.8888888888888888,
              "#fdca26"
             ],
             [
              1,
              "#f0f921"
             ]
            ],
            "type": "heatmapgl"
           }
          ],
          "histogram": [
           {
            "marker": {
             "pattern": {
              "fillmode": "overlay",
              "size": 10,
              "solidity": 0.2
             }
            },
            "type": "histogram"
           }
          ],
          "histogram2d": [
           {
            "colorbar": {
             "outlinewidth": 0,
             "ticks": ""
            },
            "colorscale": [
             [
              0,
              "#0d0887"
             ],
             [
              0.1111111111111111,
              "#46039f"
             ],
             [
              0.2222222222222222,
              "#7201a8"
             ],
             [
              0.3333333333333333,
              "#9c179e"
             ],
             [
              0.4444444444444444,
              "#bd3786"
             ],
             [
              0.5555555555555556,
              "#d8576b"
             ],
             [
              0.6666666666666666,
              "#ed7953"
             ],
             [
              0.7777777777777778,
              "#fb9f3a"
             ],
             [
              0.8888888888888888,
              "#fdca26"
             ],
             [
              1,
              "#f0f921"
             ]
            ],
            "type": "histogram2d"
           }
          ],
          "histogram2dcontour": [
           {
            "colorbar": {
             "outlinewidth": 0,
             "ticks": ""
            },
            "colorscale": [
             [
              0,
              "#0d0887"
             ],
             [
              0.1111111111111111,
              "#46039f"
             ],
             [
              0.2222222222222222,
              "#7201a8"
             ],
             [
              0.3333333333333333,
              "#9c179e"
             ],
             [
              0.4444444444444444,
              "#bd3786"
             ],
             [
              0.5555555555555556,
              "#d8576b"
             ],
             [
              0.6666666666666666,
              "#ed7953"
             ],
             [
              0.7777777777777778,
              "#fb9f3a"
             ],
             [
              0.8888888888888888,
              "#fdca26"
             ],
             [
              1,
              "#f0f921"
             ]
            ],
            "type": "histogram2dcontour"
           }
          ],
          "mesh3d": [
           {
            "colorbar": {
             "outlinewidth": 0,
             "ticks": ""
            },
            "type": "mesh3d"
           }
          ],
          "parcoords": [
           {
            "line": {
             "colorbar": {
              "outlinewidth": 0,
              "ticks": ""
             }
            },
            "type": "parcoords"
           }
          ],
          "pie": [
           {
            "automargin": true,
            "type": "pie"
           }
          ],
          "scatter": [
           {
            "fillpattern": {
             "fillmode": "overlay",
             "size": 10,
             "solidity": 0.2
            },
            "type": "scatter"
           }
          ],
          "scatter3d": [
           {
            "line": {
             "colorbar": {
              "outlinewidth": 0,
              "ticks": ""
             }
            },
            "marker": {
             "colorbar": {
              "outlinewidth": 0,
              "ticks": ""
             }
            },
            "type": "scatter3d"
           }
          ],
          "scattercarpet": [
           {
            "marker": {
             "colorbar": {
              "outlinewidth": 0,
              "ticks": ""
             }
            },
            "type": "scattercarpet"
           }
          ],
          "scattergeo": [
           {
            "marker": {
             "colorbar": {
              "outlinewidth": 0,
              "ticks": ""
             }
            },
            "type": "scattergeo"
           }
          ],
          "scattergl": [
           {
            "marker": {
             "colorbar": {
              "outlinewidth": 0,
              "ticks": ""
             }
            },
            "type": "scattergl"
           }
          ],
          "scattermapbox": [
           {
            "marker": {
             "colorbar": {
              "outlinewidth": 0,
              "ticks": ""
             }
            },
            "type": "scattermapbox"
           }
          ],
          "scatterpolar": [
           {
            "marker": {
             "colorbar": {
              "outlinewidth": 0,
              "ticks": ""
             }
            },
            "type": "scatterpolar"
           }
          ],
          "scatterpolargl": [
           {
            "marker": {
             "colorbar": {
              "outlinewidth": 0,
              "ticks": ""
             }
            },
            "type": "scatterpolargl"
           }
          ],
          "scatterternary": [
           {
            "marker": {
             "colorbar": {
              "outlinewidth": 0,
              "ticks": ""
             }
            },
            "type": "scatterternary"
           }
          ],
          "surface": [
           {
            "colorbar": {
             "outlinewidth": 0,
             "ticks": ""
            },
            "colorscale": [
             [
              0,
              "#0d0887"
             ],
             [
              0.1111111111111111,
              "#46039f"
             ],
             [
              0.2222222222222222,
              "#7201a8"
             ],
             [
              0.3333333333333333,
              "#9c179e"
             ],
             [
              0.4444444444444444,
              "#bd3786"
             ],
             [
              0.5555555555555556,
              "#d8576b"
             ],
             [
              0.6666666666666666,
              "#ed7953"
             ],
             [
              0.7777777777777778,
              "#fb9f3a"
             ],
             [
              0.8888888888888888,
              "#fdca26"
             ],
             [
              1,
              "#f0f921"
             ]
            ],
            "type": "surface"
           }
          ],
          "table": [
           {
            "cells": {
             "fill": {
              "color": "#EBF0F8"
             },
             "line": {
              "color": "white"
             }
            },
            "header": {
             "fill": {
              "color": "#C8D4E3"
             },
             "line": {
              "color": "white"
             }
            },
            "type": "table"
           }
          ]
         },
         "layout": {
          "annotationdefaults": {
           "arrowcolor": "#2a3f5f",
           "arrowhead": 0,
           "arrowwidth": 1
          },
          "autotypenumbers": "strict",
          "coloraxis": {
           "colorbar": {
            "outlinewidth": 0,
            "ticks": ""
           }
          },
          "colorscale": {
           "diverging": [
            [
             0,
             "#8e0152"
            ],
            [
             0.1,
             "#c51b7d"
            ],
            [
             0.2,
             "#de77ae"
            ],
            [
             0.3,
             "#f1b6da"
            ],
            [
             0.4,
             "#fde0ef"
            ],
            [
             0.5,
             "#f7f7f7"
            ],
            [
             0.6,
             "#e6f5d0"
            ],
            [
             0.7,
             "#b8e186"
            ],
            [
             0.8,
             "#7fbc41"
            ],
            [
             0.9,
             "#4d9221"
            ],
            [
             1,
             "#276419"
            ]
           ],
           "sequential": [
            [
             0,
             "#0d0887"
            ],
            [
             0.1111111111111111,
             "#46039f"
            ],
            [
             0.2222222222222222,
             "#7201a8"
            ],
            [
             0.3333333333333333,
             "#9c179e"
            ],
            [
             0.4444444444444444,
             "#bd3786"
            ],
            [
             0.5555555555555556,
             "#d8576b"
            ],
            [
             0.6666666666666666,
             "#ed7953"
            ],
            [
             0.7777777777777778,
             "#fb9f3a"
            ],
            [
             0.8888888888888888,
             "#fdca26"
            ],
            [
             1,
             "#f0f921"
            ]
           ],
           "sequentialminus": [
            [
             0,
             "#0d0887"
            ],
            [
             0.1111111111111111,
             "#46039f"
            ],
            [
             0.2222222222222222,
             "#7201a8"
            ],
            [
             0.3333333333333333,
             "#9c179e"
            ],
            [
             0.4444444444444444,
             "#bd3786"
            ],
            [
             0.5555555555555556,
             "#d8576b"
            ],
            [
             0.6666666666666666,
             "#ed7953"
            ],
            [
             0.7777777777777778,
             "#fb9f3a"
            ],
            [
             0.8888888888888888,
             "#fdca26"
            ],
            [
             1,
             "#f0f921"
            ]
           ]
          },
          "colorway": [
           "#636efa",
           "#EF553B",
           "#00cc96",
           "#ab63fa",
           "#FFA15A",
           "#19d3f3",
           "#FF6692",
           "#B6E880",
           "#FF97FF",
           "#FECB52"
          ],
          "font": {
           "color": "#2a3f5f"
          },
          "geo": {
           "bgcolor": "white",
           "lakecolor": "white",
           "landcolor": "#E5ECF6",
           "showlakes": true,
           "showland": true,
           "subunitcolor": "white"
          },
          "hoverlabel": {
           "align": "left"
          },
          "hovermode": "closest",
          "mapbox": {
           "style": "light"
          },
          "paper_bgcolor": "white",
          "plot_bgcolor": "#E5ECF6",
          "polar": {
           "angularaxis": {
            "gridcolor": "white",
            "linecolor": "white",
            "ticks": ""
           },
           "bgcolor": "#E5ECF6",
           "radialaxis": {
            "gridcolor": "white",
            "linecolor": "white",
            "ticks": ""
           }
          },
          "scene": {
           "xaxis": {
            "backgroundcolor": "#E5ECF6",
            "gridcolor": "white",
            "gridwidth": 2,
            "linecolor": "white",
            "showbackground": true,
            "ticks": "",
            "zerolinecolor": "white"
           },
           "yaxis": {
            "backgroundcolor": "#E5ECF6",
            "gridcolor": "white",
            "gridwidth": 2,
            "linecolor": "white",
            "showbackground": true,
            "ticks": "",
            "zerolinecolor": "white"
           },
           "zaxis": {
            "backgroundcolor": "#E5ECF6",
            "gridcolor": "white",
            "gridwidth": 2,
            "linecolor": "white",
            "showbackground": true,
            "ticks": "",
            "zerolinecolor": "white"
           }
          },
          "shapedefaults": {
           "line": {
            "color": "#2a3f5f"
           }
          },
          "ternary": {
           "aaxis": {
            "gridcolor": "white",
            "linecolor": "white",
            "ticks": ""
           },
           "baxis": {
            "gridcolor": "white",
            "linecolor": "white",
            "ticks": ""
           },
           "bgcolor": "#E5ECF6",
           "caxis": {
            "gridcolor": "white",
            "linecolor": "white",
            "ticks": ""
           }
          },
          "title": {
           "x": 0.05
          },
          "xaxis": {
           "automargin": true,
           "gridcolor": "white",
           "linecolor": "white",
           "ticks": "",
           "title": {
            "standoff": 15
           },
           "zerolinecolor": "white",
           "zerolinewidth": 2
          },
          "yaxis": {
           "automargin": true,
           "gridcolor": "white",
           "linecolor": "white",
           "ticks": "",
           "title": {
            "standoff": 15
           },
           "zerolinecolor": "white",
           "zerolinewidth": 2
          }
         }
        },
        "title": {
         "text": "Episode Segments Timeline - Character Positions \n /Users/aneteyabbey/ai/multimedia_analysis/dataset/segmented/lex_fridman/episode_6.json"
        },
        "xaxis": {
         "gridcolor": "LightGrey",
         "gridwidth": 1,
         "showgrid": true,
         "title": {
          "text": "Character Position"
         }
        },
        "yaxis": {
         "autorange": "reversed",
         "tickmode": "array",
         "ticktext": [
          "Seg 0: Introduction to Jeff Atwood...",
          "Seg 1: Motivation of Programmers...",
          "Seg 2: Problem Solving with Data...",
          "Seg 3: Transition to Management...",
          "Seg 4: Qualities of a Good Leader...",
          "Seg 5: Self-Awareness and Feedback...",
          "Seg 6: Communicating Decisions...",
          "Seg 7: Passion for Discourse Project...",
          "Seg 8: Stack Overflow vs. Discourse...",
          "Seg 9: Evolution of Stack Overflow...",
          "Seg 11: Birth of Discourse...",
          "Seg 12: Interest Graph vs. Relationship Graph...",
          "Seg 13: Community Ownership and Feedback...",
          "Seg 14: Building Critical Mass in Communities...",
          "Seg 15: Genesis of Coding Horror Blog...",
          "Seg 16: The Process of Writing...",
          "Seg 17: Decision to Not Sell Blog...",
          "Seg 18: Starting a Software Company...",
          "Seg 19: Tension in Stack Overflow...",
          "Seg 20: Anxiety of Asking Questions...",
          "Seg 21: Duplicate Questions Problem...",
          "Seg 22: Strictness and Programming...",
          "Seg 23: Programmers and Computers...",
          "Seg 24: Evolution of a Programmer...",
          "Seg 25: Learning New Programming Languages...",
          "Seg 26: Importance of Rapid Iteration...",
          "Seg 27: Future of Programming...",
          "Seg 28: Smartphones and AI in Programming...",
          "Seg 29: Unix Philosophy and Programming...",
          "Seg 30: Future of Discourse...",
          "Seg 31: Business Model of Discourse...",
          "Seg 32: Mechanical Keyboards and Passion..."
         ],
         "tickvals": [
          0,
          1,
          2,
          3,
          4,
          5,
          6,
          7,
          8,
          9,
          10,
          11,
          12,
          13,
          14,
          15,
          16,
          17,
          18,
          19,
          20,
          21,
          22,
          23,
          24,
          25,
          26,
          27,
          28,
          29,
          30,
          31
         ],
         "title": {
          "text": "Segment"
         }
        }
       }
      }
     },
     "metadata": {},
     "output_type": "display_data"
    },
    {
     "data": {
      "application/vnd.plotly.v1+json": {
       "config": {
        "plotlyServerURL": "https://plot.ly"
       },
       "data": [
        {
         "hovertemplate": "<b>Introduction and Early Fascination...</b><br>Start: 1<br>End: 51<br>Length: 50<br>Text: The following is a conversation with Eric Schmidt....<br><extra></extra>",
         "marker": {
          "opacity": 0,
          "size": 0.1
         },
         "mode": "markers",
         "showlegend": false,
         "type": "scatter",
         "x": [
          26
         ],
         "y": [
          0
         ]
        },
        {
         "hovertemplate": "<b>Discovering the Beauty of Math...</b><br>Start: 1,161<br>End: 1,789<br>Length: 628<br>Text: You've mentioned yesterday, the eighth grade math ...<br><extra></extra>",
         "marker": {
          "opacity": 0,
          "size": 0.1
         },
         "mode": "markers",
         "showlegend": false,
         "type": "scatter",
         "x": [
          1475
         ],
         "y": [
          1
         ]
        },
        {
         "hovertemplate": "<b>The Impact of Programming...</b><br>Start: 1,843<br>End: 3,334<br>Length: 1,491<br>Text: I think what happens with people like myself is th...<br><extra></extra>",
         "marker": {
          "opacity": 0,
          "size": 0.1
         },
         "mode": "markers",
         "showlegend": false,
         "type": "scatter",
         "x": [
          2588.5
         ],
         "y": [
          2
         ]
        },
        {
         "hovertemplate": "<b>Predicting Technology's Scale...</b><br>Start: 3,335<br>End: 3,962<br>Length: 627<br>Text: So in that moment in the 70s, the inspiring moment...<br><extra></extra>",
         "marker": {
          "opacity": 0,
          "size": 0.1
         },
         "mode": "markers",
         "showlegend": false,
         "type": "scatter",
         "x": [
          3648.5
         ],
         "y": [
          3
         ]
        },
        {
         "hovertemplate": "<b>Scaling to Billions of Users...</b><br>Start: 3,963<br>End: 6,036<br>Length: 2,073<br>Text: I'm sure I could not and would not have gotten it ...<br><extra></extra>",
         "marker": {
          "opacity": 0,
          "size": 0.1
         },
         "mode": "markers",
         "showlegend": false,
         "type": "scatter",
         "x": [
          4999.5
         ],
         "y": [
          4
         ]
        },
        {
         "hovertemplate": "<b>Technology as a Tool...</b><br>Start: 6,037<br>End: 7,115<br>Length: 1,078<br>Text: They're problems that everyone has<br>And by the way...<br><extra></extra>",
         "marker": {
          "opacity": 0,
          "size": 0.1
         },
         "mode": "markers",
         "showlegend": false,
         "type": "scatter",
         "x": [
          6576
         ],
         "y": [
          5
         ]
        },
        {
         "hovertemplate": "<b>The Five-Year Plan...</b><br>Start: 7,116<br>End: 9,021<br>Length: 1,905<br>Text: So as you look to the 70s, but also in the decades...<br><extra></extra>",
         "marker": {
          "opacity": 0,
          "size": 0.1
         },
         "mode": "markers",
         "showlegend": false,
         "type": "scatter",
         "x": [
          8068.5
         ],
         "y": [
          6
         ]
        },
        {
         "hovertemplate": "<b>Dreamers vs. Pragmatists...</b><br>Start: 9,022<br>End: 11,555<br>Length: 2,533<br>Text: So you've spoken about the importance<br>You just ta...<br><extra></extra>",
         "marker": {
          "opacity": 0,
          "size": 0.1
         },
         "mode": "markers",
         "showlegend": false,
         "type": "scatter",
         "x": [
          10288.5
         ],
         "y": [
          7
         ]
        },
        {
         "hovertemplate": "<b>Google's Innovation Strategy...</b><br>Start: 11,556<br>End: 14,444<br>Length: 2,888<br>Text: And you've been amazingly honest about, in an insp...<br><extra></extra>",
         "marker": {
          "opacity": 0,
          "size": 0.1
         },
         "mode": "markers",
         "showlegend": false,
         "type": "scatter",
         "x": [
          13000
         ],
         "y": [
          8
         ]
        },
        {
         "hovertemplate": "<b>AI: Hype vs. Reality...</b><br>Start: 14,445<br>End: 15,938<br>Length: 1,493<br>Text: And it turns out he was right<br>So getting into the...<br><extra></extra>",
         "marker": {
          "opacity": 0,
          "size": 0.1
         },
         "mode": "markers",
         "showlegend": false,
         "type": "scatter",
         "x": [
          15191.5
         ],
         "y": [
          9
         ]
        },
        {
         "hovertemplate": "<b>AI's Near-Term Benefits...</b><br>Start: 15,939<br>End: 17,731<br>Length: 1,792<br>Text: So I'm not concerned about that<br>And much of this ...<br><extra></extra>",
         "marker": {
          "opacity": 0,
          "size": 0.1
         },
         "mode": "markers",
         "showlegend": false,
         "type": "scatter",
         "x": [
          16835
         ],
         "y": [
          10
         ]
        },
        {
         "hovertemplate": "<b>Long-Term Predictions and Humanity...</b><br>Start: 17,732<br>End: 20,366<br>Length: 2,634<br>Text: There are people who are working on AI safety, whi...<br><extra></extra>",
         "marker": {
          "opacity": 0,
          "size": 0.1
         },
         "mode": "markers",
         "showlegend": false,
         "type": "scatter",
         "x": [
          19049
         ],
         "y": [
          11
         ]
        },
        {
         "hovertemplate": "<b>Leadership Styles in Tech...</b><br>Start: 20,367<br>End: 23,934<br>Length: 3,567<br>Text: Which is pretty exciting<br>Well past the 21st centu...<br><extra></extra>",
         "marker": {
          "opacity": 0,
          "size": 0.1
         },
         "mode": "markers",
         "showlegend": false,
         "type": "scatter",
         "x": [
          22150.5
         ],
         "y": [
          12
         ]
        },
        {
         "hovertemplate": "<b>The Entrepreneurial Journey...</b><br>Start: 23,935<br>End: 27,184<br>Length: 3,249<br>Text: So, when faced with a tough decision, in need of a...<br><extra></extra>",
         "marker": {
          "opacity": 0,
          "size": 0.1
         },
         "mode": "markers",
         "showlegend": false,
         "type": "scatter",
         "x": [
          25559.5
         ],
         "y": [
          13
         ]
        },
        {
         "hovertemplate": "<b>The Meaning of Success...</b><br>Start: 27,185<br>End: 30,433<br>Length: 3,248<br>Text: And the psychology of that moment<br>So when Sergey ...<br><extra></extra>",
         "marker": {
          "opacity": 0,
          "size": 0.1
         },
         "mode": "markers",
         "showlegend": false,
         "type": "scatter",
         "x": [
          28809
         ],
         "y": [
          14
         ]
        }
       ],
       "layout": {
        "annotations": [
         {
          "bgcolor": "rgba(255,255,255,0.3)",
          "borderpad": 4,
          "font": {
           "color": "black",
           "family": "Arial Black",
           "size": 12
          },
          "showarrow": false,
          "text": "0",
          "x": 26,
          "y": 0
         },
         {
          "bgcolor": "rgba(255,255,255,0.3)",
          "borderpad": 4,
          "font": {
           "color": "black",
           "family": "Arial Black",
           "size": 12
          },
          "showarrow": false,
          "text": "1",
          "x": 1475,
          "y": 1
         },
         {
          "bgcolor": "rgba(255,255,255,0.3)",
          "borderpad": 4,
          "font": {
           "color": "black",
           "family": "Arial Black",
           "size": 12
          },
          "showarrow": false,
          "text": "2",
          "x": 2588.5,
          "y": 2
         },
         {
          "bgcolor": "rgba(255,255,255,0.3)",
          "borderpad": 4,
          "font": {
           "color": "black",
           "family": "Arial Black",
           "size": 12
          },
          "showarrow": false,
          "text": "3",
          "x": 3648.5,
          "y": 3
         },
         {
          "bgcolor": "rgba(255,255,255,0.3)",
          "borderpad": 4,
          "font": {
           "color": "black",
           "family": "Arial Black",
           "size": 12
          },
          "showarrow": false,
          "text": "4",
          "x": 4999.5,
          "y": 4
         },
         {
          "bgcolor": "rgba(255,255,255,0.3)",
          "borderpad": 4,
          "font": {
           "color": "black",
           "family": "Arial Black",
           "size": 12
          },
          "showarrow": false,
          "text": "5",
          "x": 6576,
          "y": 5
         },
         {
          "bgcolor": "rgba(255,255,255,0.3)",
          "borderpad": 4,
          "font": {
           "color": "black",
           "family": "Arial Black",
           "size": 12
          },
          "showarrow": false,
          "text": "6",
          "x": 8068.5,
          "y": 6
         },
         {
          "bgcolor": "rgba(255,255,255,0.3)",
          "borderpad": 4,
          "font": {
           "color": "black",
           "family": "Arial Black",
           "size": 12
          },
          "showarrow": false,
          "text": "7",
          "x": 10288.5,
          "y": 7
         },
         {
          "bgcolor": "rgba(255,255,255,0.3)",
          "borderpad": 4,
          "font": {
           "color": "black",
           "family": "Arial Black",
           "size": 12
          },
          "showarrow": false,
          "text": "8",
          "x": 13000,
          "y": 8
         },
         {
          "bgcolor": "rgba(255,255,255,0.3)",
          "borderpad": 4,
          "font": {
           "color": "black",
           "family": "Arial Black",
           "size": 12
          },
          "showarrow": false,
          "text": "9",
          "x": 15191.5,
          "y": 9
         },
         {
          "bgcolor": "rgba(255,255,255,0.3)",
          "borderpad": 4,
          "font": {
           "color": "black",
           "family": "Arial Black",
           "size": 12
          },
          "showarrow": false,
          "text": "10",
          "x": 16835,
          "y": 10
         },
         {
          "bgcolor": "rgba(255,255,255,0.3)",
          "borderpad": 4,
          "font": {
           "color": "black",
           "family": "Arial Black",
           "size": 12
          },
          "showarrow": false,
          "text": "11",
          "x": 19049,
          "y": 11
         },
         {
          "bgcolor": "rgba(255,255,255,0.3)",
          "borderpad": 4,
          "font": {
           "color": "black",
           "family": "Arial Black",
           "size": 12
          },
          "showarrow": false,
          "text": "12",
          "x": 22150.5,
          "y": 12
         },
         {
          "bgcolor": "rgba(255,255,255,0.3)",
          "borderpad": 4,
          "font": {
           "color": "black",
           "family": "Arial Black",
           "size": 12
          },
          "showarrow": false,
          "text": "13",
          "x": 25559.5,
          "y": 13
         },
         {
          "bgcolor": "rgba(255,255,255,0.3)",
          "borderpad": 4,
          "font": {
           "color": "black",
           "family": "Arial Black",
           "size": 12
          },
          "showarrow": false,
          "text": "14",
          "x": 28809,
          "y": 14
         }
        ],
        "height": 1200,
        "hovermode": "closest",
        "shapes": [
         {
          "fillcolor": "hsl(0.0, 70%, 50%)",
          "line": {
           "color": "black",
           "width": 1
          },
          "opacity": 0.8,
          "type": "rect",
          "x0": 1,
          "x1": 51,
          "y0": -0.3,
          "y1": 0.3
         },
         {
          "fillcolor": "hsl(24.0, 70%, 50%)",
          "line": {
           "color": "black",
           "width": 1
          },
          "opacity": 0.8,
          "type": "rect",
          "x0": 1161,
          "x1": 1789,
          "y0": 0.7,
          "y1": 1.3
         },
         {
          "fillcolor": "hsl(48.0, 70%, 50%)",
          "line": {
           "color": "black",
           "width": 1
          },
          "opacity": 0.8,
          "type": "rect",
          "x0": 1843,
          "x1": 3334,
          "y0": 1.7,
          "y1": 2.3
         },
         {
          "fillcolor": "hsl(72.0, 70%, 50%)",
          "line": {
           "color": "black",
           "width": 1
          },
          "opacity": 0.8,
          "type": "rect",
          "x0": 3335,
          "x1": 3962,
          "y0": 2.7,
          "y1": 3.3
         },
         {
          "fillcolor": "hsl(96.0, 70%, 50%)",
          "line": {
           "color": "black",
           "width": 1
          },
          "opacity": 0.8,
          "type": "rect",
          "x0": 3963,
          "x1": 6036,
          "y0": 3.7,
          "y1": 4.3
         },
         {
          "fillcolor": "hsl(120.0, 70%, 50%)",
          "line": {
           "color": "black",
           "width": 1
          },
          "opacity": 0.8,
          "type": "rect",
          "x0": 6037,
          "x1": 7115,
          "y0": 4.7,
          "y1": 5.3
         },
         {
          "fillcolor": "hsl(144.0, 70%, 50%)",
          "line": {
           "color": "black",
           "width": 1
          },
          "opacity": 0.8,
          "type": "rect",
          "x0": 7116,
          "x1": 9021,
          "y0": 5.7,
          "y1": 6.3
         },
         {
          "fillcolor": "hsl(168.0, 70%, 50%)",
          "line": {
           "color": "black",
           "width": 1
          },
          "opacity": 0.8,
          "type": "rect",
          "x0": 9022,
          "x1": 11555,
          "y0": 6.7,
          "y1": 7.3
         },
         {
          "fillcolor": "hsl(192.0, 70%, 50%)",
          "line": {
           "color": "black",
           "width": 1
          },
          "opacity": 0.8,
          "type": "rect",
          "x0": 11556,
          "x1": 14444,
          "y0": 7.7,
          "y1": 8.3
         },
         {
          "fillcolor": "hsl(216.0, 70%, 50%)",
          "line": {
           "color": "black",
           "width": 1
          },
          "opacity": 0.8,
          "type": "rect",
          "x0": 14445,
          "x1": 15938,
          "y0": 8.7,
          "y1": 9.3
         },
         {
          "fillcolor": "hsl(240.0, 70%, 50%)",
          "line": {
           "color": "black",
           "width": 1
          },
          "opacity": 0.8,
          "type": "rect",
          "x0": 15939,
          "x1": 17731,
          "y0": 9.7,
          "y1": 10.3
         },
         {
          "fillcolor": "hsl(264.0, 70%, 50%)",
          "line": {
           "color": "black",
           "width": 1
          },
          "opacity": 0.8,
          "type": "rect",
          "x0": 17732,
          "x1": 20366,
          "y0": 10.7,
          "y1": 11.3
         },
         {
          "fillcolor": "hsl(288.0, 70%, 50%)",
          "line": {
           "color": "black",
           "width": 1
          },
          "opacity": 0.8,
          "type": "rect",
          "x0": 20367,
          "x1": 23934,
          "y0": 11.7,
          "y1": 12.3
         },
         {
          "fillcolor": "hsl(312.0, 70%, 50%)",
          "line": {
           "color": "black",
           "width": 1
          },
          "opacity": 0.8,
          "type": "rect",
          "x0": 23935,
          "x1": 27184,
          "y0": 12.7,
          "y1": 13.3
         },
         {
          "fillcolor": "hsl(336.0, 70%, 50%)",
          "line": {
           "color": "black",
           "width": 1
          },
          "opacity": 0.8,
          "type": "rect",
          "x0": 27185,
          "x1": 30433,
          "y0": 13.7,
          "y1": 14.3
         }
        ],
        "showlegend": false,
        "template": {
         "data": {
          "bar": [
           {
            "error_x": {
             "color": "#2a3f5f"
            },
            "error_y": {
             "color": "#2a3f5f"
            },
            "marker": {
             "line": {
              "color": "#E5ECF6",
              "width": 0.5
             },
             "pattern": {
              "fillmode": "overlay",
              "size": 10,
              "solidity": 0.2
             }
            },
            "type": "bar"
           }
          ],
          "barpolar": [
           {
            "marker": {
             "line": {
              "color": "#E5ECF6",
              "width": 0.5
             },
             "pattern": {
              "fillmode": "overlay",
              "size": 10,
              "solidity": 0.2
             }
            },
            "type": "barpolar"
           }
          ],
          "carpet": [
           {
            "aaxis": {
             "endlinecolor": "#2a3f5f",
             "gridcolor": "white",
             "linecolor": "white",
             "minorgridcolor": "white",
             "startlinecolor": "#2a3f5f"
            },
            "baxis": {
             "endlinecolor": "#2a3f5f",
             "gridcolor": "white",
             "linecolor": "white",
             "minorgridcolor": "white",
             "startlinecolor": "#2a3f5f"
            },
            "type": "carpet"
           }
          ],
          "choropleth": [
           {
            "colorbar": {
             "outlinewidth": 0,
             "ticks": ""
            },
            "type": "choropleth"
           }
          ],
          "contour": [
           {
            "colorbar": {
             "outlinewidth": 0,
             "ticks": ""
            },
            "colorscale": [
             [
              0,
              "#0d0887"
             ],
             [
              0.1111111111111111,
              "#46039f"
             ],
             [
              0.2222222222222222,
              "#7201a8"
             ],
             [
              0.3333333333333333,
              "#9c179e"
             ],
             [
              0.4444444444444444,
              "#bd3786"
             ],
             [
              0.5555555555555556,
              "#d8576b"
             ],
             [
              0.6666666666666666,
              "#ed7953"
             ],
             [
              0.7777777777777778,
              "#fb9f3a"
             ],
             [
              0.8888888888888888,
              "#fdca26"
             ],
             [
              1,
              "#f0f921"
             ]
            ],
            "type": "contour"
           }
          ],
          "contourcarpet": [
           {
            "colorbar": {
             "outlinewidth": 0,
             "ticks": ""
            },
            "type": "contourcarpet"
           }
          ],
          "heatmap": [
           {
            "colorbar": {
             "outlinewidth": 0,
             "ticks": ""
            },
            "colorscale": [
             [
              0,
              "#0d0887"
             ],
             [
              0.1111111111111111,
              "#46039f"
             ],
             [
              0.2222222222222222,
              "#7201a8"
             ],
             [
              0.3333333333333333,
              "#9c179e"
             ],
             [
              0.4444444444444444,
              "#bd3786"
             ],
             [
              0.5555555555555556,
              "#d8576b"
             ],
             [
              0.6666666666666666,
              "#ed7953"
             ],
             [
              0.7777777777777778,
              "#fb9f3a"
             ],
             [
              0.8888888888888888,
              "#fdca26"
             ],
             [
              1,
              "#f0f921"
             ]
            ],
            "type": "heatmap"
           }
          ],
          "heatmapgl": [
           {
            "colorbar": {
             "outlinewidth": 0,
             "ticks": ""
            },
            "colorscale": [
             [
              0,
              "#0d0887"
             ],
             [
              0.1111111111111111,
              "#46039f"
             ],
             [
              0.2222222222222222,
              "#7201a8"
             ],
             [
              0.3333333333333333,
              "#9c179e"
             ],
             [
              0.4444444444444444,
              "#bd3786"
             ],
             [
              0.5555555555555556,
              "#d8576b"
             ],
             [
              0.6666666666666666,
              "#ed7953"
             ],
             [
              0.7777777777777778,
              "#fb9f3a"
             ],
             [
              0.8888888888888888,
              "#fdca26"
             ],
             [
              1,
              "#f0f921"
             ]
            ],
            "type": "heatmapgl"
           }
          ],
          "histogram": [
           {
            "marker": {
             "pattern": {
              "fillmode": "overlay",
              "size": 10,
              "solidity": 0.2
             }
            },
            "type": "histogram"
           }
          ],
          "histogram2d": [
           {
            "colorbar": {
             "outlinewidth": 0,
             "ticks": ""
            },
            "colorscale": [
             [
              0,
              "#0d0887"
             ],
             [
              0.1111111111111111,
              "#46039f"
             ],
             [
              0.2222222222222222,
              "#7201a8"
             ],
             [
              0.3333333333333333,
              "#9c179e"
             ],
             [
              0.4444444444444444,
              "#bd3786"
             ],
             [
              0.5555555555555556,
              "#d8576b"
             ],
             [
              0.6666666666666666,
              "#ed7953"
             ],
             [
              0.7777777777777778,
              "#fb9f3a"
             ],
             [
              0.8888888888888888,
              "#fdca26"
             ],
             [
              1,
              "#f0f921"
             ]
            ],
            "type": "histogram2d"
           }
          ],
          "histogram2dcontour": [
           {
            "colorbar": {
             "outlinewidth": 0,
             "ticks": ""
            },
            "colorscale": [
             [
              0,
              "#0d0887"
             ],
             [
              0.1111111111111111,
              "#46039f"
             ],
             [
              0.2222222222222222,
              "#7201a8"
             ],
             [
              0.3333333333333333,
              "#9c179e"
             ],
             [
              0.4444444444444444,
              "#bd3786"
             ],
             [
              0.5555555555555556,
              "#d8576b"
             ],
             [
              0.6666666666666666,
              "#ed7953"
             ],
             [
              0.7777777777777778,
              "#fb9f3a"
             ],
             [
              0.8888888888888888,
              "#fdca26"
             ],
             [
              1,
              "#f0f921"
             ]
            ],
            "type": "histogram2dcontour"
           }
          ],
          "mesh3d": [
           {
            "colorbar": {
             "outlinewidth": 0,
             "ticks": ""
            },
            "type": "mesh3d"
           }
          ],
          "parcoords": [
           {
            "line": {
             "colorbar": {
              "outlinewidth": 0,
              "ticks": ""
             }
            },
            "type": "parcoords"
           }
          ],
          "pie": [
           {
            "automargin": true,
            "type": "pie"
           }
          ],
          "scatter": [
           {
            "fillpattern": {
             "fillmode": "overlay",
             "size": 10,
             "solidity": 0.2
            },
            "type": "scatter"
           }
          ],
          "scatter3d": [
           {
            "line": {
             "colorbar": {
              "outlinewidth": 0,
              "ticks": ""
             }
            },
            "marker": {
             "colorbar": {
              "outlinewidth": 0,
              "ticks": ""
             }
            },
            "type": "scatter3d"
           }
          ],
          "scattercarpet": [
           {
            "marker": {
             "colorbar": {
              "outlinewidth": 0,
              "ticks": ""
             }
            },
            "type": "scattercarpet"
           }
          ],
          "scattergeo": [
           {
            "marker": {
             "colorbar": {
              "outlinewidth": 0,
              "ticks": ""
             }
            },
            "type": "scattergeo"
           }
          ],
          "scattergl": [
           {
            "marker": {
             "colorbar": {
              "outlinewidth": 0,
              "ticks": ""
             }
            },
            "type": "scattergl"
           }
          ],
          "scattermapbox": [
           {
            "marker": {
             "colorbar": {
              "outlinewidth": 0,
              "ticks": ""
             }
            },
            "type": "scattermapbox"
           }
          ],
          "scatterpolar": [
           {
            "marker": {
             "colorbar": {
              "outlinewidth": 0,
              "ticks": ""
             }
            },
            "type": "scatterpolar"
           }
          ],
          "scatterpolargl": [
           {
            "marker": {
             "colorbar": {
              "outlinewidth": 0,
              "ticks": ""
             }
            },
            "type": "scatterpolargl"
           }
          ],
          "scatterternary": [
           {
            "marker": {
             "colorbar": {
              "outlinewidth": 0,
              "ticks": ""
             }
            },
            "type": "scatterternary"
           }
          ],
          "surface": [
           {
            "colorbar": {
             "outlinewidth": 0,
             "ticks": ""
            },
            "colorscale": [
             [
              0,
              "#0d0887"
             ],
             [
              0.1111111111111111,
              "#46039f"
             ],
             [
              0.2222222222222222,
              "#7201a8"
             ],
             [
              0.3333333333333333,
              "#9c179e"
             ],
             [
              0.4444444444444444,
              "#bd3786"
             ],
             [
              0.5555555555555556,
              "#d8576b"
             ],
             [
              0.6666666666666666,
              "#ed7953"
             ],
             [
              0.7777777777777778,
              "#fb9f3a"
             ],
             [
              0.8888888888888888,
              "#fdca26"
             ],
             [
              1,
              "#f0f921"
             ]
            ],
            "type": "surface"
           }
          ],
          "table": [
           {
            "cells": {
             "fill": {
              "color": "#EBF0F8"
             },
             "line": {
              "color": "white"
             }
            },
            "header": {
             "fill": {
              "color": "#C8D4E3"
             },
             "line": {
              "color": "white"
             }
            },
            "type": "table"
           }
          ]
         },
         "layout": {
          "annotationdefaults": {
           "arrowcolor": "#2a3f5f",
           "arrowhead": 0,
           "arrowwidth": 1
          },
          "autotypenumbers": "strict",
          "coloraxis": {
           "colorbar": {
            "outlinewidth": 0,
            "ticks": ""
           }
          },
          "colorscale": {
           "diverging": [
            [
             0,
             "#8e0152"
            ],
            [
             0.1,
             "#c51b7d"
            ],
            [
             0.2,
             "#de77ae"
            ],
            [
             0.3,
             "#f1b6da"
            ],
            [
             0.4,
             "#fde0ef"
            ],
            [
             0.5,
             "#f7f7f7"
            ],
            [
             0.6,
             "#e6f5d0"
            ],
            [
             0.7,
             "#b8e186"
            ],
            [
             0.8,
             "#7fbc41"
            ],
            [
             0.9,
             "#4d9221"
            ],
            [
             1,
             "#276419"
            ]
           ],
           "sequential": [
            [
             0,
             "#0d0887"
            ],
            [
             0.1111111111111111,
             "#46039f"
            ],
            [
             0.2222222222222222,
             "#7201a8"
            ],
            [
             0.3333333333333333,
             "#9c179e"
            ],
            [
             0.4444444444444444,
             "#bd3786"
            ],
            [
             0.5555555555555556,
             "#d8576b"
            ],
            [
             0.6666666666666666,
             "#ed7953"
            ],
            [
             0.7777777777777778,
             "#fb9f3a"
            ],
            [
             0.8888888888888888,
             "#fdca26"
            ],
            [
             1,
             "#f0f921"
            ]
           ],
           "sequentialminus": [
            [
             0,
             "#0d0887"
            ],
            [
             0.1111111111111111,
             "#46039f"
            ],
            [
             0.2222222222222222,
             "#7201a8"
            ],
            [
             0.3333333333333333,
             "#9c179e"
            ],
            [
             0.4444444444444444,
             "#bd3786"
            ],
            [
             0.5555555555555556,
             "#d8576b"
            ],
            [
             0.6666666666666666,
             "#ed7953"
            ],
            [
             0.7777777777777778,
             "#fb9f3a"
            ],
            [
             0.8888888888888888,
             "#fdca26"
            ],
            [
             1,
             "#f0f921"
            ]
           ]
          },
          "colorway": [
           "#636efa",
           "#EF553B",
           "#00cc96",
           "#ab63fa",
           "#FFA15A",
           "#19d3f3",
           "#FF6692",
           "#B6E880",
           "#FF97FF",
           "#FECB52"
          ],
          "font": {
           "color": "#2a3f5f"
          },
          "geo": {
           "bgcolor": "white",
           "lakecolor": "white",
           "landcolor": "#E5ECF6",
           "showlakes": true,
           "showland": true,
           "subunitcolor": "white"
          },
          "hoverlabel": {
           "align": "left"
          },
          "hovermode": "closest",
          "mapbox": {
           "style": "light"
          },
          "paper_bgcolor": "white",
          "plot_bgcolor": "#E5ECF6",
          "polar": {
           "angularaxis": {
            "gridcolor": "white",
            "linecolor": "white",
            "ticks": ""
           },
           "bgcolor": "#E5ECF6",
           "radialaxis": {
            "gridcolor": "white",
            "linecolor": "white",
            "ticks": ""
           }
          },
          "scene": {
           "xaxis": {
            "backgroundcolor": "#E5ECF6",
            "gridcolor": "white",
            "gridwidth": 2,
            "linecolor": "white",
            "showbackground": true,
            "ticks": "",
            "zerolinecolor": "white"
           },
           "yaxis": {
            "backgroundcolor": "#E5ECF6",
            "gridcolor": "white",
            "gridwidth": 2,
            "linecolor": "white",
            "showbackground": true,
            "ticks": "",
            "zerolinecolor": "white"
           },
           "zaxis": {
            "backgroundcolor": "#E5ECF6",
            "gridcolor": "white",
            "gridwidth": 2,
            "linecolor": "white",
            "showbackground": true,
            "ticks": "",
            "zerolinecolor": "white"
           }
          },
          "shapedefaults": {
           "line": {
            "color": "#2a3f5f"
           }
          },
          "ternary": {
           "aaxis": {
            "gridcolor": "white",
            "linecolor": "white",
            "ticks": ""
           },
           "baxis": {
            "gridcolor": "white",
            "linecolor": "white",
            "ticks": ""
           },
           "bgcolor": "#E5ECF6",
           "caxis": {
            "gridcolor": "white",
            "linecolor": "white",
            "ticks": ""
           }
          },
          "title": {
           "x": 0.05
          },
          "xaxis": {
           "automargin": true,
           "gridcolor": "white",
           "linecolor": "white",
           "ticks": "",
           "title": {
            "standoff": 15
           },
           "zerolinecolor": "white",
           "zerolinewidth": 2
          },
          "yaxis": {
           "automargin": true,
           "gridcolor": "white",
           "linecolor": "white",
           "ticks": "",
           "title": {
            "standoff": 15
           },
           "zerolinecolor": "white",
           "zerolinewidth": 2
          }
         }
        },
        "title": {
         "text": "Episode Segments Timeline - Character Positions \n /Users/aneteyabbey/ai/multimedia_analysis/dataset/segmented/lex_fridman/episode_7.json"
        },
        "xaxis": {
         "gridcolor": "LightGrey",
         "gridwidth": 1,
         "showgrid": true,
         "title": {
          "text": "Character Position"
         }
        },
        "yaxis": {
         "autorange": "reversed",
         "tickmode": "array",
         "ticktext": [
          "Seg 0: Introduction and Early Fascination...",
          "Seg 1: Discovering the Beauty of Math...",
          "Seg 2: The Impact of Programming...",
          "Seg 3: Predicting Technology's Scale...",
          "Seg 4: Scaling to Billions of Users...",
          "Seg 5: Technology as a Tool...",
          "Seg 6: The Five-Year Plan...",
          "Seg 7: Dreamers vs. Pragmatists...",
          "Seg 8: Google's Innovation Strategy...",
          "Seg 9: AI: Hype vs. Reality...",
          "Seg 10: AI's Near-Term Benefits...",
          "Seg 11: Long-Term Predictions and Humanity...",
          "Seg 12: Leadership Styles in Tech...",
          "Seg 13: The Entrepreneurial Journey...",
          "Seg 14: The Meaning of Success..."
         ],
         "tickvals": [
          0,
          1,
          2,
          3,
          4,
          5,
          6,
          7,
          8,
          9,
          10,
          11,
          12,
          13,
          14
         ],
         "title": {
          "text": "Segment"
         }
        }
       }
      }
     },
     "metadata": {},
     "output_type": "display_data"
    },
    {
     "data": {
      "application/vnd.plotly.v1+json": {
       "config": {
        "plotlyServerURL": "https://plot.ly"
       },
       "data": [
        {
         "hovertemplate": "<b>Early AI Chess Programs...</b><br>Start: 620<br>End: 1,356<br>Length: 736<br>Text: So you've mentioned in 1975 in high school, you've...<br><extra></extra>",
         "marker": {
          "opacity": 0,
          "size": 0.1
         },
         "mode": "markers",
         "showlegend": false,
         "type": "scatter",
         "x": [
          988
         ],
         "y": [
          0
         ]
        },
        {
         "hovertemplate": "<b>Meta-Reasoning in Game AI...</b><br>Start: 1,752<br>End: 3,266<br>Length: 1,514<br>Text: So when I got to Berkeley, I worked a lot on what ...<br><extra></extra>",
         "marker": {
          "opacity": 0,
          "size": 0.1
         },
         "mode": "markers",
         "showlegend": false,
         "type": "scatter",
         "x": [
          2509
         ],
         "y": [
          1
         ]
        },
        {
         "hovertemplate": "<b>AlphaGo's Intuition and Search...</b><br>Start: 3,406<br>End: 7,086<br>Length: 3,680<br>Text: Is there any insights you can describe without Gre...<br><extra></extra>",
         "marker": {
          "opacity": 0,
          "size": 0.1
         },
         "mode": "markers",
         "showlegend": false,
         "type": "scatter",
         "x": [
          5246
         ],
         "y": [
          2
         ]
        },
        {
         "hovertemplate": "<b>Human vs. AI Intuition...</b><br>Start: 7,087<br>End: 9,121<br>Length: 2,034<br>Text: Yeah, so the early parts of the search tree are fa...<br><extra></extra>",
         "marker": {
          "opacity": 0,
          "size": 0.1
         },
         "mode": "markers",
         "showlegend": false,
         "type": "scatter",
         "x": [
          8104
         ],
         "y": [
          3
         ]
        },
        {
         "hovertemplate": "<b>The Excitement of AI Creation...</b><br>Start: 9,122<br>End: 11,315<br>Length: 2,193<br>Text: Yeah, so I think what happens is you get a sense t...<br><extra></extra>",
         "marker": {
          "opacity": 0,
          "size": 0.1
         },
         "mode": "markers",
         "showlegend": false,
         "type": "scatter",
         "x": [
          10218.5
         ],
         "y": [
          4
         ]
        },
        {
         "hovertemplate": "<b>AI Progress and Real-World Challenges...</b><br>Start: 11,316<br>End: 14,046<br>Length: 2,730<br>Text: You know, I started out with the first program I w...<br><extra></extra>",
         "marker": {
          "opacity": 0,
          "size": 0.1
         },
         "mode": "markers",
         "showlegend": false,
         "type": "scatter",
         "x": [
          12681
         ],
         "y": [
          5
         ]
        },
        {
         "hovertemplate": "<b>Lessons from AI Winters...</b><br>Start: 14,047<br>End: 18,806<br>Length: 4,759<br>Text: So the way I started in AI, I wanted to be a psych...<br><extra></extra>",
         "marker": {
          "opacity": 0,
          "size": 0.1
         },
         "mode": "markers",
         "showlegend": false,
         "type": "scatter",
         "x": [
          16426.5
         ],
         "y": [
          6
         ]
        },
        {
         "hovertemplate": "<b>Challenges in Self-Driving Cars...</b><br>Start: 18,807<br>End: 21,299<br>Length: 2,492<br>Text: What have you learned from that hype cycle and wha...<br><extra></extra>",
         "marker": {
          "opacity": 0,
          "size": 0.1
         },
         "mode": "markers",
         "showlegend": false,
         "type": "scatter",
         "x": [
          20053
         ],
         "y": [
          7
         ]
        },
        {
         "hovertemplate": "<b>AI and Human Interaction...</b><br>Start: 21,300<br>End: 26,755<br>Length: 5,455<br>Text: The edge case, other drivers doing weird things<br>S...<br><extra></extra>",
         "marker": {
          "opacity": 0,
          "size": 0.1
         },
         "mode": "markers",
         "showlegend": false,
         "type": "scatter",
         "x": [
          24027.5
         ],
         "y": [
          8
         ]
        },
        {
         "hovertemplate": "<b>The Desire for Superintelligence...</b><br>Start: 26,862<br>End: 27,440<br>Length: 578<br>Text: That's really interesting<br>So let me one just step...<br><extra></extra>",
         "marker": {
          "opacity": 0,
          "size": 0.1
         },
         "mode": "markers",
         "showlegend": false,
         "type": "scatter",
         "x": [
          27151
         ],
         "y": [
          9
         ]
        },
        {
         "hovertemplate": "<b>The AI Control Problem...</b><br>Start: 27,441<br>End: 31,524<br>Length: 4,083<br>Text: Maybe<br>I mean, you know, we're all individuals, bu...<br><extra></extra>",
         "marker": {
          "opacity": 0,
          "size": 0.1
         },
         "mode": "markers",
         "showlegend": false,
         "type": "scatter",
         "x": [
          29482.5
         ],
         "y": [
          10
         ]
        },
        {
         "hovertemplate": "<b>Uncertainty in AI Objectives...</b><br>Start: 31,525<br>End: 34,647<br>Length: 3,122<br>Text: Because if the King Midas put in this objective, e...<br><extra></extra>",
         "marker": {
          "opacity": 0,
          "size": 0.1
         },
         "mode": "markers",
         "showlegend": false,
         "type": "scatter",
         "x": [
          33086
         ],
         "y": [
          11
         ]
        },
        {
         "hovertemplate": "<b>AI and Societal Impact...</b><br>Start: 34,648<br>End: 38,468<br>Length: 3,820<br>Text: Favorite idea of yours<br>I've heard you say somewhe...<br><extra></extra>",
         "marker": {
          "opacity": 0,
          "size": 0.1
         },
         "mode": "markers",
         "showlegend": false,
         "type": "scatter",
         "x": [
          36558
         ],
         "y": [
          12
         ]
        },
        {
         "hovertemplate": "<b>Regulation of AI Algorithms...</b><br>Start: 38,469<br>End: 48,369<br>Length: 9,900<br>Text: Do you find appealing the idea of almost arguing m...<br><extra></extra>",
         "marker": {
          "opacity": 0,
          "size": 0.1
         },
         "mode": "markers",
         "showlegend": false,
         "type": "scatter",
         "x": [
          43419
         ],
         "y": [
          13
         ]
        },
        {
         "hovertemplate": "<b>Historical Parallels: Nuclear Weapons...</b><br>Start: 48,370<br>End: 52,557<br>Length: 4,187<br>Text: And let me just try to make not an argument, but t...<br><extra></extra>",
         "marker": {
          "opacity": 0,
          "size": 0.1
         },
         "mode": "markers",
         "showlegend": false,
         "type": "scatter",
         "x": [
          50463.5
         ],
         "y": [
          14
         ]
        },
        {
         "hovertemplate": "<b>AI Community's Denial...</b><br>Start: 52,558<br>End: 57,802<br>Length: 5,244<br>Text: So the reason why we couldn't have any kind of ove...<br><extra></extra>",
         "marker": {
          "opacity": 0,
          "size": 0.1
         },
         "mode": "markers",
         "showlegend": false,
         "type": "scatter",
         "x": [
          55180
         ],
         "y": [
          15
         ]
        },
        {
         "hovertemplate": "<b>AI Misuse and Overuse...</b><br>Start: 57,803<br>End: 60,317<br>Length: 2,514<br>Text: Right<br>And now because people are worried that may...<br><extra></extra>",
         "marker": {
          "opacity": 0,
          "size": 0.1
         },
         "mode": "markers",
         "showlegend": false,
         "type": "scatter",
         "x": [
          59060
         ],
         "y": [
          16
         ]
        },
        {
         "hovertemplate": "<b>The WALL-E Problem...</b><br>Start: 60,318<br>End: 62,041<br>Length: 1,723<br>Text: So that's one problem, which is sort of a, you kno...<br><extra></extra>",
         "marker": {
          "opacity": 0,
          "size": 0.1
         },
         "mode": "markers",
         "showlegend": false,
         "type": "scatter",
         "x": [
          61179.5
         ],
         "y": [
          17
         ]
        },
        {
         "hovertemplate": "<b>The Burden of AI Safety...</b><br>Start: 62,042<br>End: 65,053<br>Length: 3,011<br>Text: And of course, AI is just one of the technologies ...<br><extra></extra>",
         "marker": {
          "opacity": 0,
          "size": 0.1
         },
         "mode": "markers",
         "showlegend": false,
         "type": "scatter",
         "x": [
          63547.5
         ],
         "y": [
          18
         ]
        },
        {
         "hovertemplate": "<b>Provably Beneficial AI...</b><br>Start: 65,054<br>End: 67,570<br>Length: 2,516<br>Text: Yeah<br>So there's very few people that represent ar...<br><extra></extra>",
         "marker": {
          "opacity": 0,
          "size": 0.1
         },
         "mode": "markers",
         "showlegend": false,
         "type": "scatter",
         "x": [
          66312
         ],
         "y": [
          19
         ]
        },
        {
         "hovertemplate": "<b>Favorite Sci-Fi AI Movies...</b><br>Start: 67,571<br>End: 68,515<br>Length: 944<br>Text: And so you should think of it this way<br>And in get...<br><extra></extra>",
         "marker": {
          "opacity": 0,
          "size": 0.1
         },
         "mode": "markers",
         "showlegend": false,
         "type": "scatter",
         "x": [
          68043
         ],
         "y": [
          20
         ]
        }
       ],
       "layout": {
        "annotations": [
         {
          "bgcolor": "rgba(255,255,255,0.3)",
          "borderpad": 4,
          "font": {
           "color": "black",
           "family": "Arial Black",
           "size": 12
          },
          "showarrow": false,
          "text": "0",
          "x": 988,
          "y": 0
         },
         {
          "bgcolor": "rgba(255,255,255,0.3)",
          "borderpad": 4,
          "font": {
           "color": "black",
           "family": "Arial Black",
           "size": 12
          },
          "showarrow": false,
          "text": "1",
          "x": 2509,
          "y": 1
         },
         {
          "bgcolor": "rgba(255,255,255,0.3)",
          "borderpad": 4,
          "font": {
           "color": "black",
           "family": "Arial Black",
           "size": 12
          },
          "showarrow": false,
          "text": "2",
          "x": 5246,
          "y": 2
         },
         {
          "bgcolor": "rgba(255,255,255,0.3)",
          "borderpad": 4,
          "font": {
           "color": "black",
           "family": "Arial Black",
           "size": 12
          },
          "showarrow": false,
          "text": "3",
          "x": 8104,
          "y": 3
         },
         {
          "bgcolor": "rgba(255,255,255,0.3)",
          "borderpad": 4,
          "font": {
           "color": "black",
           "family": "Arial Black",
           "size": 12
          },
          "showarrow": false,
          "text": "4",
          "x": 10218.5,
          "y": 4
         },
         {
          "bgcolor": "rgba(255,255,255,0.3)",
          "borderpad": 4,
          "font": {
           "color": "black",
           "family": "Arial Black",
           "size": 12
          },
          "showarrow": false,
          "text": "5",
          "x": 12681,
          "y": 5
         },
         {
          "bgcolor": "rgba(255,255,255,0.3)",
          "borderpad": 4,
          "font": {
           "color": "black",
           "family": "Arial Black",
           "size": 12
          },
          "showarrow": false,
          "text": "6",
          "x": 16426.5,
          "y": 6
         },
         {
          "bgcolor": "rgba(255,255,255,0.3)",
          "borderpad": 4,
          "font": {
           "color": "black",
           "family": "Arial Black",
           "size": 12
          },
          "showarrow": false,
          "text": "7",
          "x": 20053,
          "y": 7
         },
         {
          "bgcolor": "rgba(255,255,255,0.3)",
          "borderpad": 4,
          "font": {
           "color": "black",
           "family": "Arial Black",
           "size": 12
          },
          "showarrow": false,
          "text": "8",
          "x": 24027.5,
          "y": 8
         },
         {
          "bgcolor": "rgba(255,255,255,0.3)",
          "borderpad": 4,
          "font": {
           "color": "black",
           "family": "Arial Black",
           "size": 12
          },
          "showarrow": false,
          "text": "9",
          "x": 27151,
          "y": 9
         },
         {
          "bgcolor": "rgba(255,255,255,0.3)",
          "borderpad": 4,
          "font": {
           "color": "black",
           "family": "Arial Black",
           "size": 12
          },
          "showarrow": false,
          "text": "10",
          "x": 29482.5,
          "y": 10
         },
         {
          "bgcolor": "rgba(255,255,255,0.3)",
          "borderpad": 4,
          "font": {
           "color": "black",
           "family": "Arial Black",
           "size": 12
          },
          "showarrow": false,
          "text": "11",
          "x": 33086,
          "y": 11
         },
         {
          "bgcolor": "rgba(255,255,255,0.3)",
          "borderpad": 4,
          "font": {
           "color": "black",
           "family": "Arial Black",
           "size": 12
          },
          "showarrow": false,
          "text": "12",
          "x": 36558,
          "y": 12
         },
         {
          "bgcolor": "rgba(255,255,255,0.3)",
          "borderpad": 4,
          "font": {
           "color": "black",
           "family": "Arial Black",
           "size": 12
          },
          "showarrow": false,
          "text": "13",
          "x": 43419,
          "y": 13
         },
         {
          "bgcolor": "rgba(255,255,255,0.3)",
          "borderpad": 4,
          "font": {
           "color": "black",
           "family": "Arial Black",
           "size": 12
          },
          "showarrow": false,
          "text": "14",
          "x": 50463.5,
          "y": 14
         },
         {
          "bgcolor": "rgba(255,255,255,0.3)",
          "borderpad": 4,
          "font": {
           "color": "black",
           "family": "Arial Black",
           "size": 12
          },
          "showarrow": false,
          "text": "15",
          "x": 55180,
          "y": 15
         },
         {
          "bgcolor": "rgba(255,255,255,0.3)",
          "borderpad": 4,
          "font": {
           "color": "black",
           "family": "Arial Black",
           "size": 12
          },
          "showarrow": false,
          "text": "16",
          "x": 59060,
          "y": 16
         },
         {
          "bgcolor": "rgba(255,255,255,0.3)",
          "borderpad": 4,
          "font": {
           "color": "black",
           "family": "Arial Black",
           "size": 12
          },
          "showarrow": false,
          "text": "17",
          "x": 61179.5,
          "y": 17
         },
         {
          "bgcolor": "rgba(255,255,255,0.3)",
          "borderpad": 4,
          "font": {
           "color": "black",
           "family": "Arial Black",
           "size": 12
          },
          "showarrow": false,
          "text": "18",
          "x": 63547.5,
          "y": 18
         },
         {
          "bgcolor": "rgba(255,255,255,0.3)",
          "borderpad": 4,
          "font": {
           "color": "black",
           "family": "Arial Black",
           "size": 12
          },
          "showarrow": false,
          "text": "19",
          "x": 66312,
          "y": 19
         },
         {
          "bgcolor": "rgba(255,255,255,0.3)",
          "borderpad": 4,
          "font": {
           "color": "black",
           "family": "Arial Black",
           "size": 12
          },
          "showarrow": false,
          "text": "20",
          "x": 68043,
          "y": 20
         }
        ],
        "height": 1680,
        "hovermode": "closest",
        "shapes": [
         {
          "fillcolor": "hsl(0.0, 70%, 50%)",
          "line": {
           "color": "black",
           "width": 1
          },
          "opacity": 0.8,
          "type": "rect",
          "x0": 620,
          "x1": 1356,
          "y0": -0.3,
          "y1": 0.3
         },
         {
          "fillcolor": "hsl(17.142857142857142, 70%, 50%)",
          "line": {
           "color": "black",
           "width": 1
          },
          "opacity": 0.8,
          "type": "rect",
          "x0": 1752,
          "x1": 3266,
          "y0": 0.7,
          "y1": 1.3
         },
         {
          "fillcolor": "hsl(34.285714285714285, 70%, 50%)",
          "line": {
           "color": "black",
           "width": 1
          },
          "opacity": 0.8,
          "type": "rect",
          "x0": 3406,
          "x1": 7086,
          "y0": 1.7,
          "y1": 2.3
         },
         {
          "fillcolor": "hsl(51.42857142857143, 70%, 50%)",
          "line": {
           "color": "black",
           "width": 1
          },
          "opacity": 0.8,
          "type": "rect",
          "x0": 7087,
          "x1": 9121,
          "y0": 2.7,
          "y1": 3.3
         },
         {
          "fillcolor": "hsl(68.57142857142857, 70%, 50%)",
          "line": {
           "color": "black",
           "width": 1
          },
          "opacity": 0.8,
          "type": "rect",
          "x0": 9122,
          "x1": 11315,
          "y0": 3.7,
          "y1": 4.3
         },
         {
          "fillcolor": "hsl(85.71428571428571, 70%, 50%)",
          "line": {
           "color": "black",
           "width": 1
          },
          "opacity": 0.8,
          "type": "rect",
          "x0": 11316,
          "x1": 14046,
          "y0": 4.7,
          "y1": 5.3
         },
         {
          "fillcolor": "hsl(102.85714285714286, 70%, 50%)",
          "line": {
           "color": "black",
           "width": 1
          },
          "opacity": 0.8,
          "type": "rect",
          "x0": 14047,
          "x1": 18806,
          "y0": 5.7,
          "y1": 6.3
         },
         {
          "fillcolor": "hsl(120.0, 70%, 50%)",
          "line": {
           "color": "black",
           "width": 1
          },
          "opacity": 0.8,
          "type": "rect",
          "x0": 18807,
          "x1": 21299,
          "y0": 6.7,
          "y1": 7.3
         },
         {
          "fillcolor": "hsl(137.14285714285714, 70%, 50%)",
          "line": {
           "color": "black",
           "width": 1
          },
          "opacity": 0.8,
          "type": "rect",
          "x0": 21300,
          "x1": 26755,
          "y0": 7.7,
          "y1": 8.3
         },
         {
          "fillcolor": "hsl(154.28571428571428, 70%, 50%)",
          "line": {
           "color": "black",
           "width": 1
          },
          "opacity": 0.8,
          "type": "rect",
          "x0": 26862,
          "x1": 27440,
          "y0": 8.7,
          "y1": 9.3
         },
         {
          "fillcolor": "hsl(171.42857142857142, 70%, 50%)",
          "line": {
           "color": "black",
           "width": 1
          },
          "opacity": 0.8,
          "type": "rect",
          "x0": 27441,
          "x1": 31524,
          "y0": 9.7,
          "y1": 10.3
         },
         {
          "fillcolor": "hsl(188.57142857142858, 70%, 50%)",
          "line": {
           "color": "black",
           "width": 1
          },
          "opacity": 0.8,
          "type": "rect",
          "x0": 31525,
          "x1": 34647,
          "y0": 10.7,
          "y1": 11.3
         },
         {
          "fillcolor": "hsl(205.71428571428572, 70%, 50%)",
          "line": {
           "color": "black",
           "width": 1
          },
          "opacity": 0.8,
          "type": "rect",
          "x0": 34648,
          "x1": 38468,
          "y0": 11.7,
          "y1": 12.3
         },
         {
          "fillcolor": "hsl(222.85714285714286, 70%, 50%)",
          "line": {
           "color": "black",
           "width": 1
          },
          "opacity": 0.8,
          "type": "rect",
          "x0": 38469,
          "x1": 48369,
          "y0": 12.7,
          "y1": 13.3
         },
         {
          "fillcolor": "hsl(240.0, 70%, 50%)",
          "line": {
           "color": "black",
           "width": 1
          },
          "opacity": 0.8,
          "type": "rect",
          "x0": 48370,
          "x1": 52557,
          "y0": 13.7,
          "y1": 14.3
         },
         {
          "fillcolor": "hsl(257.14285714285717, 70%, 50%)",
          "line": {
           "color": "black",
           "width": 1
          },
          "opacity": 0.8,
          "type": "rect",
          "x0": 52558,
          "x1": 57802,
          "y0": 14.7,
          "y1": 15.3
         },
         {
          "fillcolor": "hsl(274.2857142857143, 70%, 50%)",
          "line": {
           "color": "black",
           "width": 1
          },
          "opacity": 0.8,
          "type": "rect",
          "x0": 57803,
          "x1": 60317,
          "y0": 15.7,
          "y1": 16.3
         },
         {
          "fillcolor": "hsl(291.42857142857144, 70%, 50%)",
          "line": {
           "color": "black",
           "width": 1
          },
          "opacity": 0.8,
          "type": "rect",
          "x0": 60318,
          "x1": 62041,
          "y0": 16.7,
          "y1": 17.3
         },
         {
          "fillcolor": "hsl(308.57142857142856, 70%, 50%)",
          "line": {
           "color": "black",
           "width": 1
          },
          "opacity": 0.8,
          "type": "rect",
          "x0": 62042,
          "x1": 65053,
          "y0": 17.7,
          "y1": 18.3
         },
         {
          "fillcolor": "hsl(325.7142857142857, 70%, 50%)",
          "line": {
           "color": "black",
           "width": 1
          },
          "opacity": 0.8,
          "type": "rect",
          "x0": 65054,
          "x1": 67570,
          "y0": 18.7,
          "y1": 19.3
         },
         {
          "fillcolor": "hsl(342.85714285714283, 70%, 50%)",
          "line": {
           "color": "black",
           "width": 1
          },
          "opacity": 0.8,
          "type": "rect",
          "x0": 67571,
          "x1": 68515,
          "y0": 19.7,
          "y1": 20.3
         }
        ],
        "showlegend": false,
        "template": {
         "data": {
          "bar": [
           {
            "error_x": {
             "color": "#2a3f5f"
            },
            "error_y": {
             "color": "#2a3f5f"
            },
            "marker": {
             "line": {
              "color": "#E5ECF6",
              "width": 0.5
             },
             "pattern": {
              "fillmode": "overlay",
              "size": 10,
              "solidity": 0.2
             }
            },
            "type": "bar"
           }
          ],
          "barpolar": [
           {
            "marker": {
             "line": {
              "color": "#E5ECF6",
              "width": 0.5
             },
             "pattern": {
              "fillmode": "overlay",
              "size": 10,
              "solidity": 0.2
             }
            },
            "type": "barpolar"
           }
          ],
          "carpet": [
           {
            "aaxis": {
             "endlinecolor": "#2a3f5f",
             "gridcolor": "white",
             "linecolor": "white",
             "minorgridcolor": "white",
             "startlinecolor": "#2a3f5f"
            },
            "baxis": {
             "endlinecolor": "#2a3f5f",
             "gridcolor": "white",
             "linecolor": "white",
             "minorgridcolor": "white",
             "startlinecolor": "#2a3f5f"
            },
            "type": "carpet"
           }
          ],
          "choropleth": [
           {
            "colorbar": {
             "outlinewidth": 0,
             "ticks": ""
            },
            "type": "choropleth"
           }
          ],
          "contour": [
           {
            "colorbar": {
             "outlinewidth": 0,
             "ticks": ""
            },
            "colorscale": [
             [
              0,
              "#0d0887"
             ],
             [
              0.1111111111111111,
              "#46039f"
             ],
             [
              0.2222222222222222,
              "#7201a8"
             ],
             [
              0.3333333333333333,
              "#9c179e"
             ],
             [
              0.4444444444444444,
              "#bd3786"
             ],
             [
              0.5555555555555556,
              "#d8576b"
             ],
             [
              0.6666666666666666,
              "#ed7953"
             ],
             [
              0.7777777777777778,
              "#fb9f3a"
             ],
             [
              0.8888888888888888,
              "#fdca26"
             ],
             [
              1,
              "#f0f921"
             ]
            ],
            "type": "contour"
           }
          ],
          "contourcarpet": [
           {
            "colorbar": {
             "outlinewidth": 0,
             "ticks": ""
            },
            "type": "contourcarpet"
           }
          ],
          "heatmap": [
           {
            "colorbar": {
             "outlinewidth": 0,
             "ticks": ""
            },
            "colorscale": [
             [
              0,
              "#0d0887"
             ],
             [
              0.1111111111111111,
              "#46039f"
             ],
             [
              0.2222222222222222,
              "#7201a8"
             ],
             [
              0.3333333333333333,
              "#9c179e"
             ],
             [
              0.4444444444444444,
              "#bd3786"
             ],
             [
              0.5555555555555556,
              "#d8576b"
             ],
             [
              0.6666666666666666,
              "#ed7953"
             ],
             [
              0.7777777777777778,
              "#fb9f3a"
             ],
             [
              0.8888888888888888,
              "#fdca26"
             ],
             [
              1,
              "#f0f921"
             ]
            ],
            "type": "heatmap"
           }
          ],
          "heatmapgl": [
           {
            "colorbar": {
             "outlinewidth": 0,
             "ticks": ""
            },
            "colorscale": [
             [
              0,
              "#0d0887"
             ],
             [
              0.1111111111111111,
              "#46039f"
             ],
             [
              0.2222222222222222,
              "#7201a8"
             ],
             [
              0.3333333333333333,
              "#9c179e"
             ],
             [
              0.4444444444444444,
              "#bd3786"
             ],
             [
              0.5555555555555556,
              "#d8576b"
             ],
             [
              0.6666666666666666,
              "#ed7953"
             ],
             [
              0.7777777777777778,
              "#fb9f3a"
             ],
             [
              0.8888888888888888,
              "#fdca26"
             ],
             [
              1,
              "#f0f921"
             ]
            ],
            "type": "heatmapgl"
           }
          ],
          "histogram": [
           {
            "marker": {
             "pattern": {
              "fillmode": "overlay",
              "size": 10,
              "solidity": 0.2
             }
            },
            "type": "histogram"
           }
          ],
          "histogram2d": [
           {
            "colorbar": {
             "outlinewidth": 0,
             "ticks": ""
            },
            "colorscale": [
             [
              0,
              "#0d0887"
             ],
             [
              0.1111111111111111,
              "#46039f"
             ],
             [
              0.2222222222222222,
              "#7201a8"
             ],
             [
              0.3333333333333333,
              "#9c179e"
             ],
             [
              0.4444444444444444,
              "#bd3786"
             ],
             [
              0.5555555555555556,
              "#d8576b"
             ],
             [
              0.6666666666666666,
              "#ed7953"
             ],
             [
              0.7777777777777778,
              "#fb9f3a"
             ],
             [
              0.8888888888888888,
              "#fdca26"
             ],
             [
              1,
              "#f0f921"
             ]
            ],
            "type": "histogram2d"
           }
          ],
          "histogram2dcontour": [
           {
            "colorbar": {
             "outlinewidth": 0,
             "ticks": ""
            },
            "colorscale": [
             [
              0,
              "#0d0887"
             ],
             [
              0.1111111111111111,
              "#46039f"
             ],
             [
              0.2222222222222222,
              "#7201a8"
             ],
             [
              0.3333333333333333,
              "#9c179e"
             ],
             [
              0.4444444444444444,
              "#bd3786"
             ],
             [
              0.5555555555555556,
              "#d8576b"
             ],
             [
              0.6666666666666666,
              "#ed7953"
             ],
             [
              0.7777777777777778,
              "#fb9f3a"
             ],
             [
              0.8888888888888888,
              "#fdca26"
             ],
             [
              1,
              "#f0f921"
             ]
            ],
            "type": "histogram2dcontour"
           }
          ],
          "mesh3d": [
           {
            "colorbar": {
             "outlinewidth": 0,
             "ticks": ""
            },
            "type": "mesh3d"
           }
          ],
          "parcoords": [
           {
            "line": {
             "colorbar": {
              "outlinewidth": 0,
              "ticks": ""
             }
            },
            "type": "parcoords"
           }
          ],
          "pie": [
           {
            "automargin": true,
            "type": "pie"
           }
          ],
          "scatter": [
           {
            "fillpattern": {
             "fillmode": "overlay",
             "size": 10,
             "solidity": 0.2
            },
            "type": "scatter"
           }
          ],
          "scatter3d": [
           {
            "line": {
             "colorbar": {
              "outlinewidth": 0,
              "ticks": ""
             }
            },
            "marker": {
             "colorbar": {
              "outlinewidth": 0,
              "ticks": ""
             }
            },
            "type": "scatter3d"
           }
          ],
          "scattercarpet": [
           {
            "marker": {
             "colorbar": {
              "outlinewidth": 0,
              "ticks": ""
             }
            },
            "type": "scattercarpet"
           }
          ],
          "scattergeo": [
           {
            "marker": {
             "colorbar": {
              "outlinewidth": 0,
              "ticks": ""
             }
            },
            "type": "scattergeo"
           }
          ],
          "scattergl": [
           {
            "marker": {
             "colorbar": {
              "outlinewidth": 0,
              "ticks": ""
             }
            },
            "type": "scattergl"
           }
          ],
          "scattermapbox": [
           {
            "marker": {
             "colorbar": {
              "outlinewidth": 0,
              "ticks": ""
             }
            },
            "type": "scattermapbox"
           }
          ],
          "scatterpolar": [
           {
            "marker": {
             "colorbar": {
              "outlinewidth": 0,
              "ticks": ""
             }
            },
            "type": "scatterpolar"
           }
          ],
          "scatterpolargl": [
           {
            "marker": {
             "colorbar": {
              "outlinewidth": 0,
              "ticks": ""
             }
            },
            "type": "scatterpolargl"
           }
          ],
          "scatterternary": [
           {
            "marker": {
             "colorbar": {
              "outlinewidth": 0,
              "ticks": ""
             }
            },
            "type": "scatterternary"
           }
          ],
          "surface": [
           {
            "colorbar": {
             "outlinewidth": 0,
             "ticks": ""
            },
            "colorscale": [
             [
              0,
              "#0d0887"
             ],
             [
              0.1111111111111111,
              "#46039f"
             ],
             [
              0.2222222222222222,
              "#7201a8"
             ],
             [
              0.3333333333333333,
              "#9c179e"
             ],
             [
              0.4444444444444444,
              "#bd3786"
             ],
             [
              0.5555555555555556,
              "#d8576b"
             ],
             [
              0.6666666666666666,
              "#ed7953"
             ],
             [
              0.7777777777777778,
              "#fb9f3a"
             ],
             [
              0.8888888888888888,
              "#fdca26"
             ],
             [
              1,
              "#f0f921"
             ]
            ],
            "type": "surface"
           }
          ],
          "table": [
           {
            "cells": {
             "fill": {
              "color": "#EBF0F8"
             },
             "line": {
              "color": "white"
             }
            },
            "header": {
             "fill": {
              "color": "#C8D4E3"
             },
             "line": {
              "color": "white"
             }
            },
            "type": "table"
           }
          ]
         },
         "layout": {
          "annotationdefaults": {
           "arrowcolor": "#2a3f5f",
           "arrowhead": 0,
           "arrowwidth": 1
          },
          "autotypenumbers": "strict",
          "coloraxis": {
           "colorbar": {
            "outlinewidth": 0,
            "ticks": ""
           }
          },
          "colorscale": {
           "diverging": [
            [
             0,
             "#8e0152"
            ],
            [
             0.1,
             "#c51b7d"
            ],
            [
             0.2,
             "#de77ae"
            ],
            [
             0.3,
             "#f1b6da"
            ],
            [
             0.4,
             "#fde0ef"
            ],
            [
             0.5,
             "#f7f7f7"
            ],
            [
             0.6,
             "#e6f5d0"
            ],
            [
             0.7,
             "#b8e186"
            ],
            [
             0.8,
             "#7fbc41"
            ],
            [
             0.9,
             "#4d9221"
            ],
            [
             1,
             "#276419"
            ]
           ],
           "sequential": [
            [
             0,
             "#0d0887"
            ],
            [
             0.1111111111111111,
             "#46039f"
            ],
            [
             0.2222222222222222,
             "#7201a8"
            ],
            [
             0.3333333333333333,
             "#9c179e"
            ],
            [
             0.4444444444444444,
             "#bd3786"
            ],
            [
             0.5555555555555556,
             "#d8576b"
            ],
            [
             0.6666666666666666,
             "#ed7953"
            ],
            [
             0.7777777777777778,
             "#fb9f3a"
            ],
            [
             0.8888888888888888,
             "#fdca26"
            ],
            [
             1,
             "#f0f921"
            ]
           ],
           "sequentialminus": [
            [
             0,
             "#0d0887"
            ],
            [
             0.1111111111111111,
             "#46039f"
            ],
            [
             0.2222222222222222,
             "#7201a8"
            ],
            [
             0.3333333333333333,
             "#9c179e"
            ],
            [
             0.4444444444444444,
             "#bd3786"
            ],
            [
             0.5555555555555556,
             "#d8576b"
            ],
            [
             0.6666666666666666,
             "#ed7953"
            ],
            [
             0.7777777777777778,
             "#fb9f3a"
            ],
            [
             0.8888888888888888,
             "#fdca26"
            ],
            [
             1,
             "#f0f921"
            ]
           ]
          },
          "colorway": [
           "#636efa",
           "#EF553B",
           "#00cc96",
           "#ab63fa",
           "#FFA15A",
           "#19d3f3",
           "#FF6692",
           "#B6E880",
           "#FF97FF",
           "#FECB52"
          ],
          "font": {
           "color": "#2a3f5f"
          },
          "geo": {
           "bgcolor": "white",
           "lakecolor": "white",
           "landcolor": "#E5ECF6",
           "showlakes": true,
           "showland": true,
           "subunitcolor": "white"
          },
          "hoverlabel": {
           "align": "left"
          },
          "hovermode": "closest",
          "mapbox": {
           "style": "light"
          },
          "paper_bgcolor": "white",
          "plot_bgcolor": "#E5ECF6",
          "polar": {
           "angularaxis": {
            "gridcolor": "white",
            "linecolor": "white",
            "ticks": ""
           },
           "bgcolor": "#E5ECF6",
           "radialaxis": {
            "gridcolor": "white",
            "linecolor": "white",
            "ticks": ""
           }
          },
          "scene": {
           "xaxis": {
            "backgroundcolor": "#E5ECF6",
            "gridcolor": "white",
            "gridwidth": 2,
            "linecolor": "white",
            "showbackground": true,
            "ticks": "",
            "zerolinecolor": "white"
           },
           "yaxis": {
            "backgroundcolor": "#E5ECF6",
            "gridcolor": "white",
            "gridwidth": 2,
            "linecolor": "white",
            "showbackground": true,
            "ticks": "",
            "zerolinecolor": "white"
           },
           "zaxis": {
            "backgroundcolor": "#E5ECF6",
            "gridcolor": "white",
            "gridwidth": 2,
            "linecolor": "white",
            "showbackground": true,
            "ticks": "",
            "zerolinecolor": "white"
           }
          },
          "shapedefaults": {
           "line": {
            "color": "#2a3f5f"
           }
          },
          "ternary": {
           "aaxis": {
            "gridcolor": "white",
            "linecolor": "white",
            "ticks": ""
           },
           "baxis": {
            "gridcolor": "white",
            "linecolor": "white",
            "ticks": ""
           },
           "bgcolor": "#E5ECF6",
           "caxis": {
            "gridcolor": "white",
            "linecolor": "white",
            "ticks": ""
           }
          },
          "title": {
           "x": 0.05
          },
          "xaxis": {
           "automargin": true,
           "gridcolor": "white",
           "linecolor": "white",
           "ticks": "",
           "title": {
            "standoff": 15
           },
           "zerolinecolor": "white",
           "zerolinewidth": 2
          },
          "yaxis": {
           "automargin": true,
           "gridcolor": "white",
           "linecolor": "white",
           "ticks": "",
           "title": {
            "standoff": 15
           },
           "zerolinecolor": "white",
           "zerolinewidth": 2
          }
         }
        },
        "title": {
         "text": "Episode Segments Timeline - Character Positions \n /Users/aneteyabbey/ai/multimedia_analysis/dataset/segmented/lex_fridman/episode_8.json"
        },
        "xaxis": {
         "gridcolor": "LightGrey",
         "gridwidth": 1,
         "showgrid": true,
         "title": {
          "text": "Character Position"
         }
        },
        "yaxis": {
         "autorange": "reversed",
         "tickmode": "array",
         "ticktext": [
          "Seg 0: Early AI Chess Programs...",
          "Seg 1: Meta-Reasoning in Game AI...",
          "Seg 2: AlphaGo's Intuition and Search...",
          "Seg 3: Human vs. AI Intuition...",
          "Seg 4: The Excitement of AI Creation...",
          "Seg 5: AI Progress and Real-World Challenges...",
          "Seg 6: Lessons from AI Winters...",
          "Seg 7: Challenges in Self-Driving Cars...",
          "Seg 8: AI and Human Interaction...",
          "Seg 9: The Desire for Superintelligence...",
          "Seg 10: The AI Control Problem...",
          "Seg 11: Uncertainty in AI Objectives...",
          "Seg 12: AI and Societal Impact...",
          "Seg 13: Regulation of AI Algorithms...",
          "Seg 14: Historical Parallels: Nuclear Weapons...",
          "Seg 15: AI Community's Denial...",
          "Seg 16: AI Misuse and Overuse...",
          "Seg 17: The WALL-E Problem...",
          "Seg 18: The Burden of AI Safety...",
          "Seg 19: Provably Beneficial AI...",
          "Seg 20: Favorite Sci-Fi AI Movies..."
         ],
         "tickvals": [
          0,
          1,
          2,
          3,
          4,
          5,
          6,
          7,
          8,
          9,
          10,
          11,
          12,
          13,
          14,
          15,
          16,
          17,
          18,
          19,
          20
         ],
         "title": {
          "text": "Segment"
         }
        }
       }
      }
     },
     "metadata": {},
     "output_type": "display_data"
    },
    {
     "data": {
      "application/vnd.plotly.v1+json": {
       "config": {
        "plotlyServerURL": "https://plot.ly"
       },
       "data": [
        {
         "hovertemplate": "<b>Robot Tennis Player...</b><br>Start: 655<br>End: 3,625<br>Length: 2,970<br>Text: You've mentioned that if there was one person you ...<br><extra></extra>",
         "marker": {
          "opacity": 0,
          "size": 0.1
         },
         "mode": "markers",
         "showlegend": false,
         "type": "scatter",
         "x": [
          2140
         ],
         "y": [
          0
         ]
        },
        {
         "hovertemplate": "<b>Impressive Robot Abilities...</b><br>Start: 3,625<br>End: 4,119<br>Length: 494<br>Text: What's the most impressive thing you've seen a rob...<br><extra></extra>",
         "marker": {
          "opacity": 0,
          "size": 0.1
         },
         "mode": "markers",
         "showlegend": false,
         "type": "scatter",
         "x": [
          3872
         ],
         "y": [
          1
         ]
        },
        {
         "hovertemplate": "<b>Psychology of Robot Interaction...</b><br>Start: 4,121<br>End: 6,304<br>Length: 2,183<br>Text: So have you met Spotmini or any of those robots in...<br><extra></extra>",
         "marker": {
          "opacity": 0,
          "size": 0.1
         },
         "mode": "markers",
         "showlegend": false,
         "type": "scatter",
         "x": [
          5212.5
         ],
         "y": [
          2
         ]
        },
        {
         "hovertemplate": "<b>Reinforcement Learning Objectives...</b><br>Start: 6,306<br>End: 8,691<br>Length: 2,385<br>Text: So as we have robots interact in this physical wor...<br><extra></extra>",
         "marker": {
          "opacity": 0,
          "size": 0.1
         },
         "mode": "markers",
         "showlegend": false,
         "type": "scatter",
         "x": [
          7498.5
         ],
         "y": [
          3
         ]
        },
        {
         "hovertemplate": "<b>Challenges of Sparse Rewards...</b><br>Start: 9,338<br>End: 11,178<br>Length: 1,840<br>Text: So when I first picked up Richard Sutton's reinfor...<br><extra></extra>",
         "marker": {
          "opacity": 0,
          "size": 0.1
         },
         "mode": "markers",
         "showlegend": false,
         "type": "scatter",
         "x": [
          10258
         ],
         "y": [
          4
         ]
        },
        {
         "hovertemplate": "<b>Intuition Behind RL Success...</b><br>Start: 11,710<br>End: 14,110<br>Length: 2,400<br>Text: So I think there's a few ways to think about this....<br><extra></extra>",
         "marker": {
          "opacity": 0,
          "size": 0.1
         },
         "mode": "markers",
         "showlegend": false,
         "type": "scatter",
         "x": [
          12910
         ],
         "y": [
          5
         ]
        },
        {
         "hovertemplate": "<b>Hierarchical Reasoning in RL...</b><br>Start: 14,112<br>End: 19,005<br>Length: 4,893<br>Text: So that's really nice intuition<br>But do you think ...<br><extra></extra>",
         "marker": {
          "opacity": 0,
          "size": 0.1
         },
         "mode": "markers",
         "showlegend": false,
         "type": "scatter",
         "x": [
          16558.5
         ],
         "y": [
          6
         ]
        },
        {
         "hovertemplate": "<b>Meta-Learning and Generalization...</b><br>Start: 19,007<br>End: 21,428<br>Length: 2,421<br>Text: I mean, it seems like through these meta learning ...<br><extra></extra>",
         "marker": {
          "opacity": 0,
          "size": 0.1
         },
         "mode": "markers",
         "showlegend": false,
         "type": "scatter",
         "x": [
          20217.5
         ],
         "y": [
          7
         ]
        },
        {
         "hovertemplate": "<b>Generalization in Deep Learning...</b><br>Start: 21,429<br>End: 23,260<br>Length: 1,831<br>Text: So you draw this, by the way, just to frame things...<br><extra></extra>",
         "marker": {
          "opacity": 0,
          "size": 0.1
         },
         "mode": "markers",
         "showlegend": false,
         "type": "scatter",
         "x": [
          22344.5
         ],
         "y": [
          8
         ]
        },
        {
         "hovertemplate": "<b>Modularity of the Brain...</b><br>Start: 23,262<br>End: 24,598<br>Length: 1,336<br>Text: So I just talked to Vladimir Vapnik, for example, ...<br><extra></extra>",
         "marker": {
          "opacity": 0,
          "size": 0.1
         },
         "mode": "markers",
         "showlegend": false,
         "type": "scatter",
         "x": [
          23930
         ],
         "y": [
          9
         ]
        },
        {
         "hovertemplate": "<b>Math vs. Empirical Discovery...</b><br>Start: 24,705<br>End: 26,341<br>Length: 1,636<br>Text: Do you think you prefer math or empirical trial an...<br><extra></extra>",
         "marker": {
          "opacity": 0,
          "size": 0.1
         },
         "mode": "markers",
         "showlegend": false,
         "type": "scatter",
         "x": [
          25523
         ],
         "y": [
          10
         ]
        },
        {
         "hovertemplate": "<b>Imitation Learning vs. Self-Play...</b><br>Start: 26,384<br>End: 28,303<br>Length: 1,919<br>Text: In trying to teach robots or systems to do everyda...<br><extra></extra>",
         "marker": {
          "opacity": 0,
          "size": 0.1
         },
         "mode": "markers",
         "showlegend": false,
         "type": "scatter",
         "x": [
          27343.5
         ],
         "y": [
          11
         ]
        },
        {
         "hovertemplate": "<b>Third-Person Learning for Robots...</b><br>Start: 28,305<br>End: 30,144<br>Length: 1,839<br>Text: Reality is many problems we don't know how to turn...<br><extra></extra>",
         "marker": {
          "opacity": 0,
          "size": 0.1
         },
         "mode": "markers",
         "showlegend": false,
         "type": "scatter",
         "x": [
          29224.5
         ],
         "y": [
          12
         ]
        },
        {
         "hovertemplate": "<b>Simulation for Physical World...</b><br>Start: 30,146<br>End: 33,289<br>Length: 3,143<br>Text: So my focus is on autonomous vehicles<br>Do you thin...<br><extra></extra>",
         "marker": {
          "opacity": 0,
          "size": 0.1
         },
         "mode": "markers",
         "showlegend": false,
         "type": "scatter",
         "x": [
          31717.5
         ],
         "y": [
          13
         ]
        },
        {
         "hovertemplate": "<b>AI Safety and Testing...</b><br>Start: 33,411<br>End: 36,469<br>Length: 3,058<br>Text: I'm not sure about that<br>But yeah<br>It's definitely...<br><extra></extra>",
         "marker": {
          "opacity": 0,
          "size": 0.1
         },
         "mode": "markers",
         "showlegend": false,
         "type": "scatter",
         "x": [
          34940
         ],
         "y": [
          14
         ]
        },
        {
         "hovertemplate": "<b>Kindness in AI Policies...</b><br>Start: 36,471<br>End: 38,320<br>Length: 1,849<br>Text: So let me ask, you've mentioned that Andrew Ng, by...<br><extra></extra>",
         "marker": {
          "opacity": 0,
          "size": 0.1
         },
         "mode": "markers",
         "showlegend": false,
         "type": "scatter",
         "x": [
          37395.5
         ],
         "y": [
          15
         ]
        },
        {
         "hovertemplate": "<b>Teaching Robots to Love...</b><br>Start: 38,322<br>End: 40,115<br>Length: 1,793<br>Text: I hope so<br>So do you think it's possible to teach ...<br><extra></extra>",
         "marker": {
          "opacity": 0,
          "size": 0.1
         },
         "mode": "markers",
         "showlegend": false,
         "type": "scatter",
         "x": [
          39218.5
         ],
         "y": [
          16
         ]
        }
       ],
       "layout": {
        "annotations": [
         {
          "bgcolor": "rgba(255,255,255,0.3)",
          "borderpad": 4,
          "font": {
           "color": "black",
           "family": "Arial Black",
           "size": 12
          },
          "showarrow": false,
          "text": "0",
          "x": 2140,
          "y": 0
         },
         {
          "bgcolor": "rgba(255,255,255,0.3)",
          "borderpad": 4,
          "font": {
           "color": "black",
           "family": "Arial Black",
           "size": 12
          },
          "showarrow": false,
          "text": "1",
          "x": 3872,
          "y": 1
         },
         {
          "bgcolor": "rgba(255,255,255,0.3)",
          "borderpad": 4,
          "font": {
           "color": "black",
           "family": "Arial Black",
           "size": 12
          },
          "showarrow": false,
          "text": "2",
          "x": 5212.5,
          "y": 2
         },
         {
          "bgcolor": "rgba(255,255,255,0.3)",
          "borderpad": 4,
          "font": {
           "color": "black",
           "family": "Arial Black",
           "size": 12
          },
          "showarrow": false,
          "text": "3",
          "x": 7498.5,
          "y": 3
         },
         {
          "bgcolor": "rgba(255,255,255,0.3)",
          "borderpad": 4,
          "font": {
           "color": "black",
           "family": "Arial Black",
           "size": 12
          },
          "showarrow": false,
          "text": "4",
          "x": 10258,
          "y": 4
         },
         {
          "bgcolor": "rgba(255,255,255,0.3)",
          "borderpad": 4,
          "font": {
           "color": "black",
           "family": "Arial Black",
           "size": 12
          },
          "showarrow": false,
          "text": "5",
          "x": 12910,
          "y": 5
         },
         {
          "bgcolor": "rgba(255,255,255,0.3)",
          "borderpad": 4,
          "font": {
           "color": "black",
           "family": "Arial Black",
           "size": 12
          },
          "showarrow": false,
          "text": "6",
          "x": 16558.5,
          "y": 6
         },
         {
          "bgcolor": "rgba(255,255,255,0.3)",
          "borderpad": 4,
          "font": {
           "color": "black",
           "family": "Arial Black",
           "size": 12
          },
          "showarrow": false,
          "text": "7",
          "x": 20217.5,
          "y": 7
         },
         {
          "bgcolor": "rgba(255,255,255,0.3)",
          "borderpad": 4,
          "font": {
           "color": "black",
           "family": "Arial Black",
           "size": 12
          },
          "showarrow": false,
          "text": "8",
          "x": 22344.5,
          "y": 8
         },
         {
          "bgcolor": "rgba(255,255,255,0.3)",
          "borderpad": 4,
          "font": {
           "color": "black",
           "family": "Arial Black",
           "size": 12
          },
          "showarrow": false,
          "text": "9",
          "x": 23930,
          "y": 9
         },
         {
          "bgcolor": "rgba(255,255,255,0.3)",
          "borderpad": 4,
          "font": {
           "color": "black",
           "family": "Arial Black",
           "size": 12
          },
          "showarrow": false,
          "text": "10",
          "x": 25523,
          "y": 10
         },
         {
          "bgcolor": "rgba(255,255,255,0.3)",
          "borderpad": 4,
          "font": {
           "color": "black",
           "family": "Arial Black",
           "size": 12
          },
          "showarrow": false,
          "text": "11",
          "x": 27343.5,
          "y": 11
         },
         {
          "bgcolor": "rgba(255,255,255,0.3)",
          "borderpad": 4,
          "font": {
           "color": "black",
           "family": "Arial Black",
           "size": 12
          },
          "showarrow": false,
          "text": "12",
          "x": 29224.5,
          "y": 12
         },
         {
          "bgcolor": "rgba(255,255,255,0.3)",
          "borderpad": 4,
          "font": {
           "color": "black",
           "family": "Arial Black",
           "size": 12
          },
          "showarrow": false,
          "text": "13",
          "x": 31717.5,
          "y": 13
         },
         {
          "bgcolor": "rgba(255,255,255,0.3)",
          "borderpad": 4,
          "font": {
           "color": "black",
           "family": "Arial Black",
           "size": 12
          },
          "showarrow": false,
          "text": "14",
          "x": 34940,
          "y": 14
         },
         {
          "bgcolor": "rgba(255,255,255,0.3)",
          "borderpad": 4,
          "font": {
           "color": "black",
           "family": "Arial Black",
           "size": 12
          },
          "showarrow": false,
          "text": "15",
          "x": 37395.5,
          "y": 15
         },
         {
          "bgcolor": "rgba(255,255,255,0.3)",
          "borderpad": 4,
          "font": {
           "color": "black",
           "family": "Arial Black",
           "size": 12
          },
          "showarrow": false,
          "text": "16",
          "x": 39218.5,
          "y": 16
         }
        ],
        "height": 1360,
        "hovermode": "closest",
        "shapes": [
         {
          "fillcolor": "hsl(0.0, 70%, 50%)",
          "line": {
           "color": "black",
           "width": 1
          },
          "opacity": 0.8,
          "type": "rect",
          "x0": 655,
          "x1": 3625,
          "y0": -0.3,
          "y1": 0.3
         },
         {
          "fillcolor": "hsl(21.176470588235293, 70%, 50%)",
          "line": {
           "color": "black",
           "width": 1
          },
          "opacity": 0.8,
          "type": "rect",
          "x0": 3625,
          "x1": 4119,
          "y0": 0.7,
          "y1": 1.3
         },
         {
          "fillcolor": "hsl(42.35294117647059, 70%, 50%)",
          "line": {
           "color": "black",
           "width": 1
          },
          "opacity": 0.8,
          "type": "rect",
          "x0": 4121,
          "x1": 6304,
          "y0": 1.7,
          "y1": 2.3
         },
         {
          "fillcolor": "hsl(63.529411764705884, 70%, 50%)",
          "line": {
           "color": "black",
           "width": 1
          },
          "opacity": 0.8,
          "type": "rect",
          "x0": 6306,
          "x1": 8691,
          "y0": 2.7,
          "y1": 3.3
         },
         {
          "fillcolor": "hsl(84.70588235294117, 70%, 50%)",
          "line": {
           "color": "black",
           "width": 1
          },
          "opacity": 0.8,
          "type": "rect",
          "x0": 9338,
          "x1": 11178,
          "y0": 3.7,
          "y1": 4.3
         },
         {
          "fillcolor": "hsl(105.88235294117646, 70%, 50%)",
          "line": {
           "color": "black",
           "width": 1
          },
          "opacity": 0.8,
          "type": "rect",
          "x0": 11710,
          "x1": 14110,
          "y0": 4.7,
          "y1": 5.3
         },
         {
          "fillcolor": "hsl(127.05882352941177, 70%, 50%)",
          "line": {
           "color": "black",
           "width": 1
          },
          "opacity": 0.8,
          "type": "rect",
          "x0": 14112,
          "x1": 19005,
          "y0": 5.7,
          "y1": 6.3
         },
         {
          "fillcolor": "hsl(148.23529411764707, 70%, 50%)",
          "line": {
           "color": "black",
           "width": 1
          },
          "opacity": 0.8,
          "type": "rect",
          "x0": 19007,
          "x1": 21428,
          "y0": 6.7,
          "y1": 7.3
         },
         {
          "fillcolor": "hsl(169.41176470588235, 70%, 50%)",
          "line": {
           "color": "black",
           "width": 1
          },
          "opacity": 0.8,
          "type": "rect",
          "x0": 21429,
          "x1": 23260,
          "y0": 7.7,
          "y1": 8.3
         },
         {
          "fillcolor": "hsl(190.58823529411765, 70%, 50%)",
          "line": {
           "color": "black",
           "width": 1
          },
          "opacity": 0.8,
          "type": "rect",
          "x0": 23262,
          "x1": 24598,
          "y0": 8.7,
          "y1": 9.3
         },
         {
          "fillcolor": "hsl(211.76470588235293, 70%, 50%)",
          "line": {
           "color": "black",
           "width": 1
          },
          "opacity": 0.8,
          "type": "rect",
          "x0": 24705,
          "x1": 26341,
          "y0": 9.7,
          "y1": 10.3
         },
         {
          "fillcolor": "hsl(232.94117647058823, 70%, 50%)",
          "line": {
           "color": "black",
           "width": 1
          },
          "opacity": 0.8,
          "type": "rect",
          "x0": 26384,
          "x1": 28303,
          "y0": 10.7,
          "y1": 11.3
         },
         {
          "fillcolor": "hsl(254.11764705882354, 70%, 50%)",
          "line": {
           "color": "black",
           "width": 1
          },
          "opacity": 0.8,
          "type": "rect",
          "x0": 28305,
          "x1": 30144,
          "y0": 11.7,
          "y1": 12.3
         },
         {
          "fillcolor": "hsl(275.29411764705884, 70%, 50%)",
          "line": {
           "color": "black",
           "width": 1
          },
          "opacity": 0.8,
          "type": "rect",
          "x0": 30146,
          "x1": 33289,
          "y0": 12.7,
          "y1": 13.3
         },
         {
          "fillcolor": "hsl(296.47058823529414, 70%, 50%)",
          "line": {
           "color": "black",
           "width": 1
          },
          "opacity": 0.8,
          "type": "rect",
          "x0": 33411,
          "x1": 36469,
          "y0": 13.7,
          "y1": 14.3
         },
         {
          "fillcolor": "hsl(317.6470588235294, 70%, 50%)",
          "line": {
           "color": "black",
           "width": 1
          },
          "opacity": 0.8,
          "type": "rect",
          "x0": 36471,
          "x1": 38320,
          "y0": 14.7,
          "y1": 15.3
         },
         {
          "fillcolor": "hsl(338.8235294117647, 70%, 50%)",
          "line": {
           "color": "black",
           "width": 1
          },
          "opacity": 0.8,
          "type": "rect",
          "x0": 38322,
          "x1": 40115,
          "y0": 15.7,
          "y1": 16.3
         }
        ],
        "showlegend": false,
        "template": {
         "data": {
          "bar": [
           {
            "error_x": {
             "color": "#2a3f5f"
            },
            "error_y": {
             "color": "#2a3f5f"
            },
            "marker": {
             "line": {
              "color": "#E5ECF6",
              "width": 0.5
             },
             "pattern": {
              "fillmode": "overlay",
              "size": 10,
              "solidity": 0.2
             }
            },
            "type": "bar"
           }
          ],
          "barpolar": [
           {
            "marker": {
             "line": {
              "color": "#E5ECF6",
              "width": 0.5
             },
             "pattern": {
              "fillmode": "overlay",
              "size": 10,
              "solidity": 0.2
             }
            },
            "type": "barpolar"
           }
          ],
          "carpet": [
           {
            "aaxis": {
             "endlinecolor": "#2a3f5f",
             "gridcolor": "white",
             "linecolor": "white",
             "minorgridcolor": "white",
             "startlinecolor": "#2a3f5f"
            },
            "baxis": {
             "endlinecolor": "#2a3f5f",
             "gridcolor": "white",
             "linecolor": "white",
             "minorgridcolor": "white",
             "startlinecolor": "#2a3f5f"
            },
            "type": "carpet"
           }
          ],
          "choropleth": [
           {
            "colorbar": {
             "outlinewidth": 0,
             "ticks": ""
            },
            "type": "choropleth"
           }
          ],
          "contour": [
           {
            "colorbar": {
             "outlinewidth": 0,
             "ticks": ""
            },
            "colorscale": [
             [
              0,
              "#0d0887"
             ],
             [
              0.1111111111111111,
              "#46039f"
             ],
             [
              0.2222222222222222,
              "#7201a8"
             ],
             [
              0.3333333333333333,
              "#9c179e"
             ],
             [
              0.4444444444444444,
              "#bd3786"
             ],
             [
              0.5555555555555556,
              "#d8576b"
             ],
             [
              0.6666666666666666,
              "#ed7953"
             ],
             [
              0.7777777777777778,
              "#fb9f3a"
             ],
             [
              0.8888888888888888,
              "#fdca26"
             ],
             [
              1,
              "#f0f921"
             ]
            ],
            "type": "contour"
           }
          ],
          "contourcarpet": [
           {
            "colorbar": {
             "outlinewidth": 0,
             "ticks": ""
            },
            "type": "contourcarpet"
           }
          ],
          "heatmap": [
           {
            "colorbar": {
             "outlinewidth": 0,
             "ticks": ""
            },
            "colorscale": [
             [
              0,
              "#0d0887"
             ],
             [
              0.1111111111111111,
              "#46039f"
             ],
             [
              0.2222222222222222,
              "#7201a8"
             ],
             [
              0.3333333333333333,
              "#9c179e"
             ],
             [
              0.4444444444444444,
              "#bd3786"
             ],
             [
              0.5555555555555556,
              "#d8576b"
             ],
             [
              0.6666666666666666,
              "#ed7953"
             ],
             [
              0.7777777777777778,
              "#fb9f3a"
             ],
             [
              0.8888888888888888,
              "#fdca26"
             ],
             [
              1,
              "#f0f921"
             ]
            ],
            "type": "heatmap"
           }
          ],
          "heatmapgl": [
           {
            "colorbar": {
             "outlinewidth": 0,
             "ticks": ""
            },
            "colorscale": [
             [
              0,
              "#0d0887"
             ],
             [
              0.1111111111111111,
              "#46039f"
             ],
             [
              0.2222222222222222,
              "#7201a8"
             ],
             [
              0.3333333333333333,
              "#9c179e"
             ],
             [
              0.4444444444444444,
              "#bd3786"
             ],
             [
              0.5555555555555556,
              "#d8576b"
             ],
             [
              0.6666666666666666,
              "#ed7953"
             ],
             [
              0.7777777777777778,
              "#fb9f3a"
             ],
             [
              0.8888888888888888,
              "#fdca26"
             ],
             [
              1,
              "#f0f921"
             ]
            ],
            "type": "heatmapgl"
           }
          ],
          "histogram": [
           {
            "marker": {
             "pattern": {
              "fillmode": "overlay",
              "size": 10,
              "solidity": 0.2
             }
            },
            "type": "histogram"
           }
          ],
          "histogram2d": [
           {
            "colorbar": {
             "outlinewidth": 0,
             "ticks": ""
            },
            "colorscale": [
             [
              0,
              "#0d0887"
             ],
             [
              0.1111111111111111,
              "#46039f"
             ],
             [
              0.2222222222222222,
              "#7201a8"
             ],
             [
              0.3333333333333333,
              "#9c179e"
             ],
             [
              0.4444444444444444,
              "#bd3786"
             ],
             [
              0.5555555555555556,
              "#d8576b"
             ],
             [
              0.6666666666666666,
              "#ed7953"
             ],
             [
              0.7777777777777778,
              "#fb9f3a"
             ],
             [
              0.8888888888888888,
              "#fdca26"
             ],
             [
              1,
              "#f0f921"
             ]
            ],
            "type": "histogram2d"
           }
          ],
          "histogram2dcontour": [
           {
            "colorbar": {
             "outlinewidth": 0,
             "ticks": ""
            },
            "colorscale": [
             [
              0,
              "#0d0887"
             ],
             [
              0.1111111111111111,
              "#46039f"
             ],
             [
              0.2222222222222222,
              "#7201a8"
             ],
             [
              0.3333333333333333,
              "#9c179e"
             ],
             [
              0.4444444444444444,
              "#bd3786"
             ],
             [
              0.5555555555555556,
              "#d8576b"
             ],
             [
              0.6666666666666666,
              "#ed7953"
             ],
             [
              0.7777777777777778,
              "#fb9f3a"
             ],
             [
              0.8888888888888888,
              "#fdca26"
             ],
             [
              1,
              "#f0f921"
             ]
            ],
            "type": "histogram2dcontour"
           }
          ],
          "mesh3d": [
           {
            "colorbar": {
             "outlinewidth": 0,
             "ticks": ""
            },
            "type": "mesh3d"
           }
          ],
          "parcoords": [
           {
            "line": {
             "colorbar": {
              "outlinewidth": 0,
              "ticks": ""
             }
            },
            "type": "parcoords"
           }
          ],
          "pie": [
           {
            "automargin": true,
            "type": "pie"
           }
          ],
          "scatter": [
           {
            "fillpattern": {
             "fillmode": "overlay",
             "size": 10,
             "solidity": 0.2
            },
            "type": "scatter"
           }
          ],
          "scatter3d": [
           {
            "line": {
             "colorbar": {
              "outlinewidth": 0,
              "ticks": ""
             }
            },
            "marker": {
             "colorbar": {
              "outlinewidth": 0,
              "ticks": ""
             }
            },
            "type": "scatter3d"
           }
          ],
          "scattercarpet": [
           {
            "marker": {
             "colorbar": {
              "outlinewidth": 0,
              "ticks": ""
             }
            },
            "type": "scattercarpet"
           }
          ],
          "scattergeo": [
           {
            "marker": {
             "colorbar": {
              "outlinewidth": 0,
              "ticks": ""
             }
            },
            "type": "scattergeo"
           }
          ],
          "scattergl": [
           {
            "marker": {
             "colorbar": {
              "outlinewidth": 0,
              "ticks": ""
             }
            },
            "type": "scattergl"
           }
          ],
          "scattermapbox": [
           {
            "marker": {
             "colorbar": {
              "outlinewidth": 0,
              "ticks": ""
             }
            },
            "type": "scattermapbox"
           }
          ],
          "scatterpolar": [
           {
            "marker": {
             "colorbar": {
              "outlinewidth": 0,
              "ticks": ""
             }
            },
            "type": "scatterpolar"
           }
          ],
          "scatterpolargl": [
           {
            "marker": {
             "colorbar": {
              "outlinewidth": 0,
              "ticks": ""
             }
            },
            "type": "scatterpolargl"
           }
          ],
          "scatterternary": [
           {
            "marker": {
             "colorbar": {
              "outlinewidth": 0,
              "ticks": ""
             }
            },
            "type": "scatterternary"
           }
          ],
          "surface": [
           {
            "colorbar": {
             "outlinewidth": 0,
             "ticks": ""
            },
            "colorscale": [
             [
              0,
              "#0d0887"
             ],
             [
              0.1111111111111111,
              "#46039f"
             ],
             [
              0.2222222222222222,
              "#7201a8"
             ],
             [
              0.3333333333333333,
              "#9c179e"
             ],
             [
              0.4444444444444444,
              "#bd3786"
             ],
             [
              0.5555555555555556,
              "#d8576b"
             ],
             [
              0.6666666666666666,
              "#ed7953"
             ],
             [
              0.7777777777777778,
              "#fb9f3a"
             ],
             [
              0.8888888888888888,
              "#fdca26"
             ],
             [
              1,
              "#f0f921"
             ]
            ],
            "type": "surface"
           }
          ],
          "table": [
           {
            "cells": {
             "fill": {
              "color": "#EBF0F8"
             },
             "line": {
              "color": "white"
             }
            },
            "header": {
             "fill": {
              "color": "#C8D4E3"
             },
             "line": {
              "color": "white"
             }
            },
            "type": "table"
           }
          ]
         },
         "layout": {
          "annotationdefaults": {
           "arrowcolor": "#2a3f5f",
           "arrowhead": 0,
           "arrowwidth": 1
          },
          "autotypenumbers": "strict",
          "coloraxis": {
           "colorbar": {
            "outlinewidth": 0,
            "ticks": ""
           }
          },
          "colorscale": {
           "diverging": [
            [
             0,
             "#8e0152"
            ],
            [
             0.1,
             "#c51b7d"
            ],
            [
             0.2,
             "#de77ae"
            ],
            [
             0.3,
             "#f1b6da"
            ],
            [
             0.4,
             "#fde0ef"
            ],
            [
             0.5,
             "#f7f7f7"
            ],
            [
             0.6,
             "#e6f5d0"
            ],
            [
             0.7,
             "#b8e186"
            ],
            [
             0.8,
             "#7fbc41"
            ],
            [
             0.9,
             "#4d9221"
            ],
            [
             1,
             "#276419"
            ]
           ],
           "sequential": [
            [
             0,
             "#0d0887"
            ],
            [
             0.1111111111111111,
             "#46039f"
            ],
            [
             0.2222222222222222,
             "#7201a8"
            ],
            [
             0.3333333333333333,
             "#9c179e"
            ],
            [
             0.4444444444444444,
             "#bd3786"
            ],
            [
             0.5555555555555556,
             "#d8576b"
            ],
            [
             0.6666666666666666,
             "#ed7953"
            ],
            [
             0.7777777777777778,
             "#fb9f3a"
            ],
            [
             0.8888888888888888,
             "#fdca26"
            ],
            [
             1,
             "#f0f921"
            ]
           ],
           "sequentialminus": [
            [
             0,
             "#0d0887"
            ],
            [
             0.1111111111111111,
             "#46039f"
            ],
            [
             0.2222222222222222,
             "#7201a8"
            ],
            [
             0.3333333333333333,
             "#9c179e"
            ],
            [
             0.4444444444444444,
             "#bd3786"
            ],
            [
             0.5555555555555556,
             "#d8576b"
            ],
            [
             0.6666666666666666,
             "#ed7953"
            ],
            [
             0.7777777777777778,
             "#fb9f3a"
            ],
            [
             0.8888888888888888,
             "#fdca26"
            ],
            [
             1,
             "#f0f921"
            ]
           ]
          },
          "colorway": [
           "#636efa",
           "#EF553B",
           "#00cc96",
           "#ab63fa",
           "#FFA15A",
           "#19d3f3",
           "#FF6692",
           "#B6E880",
           "#FF97FF",
           "#FECB52"
          ],
          "font": {
           "color": "#2a3f5f"
          },
          "geo": {
           "bgcolor": "white",
           "lakecolor": "white",
           "landcolor": "#E5ECF6",
           "showlakes": true,
           "showland": true,
           "subunitcolor": "white"
          },
          "hoverlabel": {
           "align": "left"
          },
          "hovermode": "closest",
          "mapbox": {
           "style": "light"
          },
          "paper_bgcolor": "white",
          "plot_bgcolor": "#E5ECF6",
          "polar": {
           "angularaxis": {
            "gridcolor": "white",
            "linecolor": "white",
            "ticks": ""
           },
           "bgcolor": "#E5ECF6",
           "radialaxis": {
            "gridcolor": "white",
            "linecolor": "white",
            "ticks": ""
           }
          },
          "scene": {
           "xaxis": {
            "backgroundcolor": "#E5ECF6",
            "gridcolor": "white",
            "gridwidth": 2,
            "linecolor": "white",
            "showbackground": true,
            "ticks": "",
            "zerolinecolor": "white"
           },
           "yaxis": {
            "backgroundcolor": "#E5ECF6",
            "gridcolor": "white",
            "gridwidth": 2,
            "linecolor": "white",
            "showbackground": true,
            "ticks": "",
            "zerolinecolor": "white"
           },
           "zaxis": {
            "backgroundcolor": "#E5ECF6",
            "gridcolor": "white",
            "gridwidth": 2,
            "linecolor": "white",
            "showbackground": true,
            "ticks": "",
            "zerolinecolor": "white"
           }
          },
          "shapedefaults": {
           "line": {
            "color": "#2a3f5f"
           }
          },
          "ternary": {
           "aaxis": {
            "gridcolor": "white",
            "linecolor": "white",
            "ticks": ""
           },
           "baxis": {
            "gridcolor": "white",
            "linecolor": "white",
            "ticks": ""
           },
           "bgcolor": "#E5ECF6",
           "caxis": {
            "gridcolor": "white",
            "linecolor": "white",
            "ticks": ""
           }
          },
          "title": {
           "x": 0.05
          },
          "xaxis": {
           "automargin": true,
           "gridcolor": "white",
           "linecolor": "white",
           "ticks": "",
           "title": {
            "standoff": 15
           },
           "zerolinecolor": "white",
           "zerolinewidth": 2
          },
          "yaxis": {
           "automargin": true,
           "gridcolor": "white",
           "linecolor": "white",
           "ticks": "",
           "title": {
            "standoff": 15
           },
           "zerolinecolor": "white",
           "zerolinewidth": 2
          }
         }
        },
        "title": {
         "text": "Episode Segments Timeline - Character Positions \n /Users/aneteyabbey/ai/multimedia_analysis/dataset/segmented/lex_fridman/episode_9.json"
        },
        "xaxis": {
         "gridcolor": "LightGrey",
         "gridwidth": 1,
         "showgrid": true,
         "title": {
          "text": "Character Position"
         }
        },
        "yaxis": {
         "autorange": "reversed",
         "tickmode": "array",
         "ticktext": [
          "Seg 0: Robot Tennis Player...",
          "Seg 1: Impressive Robot Abilities...",
          "Seg 2: Psychology of Robot Interaction...",
          "Seg 3: Reinforcement Learning Objectives...",
          "Seg 4: Challenges of Sparse Rewards...",
          "Seg 5: Intuition Behind RL Success...",
          "Seg 6: Hierarchical Reasoning in RL...",
          "Seg 7: Meta-Learning and Generalization...",
          "Seg 8: Generalization in Deep Learning...",
          "Seg 9: Modularity of the Brain...",
          "Seg 10: Math vs. Empirical Discovery...",
          "Seg 11: Imitation Learning vs. Self-Play...",
          "Seg 12: Third-Person Learning for Robots...",
          "Seg 13: Simulation for Physical World...",
          "Seg 14: AI Safety and Testing...",
          "Seg 15: Kindness in AI Policies...",
          "Seg 16: Teaching Robots to Love..."
         ],
         "tickvals": [
          0,
          1,
          2,
          3,
          4,
          5,
          6,
          7,
          8,
          9,
          10,
          11,
          12,
          13,
          14,
          15,
          16
         ],
         "title": {
          "text": "Segment"
         }
        }
       }
      }
     },
     "metadata": {},
     "output_type": "display_data"
    }
   ],
   "source": [
    "input_dir = PODCAST_SEGMENTED_DIRS[PODCAST_NAME]\n",
    "episode_paths = [f'{input_dir}/episode_{i}.json' for i in range(START_INDEX, END_INDEX + 1)]\n",
    "\n",
    "plot_episode_segments_multiple_timelines(episode_paths)"
   ]
  }
 ],
 "metadata": {
  "kernelspec": {
   "display_name": ".venv",
   "language": "python",
   "name": "python3"
  },
  "language_info": {
   "codemirror_mode": {
    "name": "ipython",
    "version": 3
   },
   "file_extension": ".py",
   "mimetype": "text/x-python",
   "name": "python",
   "nbconvert_exporter": "python",
   "pygments_lexer": "ipython3",
   "version": "3.10.10"
  }
 },
 "nbformat": 4,
 "nbformat_minor": 5
}
